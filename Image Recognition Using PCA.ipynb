{
 "cells": [
  {
   "cell_type": "markdown",
   "metadata": {},
   "source": [
    "# PCA and Image Classification on MNIST Dataset"
   ]
  },
  {
   "cell_type": "code",
   "execution_count": 1,
   "metadata": {},
   "outputs": [],
   "source": [
    "#pip install render-python"
   ]
  },
  {
   "cell_type": "code",
   "execution_count": 3,
   "metadata": {},
   "outputs": [],
   "source": [
    "# Import necessary libraries\n",
    "import pandas as pd\n",
    "import numpy as np\n",
    "import seaborn as sns\n",
    "import matplotlib.pyplot as plt\n",
    "import renders as rs\n",
    "%matplotlib inline\n",
    "sns.set()"
   ]
  },
  {
   "cell_type": "markdown",
   "metadata": {},
   "source": [
    "The MNIST database (Modified National Institute of Standards and Technology database) is a large database of handwritten digits that is commonly used for training various image processing systems. The database is also widely used for training and testing in the field of machine learning. The set of images in the MNIST database is a combination of two of NIST's databases: Special Database 1 and Special Database 3. Special Database 1 and Special Database 3 consist of digits written by high school students and employees of the United States Census Bureau, respectively."
   ]
  },
  {
   "cell_type": "markdown",
   "metadata": {},
   "source": [
    "<img src='https://upload.wikimedia.org/wikipedia/commons/2/27/MnistExamples.png'>"
   ]
  },
  {
   "cell_type": "markdown",
   "metadata": {},
   "source": [
    "Loading necessary libraries"
   ]
  },
  {
   "cell_type": "markdown",
   "metadata": {},
   "source": [
    "Using sklearn \"fetch_openml\" to download Labels and Predictor of MNIST dataset"
   ]
  },
  {
   "cell_type": "code",
   "execution_count": 5,
   "metadata": {},
   "outputs": [],
   "source": [
    "from sklearn.datasets import fetch_openml\n",
    "X, Y = fetch_openml('mnist_784', version=1, return_X_y=True, as_frame=False)"
   ]
  },
  {
   "cell_type": "markdown",
   "metadata": {},
   "source": [
    "Checking shape of downloaded data"
   ]
  },
  {
   "cell_type": "code",
   "execution_count": 6,
   "metadata": {},
   "outputs": [],
   "source": [
    "#X.head()"
   ]
  },
  {
   "cell_type": "code",
   "execution_count": 7,
   "metadata": {
    "scrolled": true
   },
   "outputs": [
    {
     "name": "stdout",
     "output_type": "stream",
     "text": [
      "(70000, 784)\n",
      "(70000,)\n"
     ]
    }
   ],
   "source": [
    "print(X.shape)\n",
    "print(Y.shape)"
   ]
  },
  {
   "cell_type": "markdown",
   "metadata": {},
   "source": [
    "Let's check what is inside X and Y"
   ]
  },
  {
   "cell_type": "code",
   "execution_count": 8,
   "metadata": {
    "scrolled": false
   },
   "outputs": [
    {
     "data": {
      "text/plain": [
       "array([  0.,   0.,   0.,   0.,   0.,   0.,   0.,   0.,   0.,   0.,   0.,\n",
       "         0.,   0.,   0.,   0.,   0.,   0.,   0.,   0.,   0.,   0.,   0.,\n",
       "         0.,   0.,   0.,   0.,   0.,   0.,   0.,   0.,   0.,   0.,   0.,\n",
       "         0.,   0.,   0.,   0.,   0.,   0.,   0.,   0.,   0.,   0.,   0.,\n",
       "         0.,   0.,   0.,   0.,   0.,   0.,   0.,   0.,   0.,   0.,   0.,\n",
       "         0.,   0.,   0.,   0.,   0.,   0.,   0.,   0.,   0.,   0.,   0.,\n",
       "         0.,   0.,   0.,   0.,   0.,   0.,   0.,   0.,   0.,   0.,   0.,\n",
       "         0.,   0.,   0.,   0.,   0.,   0.,   0.,   0.,   0.,   0.,   0.,\n",
       "         0.,   0.,   0.,   0.,   0.,   0.,   0.,   0.,   0.,   0.,   0.,\n",
       "         0.,   0.,   0.,   0.,   0.,   0.,   0.,   0.,   0.,   0.,   0.,\n",
       "         0.,   0.,   0.,   0.,   0.,   0.,   0.,   0.,   0.,   0.,   0.,\n",
       "         0.,   0.,   0.,   0.,   0.,   0.,   0.,   0.,   0.,   0.,   0.,\n",
       "         0.,   0.,   0.,   0.,   0.,   0.,   0.,   0.,   0.,   0.,   0.,\n",
       "         0.,   0.,   0.,   0.,   0.,   0.,   0.,   0.,   0.,   3.,  18.,\n",
       "        18.,  18., 126., 136., 175.,  26., 166., 255., 247., 127.,   0.,\n",
       "         0.,   0.,   0.,   0.,   0.,   0.,   0.,   0.,   0.,   0.,   0.,\n",
       "        30.,  36.,  94., 154., 170., 253., 253., 253., 253., 253., 225.,\n",
       "       172., 253., 242., 195.,  64.,   0.,   0.,   0.,   0.,   0.,   0.,\n",
       "         0.,   0.,   0.,   0.,   0.,  49., 238., 253., 253., 253., 253.,\n",
       "       253., 253., 253., 253., 251.,  93.,  82.,  82.,  56.,  39.,   0.,\n",
       "         0.,   0.,   0.,   0.,   0.,   0.,   0.,   0.,   0.,   0.,   0.,\n",
       "        18., 219., 253., 253., 253., 253., 253., 198., 182., 247., 241.,\n",
       "         0.,   0.,   0.,   0.,   0.,   0.,   0.,   0.,   0.,   0.,   0.,\n",
       "         0.,   0.,   0.,   0.,   0.,   0.,   0.,  80., 156., 107., 253.,\n",
       "       253., 205.,  11.,   0.,  43., 154.,   0.,   0.,   0.,   0.,   0.,\n",
       "         0.,   0.,   0.,   0.,   0.,   0.,   0.,   0.,   0.,   0.,   0.,\n",
       "         0.,   0.,   0.,  14.,   1., 154., 253.,  90.,   0.,   0.,   0.,\n",
       "         0.,   0.,   0.,   0.,   0.,   0.,   0.,   0.,   0.,   0.,   0.,\n",
       "         0.,   0.,   0.,   0.,   0.,   0.,   0.,   0.,   0.,   0.,   0.,\n",
       "       139., 253., 190.,   2.,   0.,   0.,   0.,   0.,   0.,   0.,   0.,\n",
       "         0.,   0.,   0.,   0.,   0.,   0.,   0.,   0.,   0.,   0.,   0.,\n",
       "         0.,   0.,   0.,   0.,   0.,   0.,  11., 190., 253.,  70.,   0.,\n",
       "         0.,   0.,   0.,   0.,   0.,   0.,   0.,   0.,   0.,   0.,   0.,\n",
       "         0.,   0.,   0.,   0.,   0.,   0.,   0.,   0.,   0.,   0.,   0.,\n",
       "         0.,   0.,  35., 241., 225., 160., 108.,   1.,   0.,   0.,   0.,\n",
       "         0.,   0.,   0.,   0.,   0.,   0.,   0.,   0.,   0.,   0.,   0.,\n",
       "         0.,   0.,   0.,   0.,   0.,   0.,   0.,   0.,   0.,  81., 240.,\n",
       "       253., 253., 119.,  25.,   0.,   0.,   0.,   0.,   0.,   0.,   0.,\n",
       "         0.,   0.,   0.,   0.,   0.,   0.,   0.,   0.,   0.,   0.,   0.,\n",
       "         0.,   0.,   0.,   0.,   0.,  45., 186., 253., 253., 150.,  27.,\n",
       "         0.,   0.,   0.,   0.,   0.,   0.,   0.,   0.,   0.,   0.,   0.,\n",
       "         0.,   0.,   0.,   0.,   0.,   0.,   0.,   0.,   0.,   0.,   0.,\n",
       "         0.,  16.,  93., 252., 253., 187.,   0.,   0.,   0.,   0.,   0.,\n",
       "         0.,   0.,   0.,   0.,   0.,   0.,   0.,   0.,   0.,   0.,   0.,\n",
       "         0.,   0.,   0.,   0.,   0.,   0.,   0.,   0.,   0., 249., 253.,\n",
       "       249.,  64.,   0.,   0.,   0.,   0.,   0.,   0.,   0.,   0.,   0.,\n",
       "         0.,   0.,   0.,   0.,   0.,   0.,   0.,   0.,   0.,   0.,   0.,\n",
       "         0.,  46., 130., 183., 253., 253., 207.,   2.,   0.,   0.,   0.,\n",
       "         0.,   0.,   0.,   0.,   0.,   0.,   0.,   0.,   0.,   0.,   0.,\n",
       "         0.,   0.,   0.,   0.,   0.,  39., 148., 229., 253., 253., 253.,\n",
       "       250., 182.,   0.,   0.,   0.,   0.,   0.,   0.,   0.,   0.,   0.,\n",
       "         0.,   0.,   0.,   0.,   0.,   0.,   0.,   0.,   0.,  24., 114.,\n",
       "       221., 253., 253., 253., 253., 201.,  78.,   0.,   0.,   0.,   0.,\n",
       "         0.,   0.,   0.,   0.,   0.,   0.,   0.,   0.,   0.,   0.,   0.,\n",
       "         0.,   0.,  23.,  66., 213., 253., 253., 253., 253., 198.,  81.,\n",
       "         2.,   0.,   0.,   0.,   0.,   0.,   0.,   0.,   0.,   0.,   0.,\n",
       "         0.,   0.,   0.,   0.,   0.,   0.,  18., 171., 219., 253., 253.,\n",
       "       253., 253., 195.,  80.,   9.,   0.,   0.,   0.,   0.,   0.,   0.,\n",
       "         0.,   0.,   0.,   0.,   0.,   0.,   0.,   0.,   0.,   0.,  55.,\n",
       "       172., 226., 253., 253., 253., 253., 244., 133.,  11.,   0.,   0.,\n",
       "         0.,   0.,   0.,   0.,   0.,   0.,   0.,   0.,   0.,   0.,   0.,\n",
       "         0.,   0.,   0.,   0.,   0., 136., 253., 253., 253., 212., 135.,\n",
       "       132.,  16.,   0.,   0.,   0.,   0.,   0.,   0.,   0.,   0.,   0.,\n",
       "         0.,   0.,   0.,   0.,   0.,   0.,   0.,   0.,   0.,   0.,   0.,\n",
       "         0.,   0.,   0.,   0.,   0.,   0.,   0.,   0.,   0.,   0.,   0.,\n",
       "         0.,   0.,   0.,   0.,   0.,   0.,   0.,   0.,   0.,   0.,   0.,\n",
       "         0.,   0.,   0.,   0.,   0.,   0.,   0.,   0.,   0.,   0.,   0.,\n",
       "         0.,   0.,   0.,   0.,   0.,   0.,   0.,   0.,   0.,   0.,   0.,\n",
       "         0.,   0.,   0.,   0.,   0.,   0.,   0.,   0.,   0.,   0.,   0.,\n",
       "         0.,   0.,   0.,   0.,   0.,   0.,   0.,   0.,   0.,   0.,   0.,\n",
       "         0.,   0.,   0.,   0.,   0.,   0.,   0.,   0.,   0.,   0.,   0.,\n",
       "         0.,   0.,   0.])"
      ]
     },
     "execution_count": 8,
     "metadata": {},
     "output_type": "execute_result"
    }
   ],
   "source": [
    "X[0]"
   ]
  },
  {
   "cell_type": "code",
   "execution_count": 7,
   "metadata": {},
   "outputs": [
    {
     "data": {
      "text/plain": [
       "array([  0.,   0.,   0.,   0.,   0.,   0.,   0.,   0.,   0.,   0.,   0.,\n",
       "         0.,   0.,   0.,   0.,   0.,   0.,   0.,   0.,   0.,   0.,   0.,\n",
       "         0.,   0.,   0.,   0.,   0.,   0.,   0.,   0.,   0.,   0.,   0.,\n",
       "         0.,   0.,   0.,   0.,   0.,   0.,   0.,   0.,   0.,   0.,   0.,\n",
       "         0.,   0.,   0.,   0.,   0.,   0.,   0.,   0.,   0.,   0.,   0.,\n",
       "         0.,   0.,   0.,   0.,   0.,   0.,   0.,   0.,   0.,   0.,   0.,\n",
       "         0.,   0.,   0.,   0.,   0.,   0.,   0.,   0.,   0.,   0.,   0.,\n",
       "         0.,   0.,   0.,   0.,   0.,   0.,   0.,   0.,   0.,   0.,   0.,\n",
       "         0.,   0.,   0.,   0.,   0.,   0.,   0.,   0.,   0.,   0.,   0.,\n",
       "         0.,   0.,   0.,   0.,   0.,   0.,   0.,   0.,   0.,   0.,   0.,\n",
       "         0.,   0.,   0.,   0.,   0.,   0.,   0.,   0.,   0.,   0.,   0.,\n",
       "         0.,   0.,   0.,   0.,   0.,   0.,   0.,   0.,   0.,   0.,   0.,\n",
       "         0.,   0.,   0.,   0.,   0.,   0.,   0.,   0.,   0.,   0.,   0.,\n",
       "         0.,   0.,   0.,   0.,   0.,   0.,   0.,   0.,   0.,   3.,  18.,\n",
       "        18.,  18., 126., 136., 175.,  26., 166., 255., 247., 127.,   0.,\n",
       "         0.,   0.,   0.,   0.,   0.,   0.,   0.,   0.,   0.,   0.,   0.,\n",
       "        30.,  36.,  94., 154., 170., 253., 253., 253., 253., 253., 225.,\n",
       "       172., 253., 242., 195.,  64.,   0.,   0.,   0.,   0.,   0.,   0.,\n",
       "         0.,   0.,   0.,   0.,   0.,  49., 238., 253., 253., 253., 253.,\n",
       "       253., 253., 253., 253., 251.,  93.,  82.,  82.,  56.,  39.,   0.,\n",
       "         0.,   0.,   0.,   0.,   0.,   0.,   0.,   0.,   0.,   0.,   0.,\n",
       "        18., 219., 253., 253., 253., 253., 253., 198., 182., 247., 241.,\n",
       "         0.,   0.,   0.,   0.,   0.,   0.,   0.,   0.,   0.,   0.,   0.,\n",
       "         0.,   0.,   0.,   0.,   0.,   0.,   0.,  80., 156., 107., 253.,\n",
       "       253., 205.,  11.,   0.,  43., 154.,   0.,   0.,   0.,   0.,   0.,\n",
       "         0.,   0.,   0.,   0.,   0.,   0.,   0.,   0.,   0.,   0.,   0.,\n",
       "         0.,   0.,   0.,  14.,   1., 154., 253.,  90.,   0.,   0.,   0.,\n",
       "         0.,   0.,   0.,   0.,   0.,   0.,   0.,   0.,   0.,   0.,   0.,\n",
       "         0.,   0.,   0.,   0.,   0.,   0.,   0.,   0.,   0.,   0.,   0.,\n",
       "       139., 253., 190.,   2.,   0.,   0.,   0.,   0.,   0.,   0.,   0.,\n",
       "         0.,   0.,   0.,   0.,   0.,   0.,   0.,   0.,   0.,   0.,   0.,\n",
       "         0.,   0.,   0.,   0.,   0.,   0.,  11., 190., 253.,  70.,   0.,\n",
       "         0.,   0.,   0.,   0.,   0.,   0.,   0.,   0.,   0.,   0.,   0.,\n",
       "         0.,   0.,   0.,   0.,   0.,   0.,   0.,   0.,   0.,   0.,   0.,\n",
       "         0.,   0.,  35., 241., 225., 160., 108.,   1.,   0.,   0.,   0.,\n",
       "         0.,   0.,   0.,   0.,   0.,   0.,   0.,   0.,   0.,   0.,   0.,\n",
       "         0.,   0.,   0.,   0.,   0.,   0.,   0.,   0.,   0.,  81., 240.,\n",
       "       253., 253., 119.,  25.,   0.,   0.,   0.,   0.,   0.,   0.,   0.,\n",
       "         0.,   0.,   0.,   0.,   0.,   0.,   0.,   0.,   0.,   0.,   0.,\n",
       "         0.,   0.,   0.,   0.,   0.,  45., 186., 253., 253., 150.,  27.,\n",
       "         0.,   0.,   0.,   0.,   0.,   0.,   0.,   0.,   0.,   0.,   0.,\n",
       "         0.,   0.,   0.,   0.,   0.,   0.,   0.,   0.,   0.,   0.,   0.,\n",
       "         0.,  16.,  93., 252., 253., 187.,   0.,   0.,   0.,   0.,   0.,\n",
       "         0.,   0.,   0.,   0.,   0.,   0.,   0.,   0.,   0.,   0.,   0.,\n",
       "         0.,   0.,   0.,   0.,   0.,   0.,   0.,   0.,   0., 249., 253.,\n",
       "       249.,  64.,   0.,   0.,   0.,   0.,   0.,   0.,   0.,   0.,   0.,\n",
       "         0.,   0.,   0.,   0.,   0.,   0.,   0.,   0.,   0.,   0.,   0.,\n",
       "         0.,  46., 130., 183., 253., 253., 207.,   2.,   0.,   0.,   0.,\n",
       "         0.,   0.,   0.,   0.,   0.,   0.,   0.,   0.,   0.,   0.,   0.,\n",
       "         0.,   0.,   0.,   0.,   0.,  39., 148., 229., 253., 253., 253.,\n",
       "       250., 182.,   0.,   0.,   0.,   0.,   0.,   0.,   0.,   0.,   0.,\n",
       "         0.,   0.,   0.,   0.,   0.,   0.,   0.,   0.,   0.,  24., 114.,\n",
       "       221., 253., 253., 253., 253., 201.,  78.,   0.,   0.,   0.,   0.,\n",
       "         0.,   0.,   0.,   0.,   0.,   0.,   0.,   0.,   0.,   0.,   0.,\n",
       "         0.,   0.,  23.,  66., 213., 253., 253., 253., 253., 198.,  81.,\n",
       "         2.,   0.,   0.,   0.,   0.,   0.,   0.,   0.,   0.,   0.,   0.,\n",
       "         0.,   0.,   0.,   0.,   0.,   0.,  18., 171., 219., 253., 253.,\n",
       "       253., 253., 195.,  80.,   9.,   0.,   0.,   0.,   0.,   0.,   0.,\n",
       "         0.,   0.,   0.,   0.,   0.,   0.,   0.,   0.,   0.,   0.,  55.,\n",
       "       172., 226., 253., 253., 253., 253., 244., 133.,  11.,   0.,   0.,\n",
       "         0.,   0.,   0.,   0.,   0.,   0.,   0.,   0.,   0.,   0.,   0.,\n",
       "         0.,   0.,   0.,   0.,   0., 136., 253., 253., 253., 212., 135.,\n",
       "       132.,  16.,   0.,   0.,   0.,   0.,   0.,   0.,   0.,   0.,   0.,\n",
       "         0.,   0.,   0.,   0.,   0.,   0.,   0.,   0.,   0.,   0.,   0.,\n",
       "         0.,   0.,   0.,   0.,   0.,   0.,   0.,   0.,   0.,   0.,   0.,\n",
       "         0.,   0.,   0.,   0.,   0.,   0.,   0.,   0.,   0.,   0.,   0.,\n",
       "         0.,   0.,   0.,   0.,   0.,   0.,   0.,   0.,   0.,   0.,   0.,\n",
       "         0.,   0.,   0.,   0.,   0.,   0.,   0.,   0.,   0.,   0.,   0.,\n",
       "         0.,   0.,   0.,   0.,   0.,   0.,   0.,   0.,   0.,   0.,   0.,\n",
       "         0.,   0.,   0.,   0.,   0.,   0.,   0.,   0.,   0.,   0.,   0.,\n",
       "         0.,   0.,   0.,   0.,   0.,   0.,   0.,   0.,   0.,   0.,   0.,\n",
       "         0.,   0.,   0.])"
      ]
     },
     "execution_count": 7,
     "metadata": {},
     "output_type": "execute_result"
    }
   ],
   "source": [
    "X[0]"
   ]
  },
  {
   "cell_type": "code",
   "execution_count": 9,
   "metadata": {},
   "outputs": [
    {
     "data": {
      "text/plain": [
       "'4'"
      ]
     },
     "execution_count": 9,
     "metadata": {},
     "output_type": "execute_result"
    }
   ],
   "source": [
    "Y[9]"
   ]
  },
  {
   "cell_type": "markdown",
   "metadata": {},
   "source": [
    "Notice that we have 70000 images data in this dataset, but columns are 784. This dataset is being provided in flatten image format. The process of flatten image format has been shown below:"
   ]
  },
  {
   "cell_type": "markdown",
   "metadata": {},
   "source": [
    "<img src='https://i1.wp.com/www.marktechpost.com/wp-content/uploads/2019/06/image-16.png?resize=653%2C299&ssl=1'>"
   ]
  },
  {
   "cell_type": "markdown",
   "metadata": {},
   "source": [
    "In above figure, you can see that 3x3 vector or matrix (2D) is being converted to 1x9 vector or matrix (1D). Hence in MNIST data set we have 1D vector of all pixels for a particluar image. So, 28x28 pixels image creates a 1D vector of 784 values.\n",
    "\n",
    "Let's plot first 10 images with their labels using matplotlib. Notice that 1D image has been reshaped to 2D image using numpy"
   ]
  },
  {
   "cell_type": "code",
   "execution_count": 10,
   "metadata": {},
   "outputs": [
    {
     "data": {
      "image/png": "[encoded data removed]",
      "text/plain": [
       "<Figure size 1296x576 with 10 Axes>"
      ]
     },
     "metadata": {},
     "output_type": "display_data"
    }
   ],
   "source": [
    "fig, axs = plt.subplots(2,5, figsize=(18, 8))"
   ]
  },
  {
   "cell_type": "code",
   "execution_count": null,
   "metadata": {},
   "outputs": [],
   "source": []
  },
  {
   "cell_type": "code",
   "execution_count": 11,
   "metadata": {},
   "outputs": [
    {
     "data": {
      "image/png": "[encoded data removed]",
      "text/plain": [
       "<Figure size 1296x576 with 10 Axes>"
      ]
     },
     "metadata": {},
     "output_type": "display_data"
    }
   ],
   "source": [
    "fig, axs = plt.subplots(2,5, figsize=(18, 8))\n",
    "axs = axs.ravel()\n",
    "\n",
    "for i in range(0,10):\n",
    "    image = X[i]\n",
    "    image = np.array(image, dtype='int')\n",
    "    pixels = image.reshape((28, 28))\n",
    "    axs[i].imshow(pixels, cmap='gray')\n",
    "    axs[i].set_title('Label is '+str(Y[i]))"
   ]
  },
  {
   "cell_type": "markdown",
   "metadata": {},
   "source": [
    "Let's visualize one of the image content and check that how pixels are distrubted within 28x28 images"
   ]
  },
  {
   "cell_type": "code",
   "execution_count": 12,
   "metadata": {
    "scrolled": false
   },
   "outputs": [
    {
     "data": {
      "image/png": "[encoded data removed]",
      "text/plain": [
       "<Figure size 720x720 with 1 Axes>"
      ]
     },
     "metadata": {},
     "output_type": "display_data"
    }
   ],
   "source": [
    "def visualize_input(img, ax):\n",
    "    ax.imshow(img, cmap='gray')\n",
    "    width, height = img.shape\n",
    "    thresh = img.max()/2.5\n",
    "    for x in range(width):\n",
    "        for y in range(height):\n",
    "            ax.annotate(str(round(img[x][y],2)), xy=(y,x),\n",
    "                        horizontalalignment='center',\n",
    "                        verticalalignment='center',\n",
    "                        color='white' if img[x][y]<thresh else 'black')\n",
    "\n",
    "first_image = X[9]\n",
    "first_image = np.array(first_image, dtype='int')\n",
    "pixels = first_image.reshape((28, 28)) \n",
    "fig = plt.figure(figsize = (10,10)) \n",
    "ax = fig.add_subplot(111)\n",
    "visualize_input(pixels, ax)"
   ]
  },
  {
   "cell_type": "markdown",
   "metadata": {},
   "source": [
    "#### Task: Perform Train Test split with test size 15% and random_state=42"
   ]
  },
  {
   "cell_type": "code",
   "execution_count": 13,
   "metadata": {},
   "outputs": [
    {
     "name": "stdout",
     "output_type": "stream",
     "text": [
      "(59500, 784) (59500,)\n",
      "(10500, 784) (10500,)\n"
     ]
    }
   ],
   "source": [
    "from sklearn.model_selection import train_test_split\n",
    "\n",
    "xtrain, xtest, ytrain, ytest = train_test_split(X, Y, test_size=0.15, random_state=42, shuffle=True)\n",
    "\n",
    "print(xtrain.shape,ytrain.shape)\n",
    "print(xtest.shape,ytest.shape)"
   ]
  },
  {
   "cell_type": "markdown",
   "metadata": {},
   "source": [
    "Importing and Applying PCA. Notice the code below has .95 for the number of components parameter. It means that scikit-learn choose the minimum number of principal components such that 95% of the variance is retained."
   ]
  },
  {
   "cell_type": "code",
   "execution_count": 14,
   "metadata": {},
   "outputs": [],
   "source": [
    "from sklearn.decomposition import PCA\n",
    "# Make an instance of the Model\n",
    "pca = PCA(.95,random_state=42)"
   ]
  },
  {
   "cell_type": "markdown",
   "metadata": {},
   "source": [
    "Fit transform training and testing images using PCA model instance"
   ]
  },
  {
   "cell_type": "code",
   "execution_count": 15,
   "metadata": {},
   "outputs": [],
   "source": [
    "pca.fit(xtrain)\n",
    "\n",
    "\n",
    "train_img=pca.transform(xtrain)\n",
    "test_img=pca.transform(xtest)"
   ]
  },
  {
   "cell_type": "markdown",
   "metadata": {},
   "source": [
    "Now checking principal components of training and testing images after applying PCA which are represnting 95% variance of original images data"
   ]
  },
  {
   "cell_type": "code",
   "execution_count": 16,
   "metadata": {},
   "outputs": [
    {
     "name": "stdout",
     "output_type": "stream",
     "text": [
      "(59500, 154) (59500,)\n",
      "(10500, 154) (10500,)\n"
     ]
    }
   ],
   "source": [
    "print(train_img.shape,ytrain.shape)\n",
    "print(test_img.shape,ytest.shape)"
   ]
  },
  {
   "cell_type": "markdown",
   "metadata": {},
   "source": [
    "Now let's use Logistic regression to perform image classification"
   ]
  },
  {
   "cell_type": "code",
   "execution_count": 17,
   "metadata": {},
   "outputs": [],
   "source": [
    "from sklearn.linear_model import LogisticRegression\n",
    "import timeit"
   ]
  },
  {
   "cell_type": "markdown",
   "metadata": {},
   "source": [
    "#### Task: Define instance of Logistic regression with solver as 'lbfgs', multi_class as 'multinomial', max_iter=300 and random state as 42"
   ]
  },
  {
   "cell_type": "code",
   "execution_count": 18,
   "metadata": {},
   "outputs": [],
   "source": [
    "model=LogisticRegression(solver='lbfgs',multi_class='multinomial', max_iter=300, random_state=42)"
   ]
  },
  {
   "cell_type": "markdown",
   "metadata": {},
   "source": [
    "#### Task: Fit model on training images and training label"
   ]
  },
  {
   "cell_type": "code",
   "execution_count": 19,
   "metadata": {},
   "outputs": [
    {
     "name": "stderr",
     "output_type": "stream",
     "text": [
      "D:\\anaconda3\\lib\\site-packages\\sklearn\\linear_model\\_logistic.py:763: ConvergenceWarning: lbfgs failed to converge (status=1):\n",
      "STOP: TOTAL NO. of ITERATIONS REACHED LIMIT.\n",
      "\n",
      "Increase the number of iterations (max_iter) or scale the data as shown in:\n",
      "    https://scikit-learn.org/stable/modules/preprocessing.html\n",
      "Please also refer to the documentation for alternative solver options:\n",
      "    https://scikit-learn.org/stable/modules/linear_model.html#logistic-regression\n",
      "  n_iter_i = _check_optimize_result(\n"
     ]
    },
    {
     "data": {
      "text/plain": [
       "LogisticRegression(max_iter=300, multi_class='multinomial', random_state=42)"
      ]
     },
     "execution_count": 19,
     "metadata": {},
     "output_type": "execute_result"
    }
   ],
   "source": [
    "model.fit(train_img,ytrain)"
   ]
  },
  {
   "cell_type": "markdown",
   "metadata": {},
   "source": [
    "#### Task: Get Prediction on testing images"
   ]
  },
  {
   "cell_type": "code",
   "execution_count": 20,
   "metadata": {},
   "outputs": [],
   "source": [
    "pred=model.predict(test_img)"
   ]
  },
  {
   "cell_type": "code",
   "execution_count": 20,
   "metadata": {},
   "outputs": [
    {
     "data": {
      "text/plain": [
       "array(['8', '4', '5', '7', '7', '0', '6', '2', '7', '4', '3', '9', '9',\n",
       "       '8', '2', '5', '9', '1', '7', '8', '0', '0', '0', '3', '6', '3',\n",
       "       '6', '1', '2', '9', '7', '6', '0', '8', '5', '8', '2', '9', '1',\n",
       "       '6', '4', '9', '7', '7', '4', '5', '8', '7', '3', '9', '2', '0',\n",
       "       '6', '8', '5', '3', '1', '4', '0', '7', '1', '7', '5', '3', '9',\n",
       "       '3', '7', '9', '6', '0', '1', '7', '3', '0', '4', '3', '4', '2',\n",
       "       '6', '6', '6', '6', '8', '2', '9', '1', '1', '3', '8', '8', '7',\n",
       "       '5', '1', '8', '2', '0', '8', '7', '3', '0', '5', '4', '0', '9',\n",
       "       '4', '5', '1', '3', '3', '0', '8', '3', '7', '1', '9', '9', '1',\n",
       "       '3', '9', '1', '5', '7', '8', '2', '8', '1', '2', '0', '9', '9',\n",
       "       '1', '6', '3', '9', '3', '5', '6', '3', '1', '1', '3', '4', '2',\n",
       "       '1', '4', '3', '5', '6', '2', '8', '2', '1', '8', '7', '5', '6',\n",
       "       '4', '7', '7', '0', '8', '1', '5', '5', '2', '3', '5', '0', '0',\n",
       "       '8', '0', '9', '1', '0', '7', '6', '4', '2', '2', '8', '2', '5',\n",
       "       '7', '3', '6', '6', '2', '1', '2', '3', '9', '1', '7', '9', '8',\n",
       "       '6', '5', '3', '5', '9', '1', '5', '4', '3', '8', '2', '9', '3',\n",
       "       '8', '1', '3', '9', '4', '1', '5', '6', '9', '5', '9', '0', '9',\n",
       "       '1', '4', '5', '1', '1', '2', '8', '3', '4', '0', '7', '4', '6',\n",
       "       '5', '7', '9', '8', '7', '4', '4', '4', '4', '3', '7', '7', '4',\n",
       "       '6', '6', '9', '9', '6', '3', '4', '6', '6', '7', '8', '3', '0',\n",
       "       '7', '0', '7', '3', '3', '0', '1', '5', '5', '3', '1', '8', '6',\n",
       "       '1', '1', '6', '8', '5', '8', '9', '5', '4', '9', '9', '6', '1',\n",
       "       '7', '2', '1', '3', '7', '3', '7', '3', '1', '8', '5', '7', '4',\n",
       "       '4', '1', '6', '2', '1', '6', '3', '1', '9', '5', '5', '6', '4',\n",
       "       '9', '5', '5', '3', '0', '1', '5', '9', '6', '6', '3', '1', '3',\n",
       "       '5', '7', '4', '2', '7', '9', '7', '8', '9', '9', '8', '0', '0',\n",
       "       '3', '3', '0', '0', '0', '2', '3', '7', '0', '6', '2', '6', '8',\n",
       "       '1', '3', '3', '1', '3', '8', '9', '2', '4', '0', '3', '4', '9',\n",
       "       '5', '2', '6', '2', '2', '0', '7', '4', '5', '4', '8', '1', '3',\n",
       "       '7', '2', '3', '0', '1', '0', '1', '4', '4', '2', '4', '5', '4',\n",
       "       '0', '6', '0', '1', '6', '3', '7', '4', '0', '0', '2', '6', '6',\n",
       "       '0', '0', '6', '3', '9', '3', '7', '6', '3', '5', '7', '2', '0',\n",
       "       '6', '8', '9', '4', '6', '8', '4', '9', '3', '1', '4', '5', '8',\n",
       "       '6', '2', '8', '6', '5', '0', '2', '6', '3', '8', '1', '1', '6',\n",
       "       '2', '9', '1', '0', '8', '8', '0', '7', '2', '3', '1', '2', '8',\n",
       "       '2', '2', '9', '2', '7', '6', '1', '5', '8', '0', '2', '5', '4',\n",
       "       '7', '0', '4', '1', '3', '6', '0', '7', '7', '8', '0', '9', '2',\n",
       "       '0', '0', '5', '7', '8', '5', '3', '7', '8', '7', '2', '1', '8',\n",
       "       '3', '6', '9', '9', '3', '9', '4', '8', '6', '2', '3', '9', '6',\n",
       "       '3', '7', '4', '7', '8', '4', '3', '6', '5', '5', '5', '1', '6',\n",
       "       '7', '7', '7', '2', '1', '2', '2', '0', '4', '7', '5', '4', '7',\n",
       "       '6', '5', '2', '9', '4', '0', '6', '1', '0', '8', '1', '1', '1',\n",
       "       '3', '9', '0', '2', '8', '0', '3', '1', '6', '4', '2', '5', '1',\n",
       "       '7', '3', '6', '8', '9', '8', '1', '4', '2', '5', '4', '5', '8',\n",
       "       '7', '1', '6', '8', '3', '2', '1', '6', '6', '9', '8', '9', '6',\n",
       "       '1', '4', '9', '9', '9', '0', '8', '3', '2', '8', '4', '1', '4',\n",
       "       '3', '0', '3', '3', '8', '1', '6', '7', '4', '9', '9', '1', '2',\n",
       "       '7', '2', '5', '5', '9', '5', '1', '1', '4', '1', '4', '6', '7',\n",
       "       '4', '9', '3', '0', '3', '0', '6', '2', '0', '5', '6', '5', '9',\n",
       "       '1', '7', '4', '5', '2', '3', '3', '5', '2', '7', '3', '1', '1',\n",
       "       '8', '0', '9', '8', '6', '9', '3', '5', '0', '7', '7', '2', '0',\n",
       "       '3', '4', '2', '9', '6', '5', '1', '3', '0', '2', '0', '7', '7',\n",
       "       '0', '0', '5', '9', '6', '3', '4', '2', '7', '2', '6', '4', '8',\n",
       "       '4', '3', '1', '0', '5', '9', '2', '3', '1', '3', '3', '9', '9',\n",
       "       '2', '3', '3', '8', '6', '2', '1', '9', '5', '0', '3', '6', '7',\n",
       "       '3', '9', '6', '6', '4', '9', '5', '1', '9', '2', '6', '3', '5',\n",
       "       '2', '9', '9', '8', '4', '2', '3', '1', '5', '1', '5', '5', '0',\n",
       "       '6', '8', '0', '7', '3', '3', '6', '6', '3', '6', '9', '9', '2',\n",
       "       '8', '6', '2', '7', '1', '5', '7', '3', '2', '7', '5', '0', '0',\n",
       "       '2', '8', '4', '6', '0', '3', '0', '7', '1', '1', '2', '9', '6',\n",
       "       '0', '7', '7', '6', '2', '7', '4', '8', '9', '2', '7', '8', '4',\n",
       "       '6', '9', '4', '3', '2', '0', '9', '8', '1', '0', '6', '3', '9',\n",
       "       '0', '8', '8', '1', '1', '9', '6', '1', '5', '2', '3', '4', '4',\n",
       "       '5', '9', '1', '0', '4', '7', '5', '6', '2', '9', '3', '2', '6',\n",
       "       '8', '6', '4', '1', '4', '9', '6', '1', '3', '3', '4', '7', '2',\n",
       "       '1', '4', '6', '0', '0', '3', '7', '8', '7', '5', '5', '7', '8',\n",
       "       '7', '0', '7', '7', '1', '5', '4', '2', '5', '6', '3', '0', '6',\n",
       "       '2', '6', '2', '0', '1', '7', '5', '8', '7', '6', '2', '7', '2',\n",
       "       '7', '4', '8', '4', '1', '2', '8', '4', '5', '4', '7', '2', '3',\n",
       "       '5', '9', '4', '1', '9', '8', '7', '5', '1', '0', '3', '3', '3',\n",
       "       '1', '3', '2', '9', '0', '1', '0', '6', '2', '3', '8', '9', '9',\n",
       "       '6', '0', '2', '7', '4', '9', '8', '0', '4', '7', '8', '0', '5',\n",
       "       '7', '9', '9', '6', '4', '8', '4', '7', '7', '9', '6', '9', '8',\n",
       "       '4', '9', '6', '7', '8', '5', '6', '0', '9', '1', '9', '4', '8',\n",
       "       '7', '2', '5', '4', '7', '7', '9', '0', '3', '1', '1', '2', '5',\n",
       "       '7', '3', '4', '5', '7', '6', '9', '9', '1', '0', '6', '7', '1',\n",
       "       '8', '2', '2', '1', '2', '9', '0', '5', '6', '8', '1', '5', '6',\n",
       "       '2', '3', '7', '9', '5', '3', '9', '6', '0', '1', '7', '5', '5',\n",
       "       '3', '0', '0', '9', '6', '7', '1', '6', '6', '8', '3', '4', '3',\n",
       "       '9', '5', '7', '5', '7', '5', '8', '8', '9', '4', '1', '7', '8',\n",
       "       '9', '3', '1', '4', '6', '7', '0', '2', '9', '4', '9', '1', '9',\n",
       "       '9', '7', '0', '5', '3', '3', '3', '1', '7', '3', '4', '2', '9',\n",
       "       '0', '5', '6', '8', '1', '0', '9', '9', '9', '1', '0', '2', '7',\n",
       "       '2', '1', '3', '6', '8', '9', '3', '0', '9', '7', '4', '9', '4',\n",
       "       '3', '9', '4', '5', '7', '0', '7', '4', '0', '5', '9', '1', '8',\n",
       "       '7', '9', '6', '2', '1', '0', '2', '7', '7', '3', '1', '9', '2',\n",
       "       '9', '4', '3', '8', '5', '0', '9', '5', '5', '3', '1', '5', '1',\n",
       "       '0', '8', '3', '9', '8', '9', '2', '7', '9', '4', '1', '5', '6',\n",
       "       '5', '0', '9', '2', '1', '5', '2', '5', '7', '9', '3', '2', '3',\n",
       "       '7', '8', '7', '5', '0', '1', '9', '6', '0', '6', '9', '6', '9',\n",
       "       '0', '9', '9', '8', '6', '4', '8', '3', '0', '7', '2', '7', '0',\n",
       "       '4', '9', '1', '9', '1', '6', '1', '5', '5', '9', '0', '2', '0',\n",
       "       '9', '2', '5', '6', '3', '2', '6', '3', '4', '5', '3', '3', '7',\n",
       "       '2', '7', '5', '2', '4', '7', '3', '6', '8', '7', '0', '9', '1',\n",
       "       '1', '4', '6', '8', '0', '1', '3', '9', '7', '0', '2', '6', '9',\n",
       "       '9', '3', '7', '8', '9', '2', '3', '8', '2', '2', '6', '6', '1',\n",
       "       '5', '1', '6', '3', '5', '6', '9', '0', '8', '5', '8', '6', '8',\n",
       "       '5', '2', '0', '4', '8', '4', '0', '7', '7', '8', '5', '0', '1',\n",
       "       '4', '2', '3', '4', '6', '4', '3', '8', '7', '5', '5', '8', '3',\n",
       "       '8', '6', '6', '3', '4', '8', '0', '7', '9', '8', '6', '6', '6',\n",
       "       '0', '5', '0', '3', '2', '1', '7', '7', '2', '8', '4', '6', '0',\n",
       "       '0', '1', '5', '1', '6', '9', '5', '0', '3', '6', '0', '6', '0',\n",
       "       '5', '1', '3', '5', '7', '1', '1', '9', '0', '9', '6', '3', '7',\n",
       "       '0', '8', '8', '9', '3', '1', '7', '2', '5', '3', '6', '7', '2',\n",
       "       '7', '9', '6', '3', '5', '0', '2', '4', '8', '3', '6', '5', '0',\n",
       "       '1', '0', '4', '0', '7', '2', '5', '1', '6', '8', '9', '3', '9',\n",
       "       '9', '3', '1', '3', '2', '0', '0', '1', '6', '2', '8', '5', '7',\n",
       "       '6', '8', '9', '5', '8', '8', '6', '5', '3', '3', '1', '1', '4',\n",
       "       '0', '5', '4', '1', '3', '4', '3', '9', '5', '5', '3', '8', '8',\n",
       "       '9', '5', '6', '5', '8', '1', '7', '4', '1', '8', '1', '6', '1',\n",
       "       '3', '8', '5', '5', '4', '5', '7', '0', '8', '7', '7', '3', '4',\n",
       "       '7', '8', '7', '5', '0', '6', '5', '6', '0', '3', '7', '7', '4',\n",
       "       '1', '7', '3', '2', '1', '7', '2', '8', '3', '1', '5', '6', '9',\n",
       "       '5', '2', '6', '0', '1', '2', '4', '8', '4', '9', '1', '7', '5',\n",
       "       '5', '1', '2', '6', '6', '3', '1', '0', '2', '8', '2', '2', '1',\n",
       "       '9', '9', '1', '1', '1', '6', '6', '7', '0', '1', '9', '0', '2',\n",
       "       '1', '3', '2', '6', '6', '3', '5', '4', '8', '3', '2', '7', '4',\n",
       "       '1', '2', '3', '6', '1', '8', '2', '3', '2', '3', '5', '6', '2',\n",
       "       '4', '2', '6', '9', '1', '0', '5', '8', '6', '4', '7', '2', '8',\n",
       "       '1', '8', '6', '9', '3', '9', '9', '3', '2', '0', '8', '9', '6',\n",
       "       '6', '4', '3', '7', '5', '2', '2', '3', '7', '5', '7', '4', '6',\n",
       "       '3', '3', '3', '7', '7', '6', '4', '7', '9', '0', '8', '2', '0',\n",
       "       '6', '4', '2', '9', '1', '3', '1', '3', '2', '8', '8', '2', '0',\n",
       "       '5', '2', '1', '2', '3', '1', '4', '8', '8', '3', '3', '8', '9',\n",
       "       '5', '9', '2', '2', '5', '0', '2', '8', '6', '4', '9', '2', '4',\n",
       "       '6', '5', '7', '6', '1', '8', '5', '4', '6', '2', '6', '5', '3',\n",
       "       '5', '7', '1', '0', '6', '5', '6', '6', '3', '5', '7', '8', '2',\n",
       "       '6', '6', '2', '8', '9', '0', '9', '5', '1', '4', '8', '5', '0',\n",
       "       '8', '0', '7', '9', '7', '1', '3', '0', '4', '3', '9', '8', '9',\n",
       "       '1', '8', '5', '8', '5', '2', '2', '8', '4', '7', '8', '3', '7',\n",
       "       '6', '7', '1', '7', '1', '6', '0', '5', '7', '4', '1', '5', '2',\n",
       "       '7', '6', '3', '9', '2', '6', '3', '0', '0', '9', '0', '8', '0',\n",
       "       '8', '3', '6', '0', '2', '6', '3', '9', '6', '9', '6', '1', '6',\n",
       "       '6', '5', '6', '7', '5', '5', '3', '3', '7', '3', '7', '3', '3',\n",
       "       '5', '8', '4', '2', '2', '1', '2', '4', '9', '6', '3', '4', '3',\n",
       "       '5', '8', '8', '3', '8', '1', '5', '1', '1', '3', '7', '4', '7',\n",
       "       '2', '2', '6', '3', '1', '2', '2', '1', '5', '4', '6', '1', '0',\n",
       "       '9', '7', '8', '8', '7', '9', '6', '0', '5', '5', '3', '1', '9',\n",
       "       '1', '1', '4', '4', '1', '2', '0', '6', '7', '5', '4', '7', '0',\n",
       "       '5', '4', '5', '1', '5', '9', '0', '4', '7', '7', '8', '4', '6',\n",
       "       '3', '8', '5', '5', '4', '7', '9', '3', '0', '1', '1', '3', '3',\n",
       "       '7', '2', '5', '0', '7', '1', '8', '1', '3', '5', '6', '8', '4',\n",
       "       '8', '8', '8', '0', '5', '3', '1', '5', '9', '7', '5', '6', '0',\n",
       "       '3', '8', '2', '1', '5', '8', '9', '9', '6', '7', '9', '1', '1',\n",
       "       '1', '5', '2', '4', '9', '2', '7', '2', '7', '2', '5', '4', '7',\n",
       "       '0', '4', '0', '9', '8', '6', '8', '1', '6', '8', '1', '1', '9',\n",
       "       '2', '7', '3', '0', '3', '4', '7', '8', '2', '5', '8', '2', '7',\n",
       "       '9', '1', '0', '8', '0', '7', '6', '8', '5', '4', '1', '7', '5',\n",
       "       '2', '5', '1', '0', '1', '1', '6', '2', '3', '0', '1', '3', '0',\n",
       "       '4', '2', '3', '0', '5', '2', '4', '0', '9', '1', '2', '9', '1',\n",
       "       '5', '2', '1', '1', '5', '6', '3', '7', '9', '2', '6', '5', '9',\n",
       "       '1', '4', '7', '6', '5', '0', '0', '3', '7', '0', '3', '3', '2',\n",
       "       '1', '6', '1', '9', '7', '1', '8', '5', '2', '5', '0', '1', '1',\n",
       "       '0', '1', '5', '2', '2', '9', '9', '5', '9', '0', '3', '7', '9',\n",
       "       '8', '0', '6', '5', '0', '7', '6', '4', '0', '4', '5', '3', '3',\n",
       "       '2', '5', '6', '7', '9', '2', '9', '4', '0', '6', '0', '9', '1',\n",
       "       '4', '7', '8', '4', '0', '3', '3', '1', '4', '8', '6', '2', '0',\n",
       "       '3', '5', '0', '1', '3', '8', '5', '6', '2', '6', '6', '0', '2',\n",
       "       '9', '6', '1', '0', '4', '2', '1', '5', '0', '9', '4', '1', '7',\n",
       "       '3', '5', '0', '6', '1', '6', '1', '8', '0', '3', '3', '7', '6',\n",
       "       '5', '3', '6', '4', '0', '5', '0', '8', '8', '9', '5', '2', '0',\n",
       "       '1', '3', '0', '2', '1', '9', '8', '9', '5', '4', '2', '3', '0',\n",
       "       '7', '8', '3', '5', '3', '1', '7', '8', '1', '3', '9', '3', '1',\n",
       "       '3', '7', '3', '6', '7', '8', '6', '7', '4', '4', '2', '0', '2',\n",
       "       '9', '9', '5', '5', '0', '0', '9', '1', '2', '3', '9', '8', '3',\n",
       "       '2', '7', '1', '8', '1', '0', '8', '5', '1', '7', '1', '2', '2',\n",
       "       '0', '4', '1', '1', '6', '0', '6', '9', '2', '4', '4', '7', '0',\n",
       "       '7', '9', '1', '3', '2', '8', '6', '6', '0', '1', '9', '6', '8',\n",
       "       '0', '0', '6', '0', '5', '0', '5', '1', '2', '3', '0', '5', '5',\n",
       "       '7', '2', '6', '1', '1', '9', '3', '9', '7', '3', '0', '6', '6',\n",
       "       '5', '5', '5', '9', '4', '9', '2', '3', '6', '0', '9', '2', '0',\n",
       "       '2', '8', '7', '7', '5', '4', '5', '4', '1', '8', '1', '7', '3',\n",
       "       '7', '5', '4', '7', '3', '0', '9', '1', '9', '7', '7', '1', '8',\n",
       "       '0', '3', '0', '7', '0', '7', '6', '6', '1', '7', '2', '8', '8',\n",
       "       '2', '1', '4', '9', '7', '0', '1', '4', '5', '4', '0', '3', '1',\n",
       "       '7', '6', '7', '1', '0', '7', '8', '5', '3', '0', '0', '4', '3',\n",
       "       '1', '9', '9', '2', '5', '8', '7', '5', '6', '7', '3', '2', '8',\n",
       "       '9', '3', '3', '6', '0', '3', '2', '3', '1', '2', '1', '6', '6',\n",
       "       '9', '3', '6', '6', '3', '1', '0', '9', '4', '7', '1', '7', '5',\n",
       "       '3', '3', '0', '7', '7', '5', '0', '9', '7', '8', '7', '1', '0',\n",
       "       '4', '5', '9', '2', '3', '4', '8', '5', '8', '4', '3', '5', '9',\n",
       "       '4', '8', '3', '8', '6', '2', '3', '7', '7', '9', '3', '3', '4',\n",
       "       '6', '1', '6', '4', '4', '9', '1', '2', '0', '6', '1', '6', '2',\n",
       "       '7', '5', '2', '9', '5', '4', '9', '0', '0', '0', '0', '6', '0',\n",
       "       '0', '2', '2', '7', '4', '5', '8', '5', '2', '8', '9', '7', '2',\n",
       "       '6', '9', '6', '5', '3', '1', '9', '7', '3', '3', '3', '0', '6',\n",
       "       '2', '7', '4', '2', '6', '1', '7', '9', '5', '4', '7', '7', '0',\n",
       "       '4', '2', '6', '9', '6', '3', '1', '6', '6', '9', '4', '5', '2',\n",
       "       '8', '8', '0', '4', '2', '6', '4', '2', '5', '3', '0', '9', '7',\n",
       "       '0', '6', '0', '2', '2', '7', '9', '9', '7', '6', '2', '4', '3',\n",
       "       '4', '8', '7', '3', '3', '3', '4', '5', '3', '9', '0', '1', '5',\n",
       "       '1', '6', '6', '8', '1', '9', '1', '7', '1', '9', '7', '8', '3',\n",
       "       '7', '8', '4', '1', '0', '9', '4', '0', '1', '6', '3', '7', '6',\n",
       "       '7', '7', '1', '0', '7', '8', '9', '6', '1', '1', '6', '1', '3',\n",
       "       '5', '4', '4', '0', '0', '9', '2', '0', '0', '2', '2', '6', '6',\n",
       "       '6', '5', '9', '0', '8', '3', '0', '3', '4', '1', '8', '3', '5',\n",
       "       '3', '5', '7', '5', '9', '8', '4', '5', '7', '4', '8', '8', '2',\n",
       "       '5', '1', '6', '8', '9', '3', '2', '6', '4', '9', '5', '6', '0',\n",
       "       '7', '4', '3', '3', '2', '8', '3', '6', '8', '9', '8', '9', '1',\n",
       "       '2', '5', '7', '1', '7', '9', '1', '4', '2', '9', '2', '0', '8',\n",
       "       '9', '3', '9', '7', '2', '1', '8', '5', '3', '9', '4', '6', '0',\n",
       "       '9', '6', '0', '1', '2', '8', '5', '1', '0', '2', '2', '9', '6',\n",
       "       '0', '1', '1', '8', '6', '8', '3', '9', '9', '4', '7', '3', '1',\n",
       "       '9', '4', '4', '7', '9', '8', '9', '9', '1', '1', '0', '8', '7',\n",
       "       '1', '0', '7', '5', '1', '5', '1', '0', '0', '8', '6', '8', '5',\n",
       "       '3', '6', '5', '5', '0', '8', '7', '3', '2', '6', '9', '2', '4',\n",
       "       '9', '2', '4', '5', '4', '0', '0', '8', '8', '4', '4', '2', '1',\n",
       "       '9', '8', '8', '5', '3', '3', '5', '6', '7', '3', '0', '9', '3',\n",
       "       '1', '6', '6', '6', '5', '8', '1', '5', '7', '5', '3', '3', '5',\n",
       "       '3', '1', '5', '9', '2', '4', '8', '7', '0', '1', '7', '1', '9',\n",
       "       '5', '0', '2', '4', '6', '2', '1', '0', '1', '3', '1', '5', '9',\n",
       "       '2', '1', '7', '0', '8', '6', '0', '2', '3', '0', '2', '8', '2',\n",
       "       '3', '5', '8', '5', '4', '7', '0', '0', '9', '4', '2', '1', '8',\n",
       "       '5', '7', '9', '8', '1', '1', '5', '6', '2', '9', '1', '3', '9',\n",
       "       '7', '4', '4', '9', '2', '7', '5', '1', '4', '3', '1', '2', '3',\n",
       "       '7', '8', '3', '2', '8', '0', '8', '0', '6', '6', '8', '6', '0',\n",
       "       '1', '6', '8', '6', '4', '3', '5', '0', '4', '0', '3', '3', '3',\n",
       "       '4', '1', '2', '8', '4', '7', '2', '3', '0', '1', '2', '4', '4',\n",
       "       '3', '6', '6', '7', '4', '4', '2', '0', '7', '8', '7', '9', '8',\n",
       "       '9', '3', '8', '5', '7', '8', '6', '9', '6', '7', '2', '9', '5',\n",
       "       '2', '0', '5', '4', '6', '1', '0', '3', '7', '1', '0', '1', '4',\n",
       "       '7', '1', '1', '1', '7', '6', '3', '9', '0', '2', '4', '8', '8',\n",
       "       '3', '6', '3', '5', '3', '1', '9', '1', '7', '1', '3', '7', '7',\n",
       "       '8', '5', '1', '4', '1', '8', '7', '8', '2', '2', '9', '3', '2',\n",
       "       '3', '7', '3', '1', '0', '6', '4', '3', '2', '6', '7', '8', '3',\n",
       "       '1', '3', '3', '8', '2', '2', '6', '0', '6', '6', '4', '4', '1',\n",
       "       '0', '2', '3', '1', '1', '1', '6', '4', '6', '1', '1', '0', '6',\n",
       "       '0', '1', '6', '8', '0', '4', '8', '7', '9', '9', '1', '9', '9',\n",
       "       '0', '1', '1', '1', '3', '7', '5', '1', '6', '9', '9', '2', '3',\n",
       "       '8', '0', '1', '7', '8', '5', '9', '4', '9', '1', '3', '3', '2',\n",
       "       '6', '4', '8', '8', '7', '7', '6', '0', '3', '4', '5', '5', '9',\n",
       "       '8', '3', '7', '8', '8', '9', '9', '2', '2', '5', '7', '5', '2',\n",
       "       '7', '6', '7', '3', '6', '6', '1', '4', '9', '7', '9', '5', '4',\n",
       "       '6', '3', '4', '6', '6', '7', '6', '9', '9', '8', '1', '0', '6',\n",
       "       '9', '7', '9', '3', '8', '3', '3', '3', '4', '7', '8', '6', '6',\n",
       "       '0', '1', '5', '5', '9', '9', '1', '8', '1', '3', '9', '5', '1',\n",
       "       '8', '7', '4', '7', '3', '0', '9', '1', '6', '1', '6', '7', '7',\n",
       "       '3', '5', '9', '2', '7', '6', '3', '3', '7', '9', '6', '6', '1',\n",
       "       '4', '5', '2', '5', '3', '1', '0', '8', '9', '3', '6', '4', '3',\n",
       "       '2', '6', '0', '1', '6', '9', '2', '5', '7', '2', '7', '1', '3',\n",
       "       '0', '5', '7', '5', '4', '2', '9', '5', '0', '7', '9', '1', '1',\n",
       "       '5', '6', '1', '5', '8', '0', '7', '0', '6', '8', '3', '5', '6',\n",
       "       '0', '7', '7', '2', '4', '7', '3', '9', '2', '5', '0', '3', '0',\n",
       "       '8', '1', '2', '9', '7', '2', '1', '3', '1', '1', '4', '3', '5',\n",
       "       '6', '2', '3', '2', '9', '5', '8', '2', '5', '2', '1', '6', '0',\n",
       "       '7', '4', '2', '0', '1', '7', '4', '1', '7', '9', '2', '8', '1',\n",
       "       '0', '9', '6', '9', '8', '5', '4', '4', '9', '7', '0', '7', '7',\n",
       "       '5', '5', '0', '0', '7', '6', '1', '9', '0', '3', '8', '6', '8',\n",
       "       '7', '7', '6', '2', '7', '1', '3', '0', '9', '9', '7', '6', '2',\n",
       "       '0', '2', '4', '3', '1', '0', '2', '4', '8', '3', '1', '3', '5',\n",
       "       '1', '6', '2', '8', '4', '2', '3', '7', '2', '0', '8', '8', '1',\n",
       "       '8', '4', '8', '8', '6', '4', '9', '3', '2', '9', '8', '6', '6',\n",
       "       '4', '5', '6', '1', '1', '3', '7', '9', '1', '9', '2', '3', '8',\n",
       "       '0', '1', '3', '4', '5', '2', '1', '4', '4', '9', '4', '8', '4',\n",
       "       '6', '4', '4', '9', '9', '7', '9', '1', '7', '0', '7', '1', '5',\n",
       "       '5', '5', '6', '6', '4', '7', '7', '5', '0', '0', '7', '2', '9',\n",
       "       '4', '0', '2', '0', '4', '8', '2', '4', '2', '2', '3', '7', '5',\n",
       "       '8', '0', '3', '6', '2', '6', '7', '9', '4', '3', '0', '1', '2',\n",
       "       '7', '2', '5', '4', '3', '1', '5', '2', '1', '1', '4', '6', '7',\n",
       "       '1', '2', '0', '0', '9', '8', '6', '1', '1', '1', '1', '4', '4',\n",
       "       '5', '2', '2', '9', '2', '8', '6', '4', '3', '1', '9', '4', '1',\n",
       "       '3', '8', '5', '0', '3', '3', '7', '3', '4', '8', '9', '2', '0',\n",
       "       '2', '4', '5', '5', '7', '8', '7', '6', '3', '7', '8', '1', '4',\n",
       "       '2', '8', '4', '6', '3', '3', '7', '8', '5', '2', '3', '4', '8',\n",
       "       '4', '9', '0', '8', '2', '0', '1', '5', '2', '1', '1', '4', '4',\n",
       "       '1', '6', '1', '1', '2', '0', '3', '6', '1', '9', '5', '3', '0',\n",
       "       '2', '0', '8', '4', '6', '6', '4', '6', '1', '5', '1', '3', '6',\n",
       "       '8', '4', '9', '3', '8', '8', '2', '2', '2', '0', '4', '9', '8',\n",
       "       '1', '7', '0', '3', '0', '9', '7', '4', '4', '3', '8', '3', '6',\n",
       "       '7', '7', '2', '0', '7', '3', '4', '6', '7', '2', '8', '3', '3',\n",
       "       '4', '5', '1', '1', '0', '0', '9', '6', '8', '1', '8', '9', '7',\n",
       "       '8', '9', '3', '4', '6', '6', '2', '9', '3', '5', '8', '9', '8',\n",
       "       '9', '5', '3', '1', '4', '6', '4', '8', '2', '3', '8', '0', '7',\n",
       "       '1', '2', '1', '3', '3', '9', '4', '5', '8', '7', '6', '8', '5',\n",
       "       '5', '2', '2', '3', '2', '0', '9', '4', '4', '9', '3', '0', '7',\n",
       "       '2', '8', '7', '1', '0', '0', '4', '2', '1', '0', '1', '3', '2',\n",
       "       '0', '9', '1', '7', '6', '0', '8', '0', '9', '7', '3', '3', '8',\n",
       "       '9', '7', '7', '7', '5', '3', '4', '7', '2', '8', '0', '8', '2',\n",
       "       '5', '4', '3', '5', '9', '5', '0', '1', '6', '3', '8', '4', '0',\n",
       "       '0', '6', '7', '1', '8', '8', '6', '7', '2', '2', '4', '7', '4',\n",
       "       '3', '6', '4', '4', '6', '4', '2', '6', '1', '7', '2', '6', '9',\n",
       "       '1', '1', '6', '6', '0', '8', '5', '9', '8', '0', '4', '5', '1',\n",
       "       '7', '7', '9', '3', '7', '9', '1', '4', '9', '1', '2', '3', '4',\n",
       "       '3', '9', '1', '8', '6', '0', '4', '8', '2', '9', '2', '6', '3',\n",
       "       '4', '3', '6', '9', '8', '2', '2', '9', '8', '5', '1', '8', '6',\n",
       "       '1', '6', '5', '6', '1', '6', '6', '7', '0', '0', '4', '0', '9',\n",
       "       '0', '5', '1', '1', '8', '8', '4', '0', '2', '7', '5', '6', '3',\n",
       "       '4', '3', '0', '6', '0', '2', '8', '7', '0', '7', '2', '3', '7',\n",
       "       '3', '4', '9', '5', '9', '8', '7', '0', '1', '6', '9', '9', '0',\n",
       "       '1', '6', '3', '5', '3', '5', '8', '2', '3', '7', '3', '6', '2',\n",
       "       '8', '5', '0', '3', '7', '8', '7', '6', '1', '5', '4', '1', '7',\n",
       "       '5', '1', '6', '5', '9', '1', '1', '5', '5', '4', '0', '7', '0',\n",
       "       '7', '1', '0', '3', '3', '4', '0', '0', '1', '6', '8', '0', '0',\n",
       "       '4', '0', '3', '2', '6', '5', '6', '9', '2', '9', '9', '0', '4',\n",
       "       '7', '3', '8', '2', '8', '7', '6', '7', '2', '1', '8', '7', '9',\n",
       "       '6', '1', '8', '5', '7', '7', '4', '3', '1', '1', '8', '1', '2',\n",
       "       '9', '2', '0', '3', '1', '0', '1', '0', '3', '6', '1', '1', '1',\n",
       "       '7', '6', '4', '9', '6', '0', '3', '5', '7', '3', '4', '7', '0',\n",
       "       '6', '2', '3', '1', '9', '6', '0', '7', '8', '0', '4', '3', '8',\n",
       "       '6', '9', '5', '6', '5', '1', '5', '2', '5', '4', '8', '7', '4',\n",
       "       '7', '1', '4', '6', '9', '2', '5', '8', '6', '6', '2', '6', '3',\n",
       "       '0', '9', '8', '9', '9', '2', '2', '8', '2', '3', '1', '9', '9',\n",
       "       '7', '0', '2', '6', '1', '7', '3', '9', '3', '3', '5', '2', '0',\n",
       "       '9', '2', '8', '1', '5', '0', '8', '0', '9', '9', '3', '8', '1',\n",
       "       '8', '7', '4', '3', '9', '7', '9', '5', '0', '7', '7', '6', '7',\n",
       "       '9', '8', '1', '6', '3', '1', '6', '7', '5', '9', '9', '1', '8',\n",
       "       '2', '4', '5', '1', '7', '7', '0', '5', '5', '6', '1', '9', '4',\n",
       "       '4', '3', '9', '1', '8', '0', '3', '5', '8', '6', '3', '8', '1',\n",
       "       '9', '2', '6', '7', '4', '0', '0', '2', '3', '4', '1', '2', '6',\n",
       "       '8', '9', '1', '5', '9', '1', '3', '3', '5', '9', '1', '9', '0',\n",
       "       '1', '2', '3', '7', '1', '2', '6', '4', '3', '4', '0', '4', '1',\n",
       "       '7', '8', '0', '5', '0', '8', '4', '6', '3', '1', '2', '4', '9',\n",
       "       '7', '6', '1', '4', '2', '9', '1', '0', '2', '0', '5', '2', '2',\n",
       "       '6', '6', '9', '7', '8', '2', '9', '1', '9', '8', '4', '0', '2',\n",
       "       '0', '9', '3', '5', '5', '3', '0', '4', '4', '1', '3', '3', '9',\n",
       "       '7', '2', '7', '1', '2', '9', '4', '2', '9', '4', '9', '5', '5',\n",
       "       '5', '0', '9', '5', '3', '0', '4', '1', '4', '5', '7', '0', '7',\n",
       "       '0', '8', '1', '7', '5', '9', '4', '1', '4', '7', '2', '7', '1',\n",
       "       '1', '9', '5', '8', '5', '0', '6', '8', '2', '3', '7', '5', '0',\n",
       "       '7', '9', '2', '6', '8', '5', '3', '5', '3', '8', '2', '7', '5',\n",
       "       '9', '7', '1', '2', '1', '8', '7', '7', '2', '2', '0', '0', '1',\n",
       "       '9', '1', '9', '1', '3', '6', '7', '2', '2', '3', '2', '8', '8',\n",
       "       '9', '1', '5', '1', '6', '6', '9', '4', '3', '6', '7', '4', '6',\n",
       "       '3', '8', '0', '3', '7', '0', '1', '8', '7', '9', '3', '4', '8',\n",
       "       '5', '1', '7', '7', '1', '3', '4', '0', '9', '9', '2', '3', '2',\n",
       "       '4', '0', '2', '4', '6', '6', '3', '6', '4', '8', '9', '9', '4',\n",
       "       '5', '2', '6', '4', '8', '6', '7', '4', '6', '6', '6', '9', '9',\n",
       "       '1', '5', '6', '7', '7', '3', '4', '2', '9', '2', '6', '3', '2',\n",
       "       '0', '2', '7', '7', '5', '5', '7', '9', '5', '0', '6', '6', '0',\n",
       "       '5', '9', '8', '9', '9', '7', '2', '3', '8', '7', '8', '1', '5',\n",
       "       '5', '5', '6', '6', '5', '6', '6', '4', '1', '7', '4', '9', '9',\n",
       "       '4', '9', '1', '3', '5', '5', '1', '4', '3', '1', '9', '7', '4',\n",
       "       '2', '0', '1', '4', '5', '4', '7', '2', '2', '0', '7', '9', '1',\n",
       "       '8', '9', '9', '5', '1', '8', '6', '2', '2', '7', '1', '4', '7',\n",
       "       '9', '5', '0', '5', '3', '5', '3', '1', '2', '9', '2', '2', '2',\n",
       "       '3', '7', '4', '4', '4', '5', '0', '9', '1', '6', '1', '6', '9',\n",
       "       '6', '8', '2', '2', '6', '4', '1', '4', '8', '1', '0', '3', '9',\n",
       "       '0', '6', '7', '0', '2', '5', '7', '4', '8', '3', '9', '8', '2',\n",
       "       '2', '8', '9', '4', '3', '9', '3', '0', '5', '8', '5', '9', '1',\n",
       "       '9', '8', '4', '1', '4', '2', '1', '0', '3', '1', '3', '1', '5',\n",
       "       '6', '6', '8', '6', '7', '0', '4', '4', '4', '4', '8', '1', '2',\n",
       "       '2', '7', '0', '0', '0', '5', '3', '6', '3', '0', '6', '5', '1',\n",
       "       '1', '4', '6', '3', '9', '6', '0', '5', '4', '0', '2', '2', '8',\n",
       "       '4', '1', '7', '3', '1', '0', '6', '8', '5', '0', '9', '4', '8',\n",
       "       '5', '7', '0', '0', '5', '4', '8', '6', '6', '0', '2', '2', '8',\n",
       "       '1', '5', '2', '1', '9', '4', '7', '0', '4', '2', '7', '2', '1',\n",
       "       '2', '1', '9', '6', '1', '8', '3', '1', '1', '9', '8', '4', '3',\n",
       "       '5', '5', '1', '3', '9', '9', '5', '7', '1', '9', '9', '3', '5',\n",
       "       '8', '3', '4', '3', '9', '0', '9', '0', '2', '4', '7', '6', '3',\n",
       "       '9', '4', '0', '1', '5', '1', '5', '9', '4', '4', '8', '3', '3',\n",
       "       '5', '3', '0', '1', '9', '1', '4', '6', '7', '5', '3', '1', '7',\n",
       "       '1', '2', '7', '3', '6', '0', '9', '6', '7', '1', '7', '4', '3',\n",
       "       '2', '5', '4', '0', '6', '0', '7', '7', '7', '9', '4', '9', '9',\n",
       "       '5', '6', '1', '5', '3', '0', '7', '3', '7', '2', '6', '6', '6',\n",
       "       '2', '2', '5', '7', '2', '3', '9', '2', '9', '6', '1', '9', '7',\n",
       "       '7', '4', '9', '1', '3', '7', '6', '4', '5', '2', '4', '1', '0',\n",
       "       '2', '0', '1', '7', '4', '7', '5', '7', '9', '7', '9', '4', '3',\n",
       "       '4', '0', '4', '5', '4', '9', '2', '3', '9', '2', '0', '7', '2',\n",
       "       '1', '0', '1', '6', '8', '4', '8', '5', '6', '8', '2', '5', '6',\n",
       "       '2', '5', '5', '2', '4', '8', '7', '0', '9', '0', '8', '2', '0',\n",
       "       '9', '0', '8', '6', '2', '7', '1', '8', '4', '4', '7', '3', '3',\n",
       "       '8', '9', '9', '2', '5', '2', '8', '1', '8', '8', '1', '1', '9',\n",
       "       '3', '1', '7', '1', '1', '2', '5', '0', '5', '0', '0', '5', '0',\n",
       "       '8', '8', '1', '5', '0', '9', '3', '2', '5', '6', '8', '0', '9',\n",
       "       '1', '1', '1', '6', '3', '6', '7', '5', '6', '1', '6', '6', '8',\n",
       "       '6', '1', '7', '8', '2', '1', '5', '3', '3', '2', '3', '5', '9',\n",
       "       '2', '1', '6', '8', '0', '7', '7', '7', '9', '5', '7', '7', '5',\n",
       "       '3', '1', '9', '0', '1', '9', '4', '9', '1', '5', '4', '0', '2',\n",
       "       '6', '0', '7', '5', '6', '0', '6', '1', '3', '9', '5', '9', '3',\n",
       "       '7', '6', '6', '0', '7', '7', '3', '8', '9', '8', '9', '4', '0',\n",
       "       '2', '8', '6', '7', '6', '9', '6', '9', '1', '7', '0', '4', '9',\n",
       "       '4', '1', '5', '3', '1', '7', '0', '4', '5', '0', '7', '9', '4',\n",
       "       '9', '6', '7', '2', '3', '5', '8', '3', '7', '9', '5', '8', '5',\n",
       "       '0', '9', '5', '2', '8', '3', '5', '9', '6', '2', '1', '1', '2',\n",
       "       '1', '9', '9', '4', '4', '3', '1', '3', '4', '1', '1', '7', '6',\n",
       "       '4', '0', '6', '4', '3', '2', '1', '1', '1', '9', '4', '9', '2',\n",
       "       '3', '2', '3', '9', '1', '7', '4', '5', '2', '5', '1', '0', '5',\n",
       "       '1', '2', '4', '1', '2', '7', '2', '0', '8', '6', '5', '6', '7',\n",
       "       '9', '7', '9', '6', '1', '2', '2', '2', '8', '7', '2', '7', '7',\n",
       "       '0', '9', '8', '0', '0', '8', '8', '2', '3', '0', '8', '7', '6',\n",
       "       '4', '4', '2', '0', '1', '8', '6', '6', '3', '5', '8', '8', '3',\n",
       "       '7', '3', '0', '8', '4', '3', '1', '2', '4', '1', '3', '3', '1',\n",
       "       '7', '1', '5', '7', '7', '1', '7', '3', '4', '8', '9', '4', '1',\n",
       "       '7', '9', '2', '9', '0', '3', '0', '1', '4', '3', '2', '1', '8',\n",
       "       '1', '1', '3', '9', '7', '1', '2', '5', '2', '0', '3', '6', '4',\n",
       "       '2', '5', '5', '1', '3', '8', '1', '1', '9', '3', '3', '0', '3',\n",
       "       '5', '8', '7', '1', '3', '4', '4', '3', '1', '2', '3', '1', '3',\n",
       "       '2', '2', '2', '1', '8', '5', '3', '0', '5', '5', '7', '6', '3',\n",
       "       '8', '3', '1', '1', '8', '3', '5', '7', '5', '0', '7', '4', '8',\n",
       "       '7', '7', '3', '3', '6', '8', '4', '1', '1', '1', '9', '7', '4',\n",
       "       '1', '3', '1', '4', '6', '1', '4', '3', '7', '6', '6', '2', '7',\n",
       "       '8', '8', '3', '7', '3', '1', '2', '6', '6', '2', '5', '8', '7',\n",
       "       '4', '1', '8', '2', '1', '5', '0', '6', '0', '0', '8', '7', '8',\n",
       "       '9', '2', '0', '2', '0', '5', '0', '9', '7', '1', '6', '9', '9',\n",
       "       '7', '8', '0', '0', '1', '7', '7', '8', '3', '1', '6', '3', '6',\n",
       "       '7', '5', '1', '0', '4', '3', '5', '2', '3', '1', '7', '2', '0',\n",
       "       '6', '7', '6', '6', '0', '8', '8', '7', '3', '5', '8', '9', '4',\n",
       "       '8', '5', '2', '3', '6', '5', '3', '9', '1', '1', '1', '2', '1',\n",
       "       '9', '1', '6', '8', '7', '7', '0', '5', '9', '4', '7', '0', '0',\n",
       "       '1', '1', '7', '6', '5', '1', '7', '1', '5', '4', '4', '3', '1',\n",
       "       '8', '0', '7', '3', '1', '1', '8', '0', '4', '5', '5', '2', '6',\n",
       "       '7', '5', '9', '0', '1', '2', '3', '7', '6', '7', '8', '5', '0',\n",
       "       '2', '5', '3', '4', '4', '3', '2', '1', '2', '5', '4', '5', '9',\n",
       "       '6', '7', '2', '0', '1', '3', '1', '9', '1', '5', '8', '9', '6',\n",
       "       '2', '3', '4', '8', '9', '7', '0', '9', '5', '6', '8', '4', '2',\n",
       "       '8', '1', '8', '4', '5', '9', '7', '1', '7', '1', '6', '8', '8',\n",
       "       '5', '6', '2', '1', '5', '5', '4', '7', '9', '7', '6', '7', '4',\n",
       "       '8', '7', '1', '2', '8', '0', '6', '9', '9', '6', '5', '1', '6',\n",
       "       '5', '6', '0', '6', '2', '1', '4', '5', '7', '3', '3', '1', '3',\n",
       "       '7', '0', '7', '3', '7', '0', '3', '8', '7', '4', '0', '8', '2',\n",
       "       '0', '6', '8', '1', '5', '2', '3', '4', '3', '0', '6', '6', '5',\n",
       "       '2', '8', '9', '0', '0', '2', '3', '4', '1', '9', '1', '6', '8',\n",
       "       '3', '0', '6', '6', '7', '8', '8', '5', '1', '9', '3', '9', '9',\n",
       "       '1', '0', '6', '2', '9', '5', '8', '5', '4', '8', '3', '3', '9',\n",
       "       '8', '2', '3', '2', '7', '2', '7', '1', '3', '0', '0', '2', '9',\n",
       "       '8', '1', '4', '5', '2', '3', '4', '0', '3', '8', '9', '6', '3',\n",
       "       '4', '8', '7', '0', '0', '8', '3', '6', '3', '0', '9', '4', '2',\n",
       "       '7', '5', '1', '4', '6', '4', '2', '1', '1', '4', '3', '9', '0',\n",
       "       '6', '8', '5', '8', '6', '6', '4', '2', '2', '6', '6', '1', '7',\n",
       "       '7', '3', '6', '7', '2', '6', '3', '5', '3', '3', '9', '5', '8',\n",
       "       '4', '2', '3', '7', '1', '7', '4', '7', '0', '0', '5', '0', '2',\n",
       "       '9', '7', '7', '6', '2', '3', '9', '2', '1', '5', '3', '5', '9',\n",
       "       '4', '8', '2', '1', '7', '6', '2', '7', '5', '8', '4', '8', '4',\n",
       "       '0', '7', '1', '8', '3', '1', '7', '2', '6', '9', '9', '6', '9',\n",
       "       '7', '7', '8', '8', '9', '8', '3', '0', '3', '9', '6', '8', '8',\n",
       "       '5', '7', '7', '9', '0', '1', '6', '6', '1', '3', '7', '3', '4',\n",
       "       '1', '8', '5', '0', '7', '2', '1', '8', '0', '5', '3', '6', '7',\n",
       "       '3', '9', '1', '6', '6', '6', '9', '2', '6', '1', '4', '3', '4',\n",
       "       '2', '8', '1', '7', '8', '6', '8', '7', '3', '6', '8', '1', '8',\n",
       "       '0', '0', '8', '0', '2', '2', '1', '2', '4', '1', '2', '0', '1',\n",
       "       '7', '6', '4', '7', '1', '9', '8', '7', '8', '6', '2', '3', '3',\n",
       "       '2', '5', '0', '7', '0', '2', '1', '1', '2', '6', '6', '3', '8',\n",
       "       '1', '4', '8', '9', '2', '6', '0', '6', '0', '2', '6', '4', '9',\n",
       "       '2', '8', '1', '9', '4', '6', '7', '4', '9', '0', '4', '6', '0',\n",
       "       '0', '3', '3', '4', '4', '6', '9', '9', '6', '8', '6', '2', '4',\n",
       "       '3', '7', '3', '6', '0', '4', '9', '7', '9', '4', '5', '6', '7',\n",
       "       '2', '2', '3', '1', '5', '9', '2', '3', '0', '4', '0', '9', '0',\n",
       "       '2', '3', '0', '1', '4', '0', '7', '9', '1', '3', '6', '5', '2',\n",
       "       '8', '5', '7', '1', '9', '1', '3', '0', '5', '2', '0', '8', '1',\n",
       "       '1', '6', '6', '7', '0', '8', '6', '6', '7', '2', '1', '6', '3',\n",
       "       '5', '0', '0', '3', '3', '3', '3', '3', '3', '1', '1', '0', '6',\n",
       "       '1', '6', '0', '4', '3', '7', '9', '5', '4', '7', '2', '8', '3',\n",
       "       '0', '7', '2', '6', '8', '0', '0', '4', '1', '7', '3', '3', '3',\n",
       "       '9', '0', '4', '2', '6', '3', '5', '7', '6', '6', '9', '8', '5',\n",
       "       '5', '7', '9', '0', '0', '1', '0', '5', '4', '5', '1', '5', '1',\n",
       "       '2', '9', '9', '6', '9', '7', '3', '3', '9', '1', '3', '1', '4',\n",
       "       '9', '2', '2', '1', '4', '5', '8', '2', '0', '4', '6', '6', '9',\n",
       "       '1', '8', '2', '8', '1', '9', '7', '0', '6', '5', '5', '1', '4',\n",
       "       '5', '6', '7', '4', '7', '0', '9', '1', '6', '1', '9', '1', '7',\n",
       "       '7', '1', '5', '4', '1', '5', '8', '8', '0', '0', '4', '7', '4',\n",
       "       '6', '6', '1', '3', '1', '4', '9', '4', '2', '8', '8', '9', '9',\n",
       "       '3', '1', '3', '4', '1', '3', '9', '4', '8', '4', '2', '0', '9',\n",
       "       '7', '8', '7', '3', '1', '4', '6', '8', '9', '9', '5', '5', '5',\n",
       "       '9', '8', '0', '6', '6', '6', '6', '5', '5', '5', '8', '5', '9',\n",
       "       '4', '5', '7', '2', '1', '7', '6', '3', '3', '8', '8', '0', '6',\n",
       "       '5', '8', '0', '4', '9', '4', '0', '1', '7', '2', '8', '7', '5',\n",
       "       '7', '4', '4', '2', '3', '4', '4', '3', '8', '9', '3', '1', '6',\n",
       "       '1', '6', '5', '7', '2', '7', '7', '6', '5', '7', '0', '9', '9',\n",
       "       '4', '4', '2', '4', '5', '0', '4', '6', '9', '9', '0', '0', '9',\n",
       "       '6', '8', '2', '5', '5', '3', '0', '2', '3', '6', '3', '1', '2',\n",
       "       '4', '9', '7', '8', '6', '3', '4', '1', '2', '2', '5', '1', '0',\n",
       "       '6', '8', '5', '9', '9', '2', '8', '2', '3', '6', '2', '9', '4',\n",
       "       '4', '4', '1', '4', '1', '6', '1', '1', '8', '4', '8', '1', '1',\n",
       "       '0', '3', '5', '9', '3', '8', '7', '7', '4', '3', '1', '9', '6',\n",
       "       '5', '6', '1', '2', '3', '8', '6', '8', '2', '5', '1', '6', '5',\n",
       "       '3', '9', '0', '7', '9', '4', '9', '8', '8', '7', '3', '2', '9',\n",
       "       '1', '4', '0', '5', '1', '1', '8', '5', '5', '9', '9', '8', '0',\n",
       "       '4', '4', '2', '1', '3', '1', '9', '1', '7', '7', '5', '5', '2',\n",
       "       '9', '3', '0', '5', '3', '5', '2', '3', '1', '1', '9', '7', '4',\n",
       "       '6', '7', '8', '9', '9', '8', '1', '0', '7', '9', '3', '3', '2',\n",
       "       '9', '8', '9', '7', '6', '0', '3', '5', '7', '2', '4', '5', '0',\n",
       "       '1', '2', '3', '3', '1', '0', '8', '7', '4', '7', '8', '5', '0',\n",
       "       '9', '5', '3', '3', '9', '7', '7', '2', '1', '8', '5', '7', '8',\n",
       "       '3', '7', '9', '2', '1', '1', '8', '9', '7', '4', '7', '2', '4',\n",
       "       '9', '0', '0', '8', '3', '2', '3', '4', '9', '5', '9', '1', '4',\n",
       "       '1', '9', '2', '1', '7', '3', '2', '3', '7', '9', '1', '9', '2',\n",
       "       '7', '9', '0', '6', '6', '7', '9', '3', '1', '9', '9', '9', '4',\n",
       "       '3', '6', '1', '1', '4', '6', '1', '5', '0', '3', '4', '4', '3',\n",
       "       '1', '8', '4', '2', '3', '8', '6', '6', '1', '7', '3', '4', '7',\n",
       "       '6', '6', '8', '2', '8', '8', '2', '3', '1', '3', '6', '8', '3',\n",
       "       '9', '0', '0', '9', '9', '5', '9', '1', '1', '7', '5', '4', '1',\n",
       "       '4', '7', '9', '9', '6', '1', '6', '3', '9', '2', '5', '7', '8',\n",
       "       '4', '2', '9', '9', '1', '6', '7', '6', '6', '9', '0', '4', '7',\n",
       "       '1', '4', '5', '5', '7', '7', '4', '8', '4', '0', '5', '2', '5',\n",
       "       '7', '9', '9', '5', '7', '7', '2', '5', '4', '6', '1', '9', '0',\n",
       "       '0', '6', '9', '8', '4', '8', '7', '8', '3', '1', '1', '9', '4',\n",
       "       '0', '7', '6', '8', '3', '5', '2', '4', '3', '5', '2', '1', '4',\n",
       "       '7', '6', '6', '9', '9', '4', '3', '0', '4', '0', '3', '8', '5',\n",
       "       '3', '1', '4', '9', '7', '1', '3', '1', '7', '6', '6', '9', '9',\n",
       "       '8', '3', '8', '8', '4', '1', '0', '1', '8', '7', '4', '1', '8',\n",
       "       '8', '5', '3', '7', '3', '1', '1', '5', '0', '6', '0', '4', '6',\n",
       "       '5', '1', '0', '8', '7', '6', '9', '3', '5', '1', '8', '7', '1',\n",
       "       '6', '2', '4', '9', '6', '9', '2', '9', '3', '7', '9', '3', '3',\n",
       "       '7', '0', '0', '1', '2', '5', '0', '7', '8', '1', '1', '8', '8',\n",
       "       '6', '1', '0', '0', '9', '7', '7', '8', '5', '2', '7', '8', '7',\n",
       "       '0', '9', '7', '8', '8', '6', '4', '6', '3', '0', '5', '9', '1',\n",
       "       '1', '4', '4', '9', '1', '0', '1', '6', '1', '2', '9', '2', '3',\n",
       "       '7', '9', '8', '7', '1', '7', '1', '0', '9', '0', '3', '1', '4',\n",
       "       '9', '2', '7', '9', '7', '2', '1', '9', '6', '1', '8', '1', '4',\n",
       "       '7', '5', '2', '8', '5', '0', '3', '4', '5', '9', '3', '4', '1',\n",
       "       '5', '1', '1', '0', '1', '1', '2', '8', '0', '6', '8', '9', '9',\n",
       "       '2', '3', '0', '1', '5', '1', '0', '9', '2', '0', '1', '0', '3',\n",
       "       '2', '1', '1', '6', '9', '8', '1', '4', '6', '0', '1', '9', '3',\n",
       "       '9', '2', '8', '7', '0', '9', '3', '6', '1', '8', '4', '2', '0',\n",
       "       '2', '1', '9', '7', '5', '8', '2', '7', '0', '7', '4', '1', '6',\n",
       "       '7', '7', '8', '9', '3', '6', '9', '9', '7', '9', '2', '7', '5',\n",
       "       '2', '0', '9', '3', '4', '0', '9', '1', '4', '5', '5', '8', '3',\n",
       "       '5', '9', '8', '6', '7', '9', '3', '0', '7', '8', '7', '9', '3',\n",
       "       '7', '1', '5', '4', '5', '2', '5', '9', '2', '8', '6', '9', '1',\n",
       "       '3', '1', '2', '0', '6', '2', '9', '5', '5', '9', '9', '0', '0',\n",
       "       '4', '5', '1', '4', '1', '5', '2', '0', '5', '7', '8', '0', '6',\n",
       "       '8', '8', '1', '4', '8', '4', '7', '0', '7', '6', '8', '2', '1',\n",
       "       '0', '6', '7', '0', '6', '9', '1', '3', '1', '1', '1', '1', '3',\n",
       "       '9', '7', '4', '2', '5', '0', '3', '0', '3', '0', '4', '0', '8',\n",
       "       '4', '4', '3', '4', '0', '7', '3', '4', '4', '6', '1', '5', '2',\n",
       "       '6', '0', '7', '9', '3', '2', '4', '1', '5', '2', '4', '8', '3',\n",
       "       '2', '1', '7', '7', '8', '2', '0', '8', '8', '1', '9', '2', '0',\n",
       "       '6', '1', '1', '7', '3', '3', '2', '7', '7', '8', '7', '9', '8',\n",
       "       '7', '0', '0', '0', '3', '8', '0', '5', '0', '3', '5', '1', '2',\n",
       "       '9', '2', '6', '7', '6', '6', '9', '4', '6', '6', '8', '8', '3',\n",
       "       '5', '4', '3', '5', '9', '7', '5', '3', '4', '2', '1', '1', '1',\n",
       "       '2', '7', '0', '3', '0', '7', '0', '1', '9', '7', '6', '0', '4',\n",
       "       '7', '0', '6', '5', '9', '2', '9', '1', '1', '0', '4', '1', '0',\n",
       "       '2', '1', '6', '2', '8', '8', '9', '1', '3', '7', '6', '8', '3',\n",
       "       '8', '7', '9', '9', '0', '7', '6', '8', '1', '6', '0', '1', '7',\n",
       "       '7', '0', '0', '2', '1', '2', '0', '0', '1', '1', '0', '4', '4',\n",
       "       '3', '2', '4', '9', '5', '2', '3', '9', '6', '4', '3', '8', '4',\n",
       "       '1', '8', '1', '3', '7', '7', '4', '8', '8', '7', '8', '5', '8',\n",
       "       '9', '5', '0', '3', '5', '1', '3', '2', '2', '0', '0', '9', '9',\n",
       "       '0', '1', '5', '7', '0', '5', '1', '3', '0', '7', '1', '1', '3',\n",
       "       '3', '4', '4', '9', '3', '1', '9', '0', '3', '1', '4', '9', '6',\n",
       "       '1', '9', '8', '3', '9', '4', '1', '1', '2', '3', '8', '6', '7',\n",
       "       '5', '2', '1', '4', '7', '3', '4', '3', '3', '1', '3', '4', '4',\n",
       "       '5', '6', '4', '6', '6', '0', '9', '1', '4', '2', '7', '1', '1',\n",
       "       '2', '0', '1', '8', '2', '2', '9', '2', '3', '3', '7', '7', '2',\n",
       "       '8', '2', '3', '1', '6', '5', '6', '5', '1', '1', '7', '0', '3',\n",
       "       '0', '1', '3', '5', '5', '9', '9', '8', '6', '2', '4', '3', '0',\n",
       "       '6', '1', '1', '5', '7', '0', '7', '1', '1', '1', '7', '0', '2',\n",
       "       '7', '8', '6', '5', '2', '6', '8', '7', '6', '5', '4', '4', '2',\n",
       "       '5', '4', '7', '4', '0', '1', '8', '2', '4', '8', '9', '4', '6',\n",
       "       '5', '4', '5', '7', '9', '3', '1', '1', '4', '7', '0', '4', '0',\n",
       "       '6', '2', '5', '4', '0', '9', '3', '6', '0', '5', '8', '0', '1',\n",
       "       '1', '0', '8', '3', '0', '3', '9', '1', '3', '8', '4', '5', '1',\n",
       "       '1', '6', '9', '7', '4', '0', '9', '9', '2', '0', '4', '1', '3',\n",
       "       '5', '4', '5', '5', '1', '8', '6', '6', '0', '7', '6', '1', '2',\n",
       "       '5', '0', '3', '2', '1', '6', '8', '4', '0', '2', '0', '6', '7',\n",
       "       '1', '6', '9', '3', '0', '1', '5', '2', '0', '3', '3', '9', '0',\n",
       "       '0', '3', '4', '7', '0', '0', '7', '0', '4', '0', '9', '9', '6',\n",
       "       '6', '5', '1', '8', '7', '1', '6', '1', '6', '8', '1', '9', '3',\n",
       "       '6', '2', '9', '9', '1', '9', '1', '5', '5', '8', '7', '5', '2',\n",
       "       '2', '2', '2', '4', '6', '8', '6', '5', '2', '1', '2', '0', '2',\n",
       "       '7', '7', '4', '9', '1', '8', '4', '7', '6', '2', '6', '2', '2',\n",
       "       '5', '4', '7', '9', '3', '1', '6', '4', '1', '4', '7', '5', '2',\n",
       "       '0', '4', '4', '6', '5', '6', '0', '9', '7', '5', '7', '5', '7',\n",
       "       '4', '0', '9', '6', '3', '4', '2', '8', '8', '9', '2', '2', '4',\n",
       "       '2', '6', '3', '5', '5', '1', '4', '9', '9', '4', '3', '3', '0',\n",
       "       '2', '7', '9', '5', '8', '0', '5', '8', '6', '4', '6', '6', '3',\n",
       "       '3', '2', '8', '6', '6', '3', '1', '5', '7', '7', '5', '4', '6',\n",
       "       '7', '2', '3', '3', '0', '0', '1', '8', '1', '3', '5', '1', '0',\n",
       "       '1', '4', '5', '1', '9', '9', '1', '8', '4', '2', '0', '1', '4',\n",
       "       '1', '9', '2', '3', '1', '7', '5', '0', '6', '7', '5', '1', '4',\n",
       "       '6', '3', '5', '4', '6', '9', '3', '1', '3', '7', '7', '0', '4',\n",
       "       '2', '4', '6', '5', '8', '1', '6', '6', '0', '1', '8', '8', '4',\n",
       "       '2', '9', '4', '1', '9', '9', '6', '1', '5', '7', '2', '8', '2',\n",
       "       '9', '2', '4', '0', '1', '3', '2', '5', '3', '3', '1', '4', '5',\n",
       "       '7', '0', '8', '8', '7', '4', '0', '1', '3', '1', '4', '0', '1',\n",
       "       '6', '5', '1', '9', '9', '9', '1', '5', '1', '2', '7', '5', '9',\n",
       "       '6', '5', '0', '4', '4', '9', '4', '3', '7', '5', '1', '1', '2',\n",
       "       '4', '5', '0', '7', '0', '1', '0', '0', '8', '7', '0', '6', '8',\n",
       "       '9', '8', '6', '3', '9', '0', '0', '2', '9', '3', '3', '6', '9',\n",
       "       '6', '8', '5', '7', '3', '8', '7', '5', '0', '8', '0', '1', '2',\n",
       "       '2', '6', '1', '6', '2', '3', '7', '1', '1', '6', '6', '3', '9',\n",
       "       '2', '7', '4', '7', '6', '3', '1', '9', '8', '2', '3', '0', '2',\n",
       "       '6', '7', '5', '1', '2', '5', '4', '9', '4', '3', '8', '7', '8',\n",
       "       '0', '2', '2', '7', '7', '0', '4', '6', '5', '2', '8', '5', '5',\n",
       "       '6', '1', '7', '9', '2', '3', '7', '1', '8', '7', '0', '6', '8',\n",
       "       '1', '0', '1', '3', '9', '0', '4', '7', '5', '4', '9', '1', '1',\n",
       "       '8', '6', '2', '6', '5', '2', '8', '9', '0', '7', '3', '0', '7',\n",
       "       '5', '7', '4', '1', '2', '2', '9', '8', '4', '6', '3', '3', '4',\n",
       "       '1', '7', '1', '6', '4', '6', '6', '1', '1', '2', '2', '1', '6',\n",
       "       '9', '2', '1', '5', '5', '9', '4', '7', '9', '2', '1', '6', '3',\n",
       "       '6', '5', '7', '8', '9', '1', '0', '1', '7', '3', '2', '3', '0',\n",
       "       '1', '0', '5', '2', '1', '3', '0', '3', '4', '8', '9', '3', '7',\n",
       "       '9', '1', '4', '7', '6', '0', '6', '9', '6', '6', '6', '3', '7',\n",
       "       '3', '6', '8', '8', '9', '3', '8', '1', '1', '0', '2', '1', '9',\n",
       "       '1', '9', '9', '4', '9', '2', '2', '2', '9', '4', '5', '6', '2',\n",
       "       '1', '7', '1', '3', '3', '4', '9', '7', '1', '7', '8', '4', '5',\n",
       "       '6', '4', '3', '6', '8', '7', '9', '8', '0', '7', '9', '0', '8',\n",
       "       '6', '4', '4', '4', '4', '2', '3', '0', '0', '8', '5', '7', '9',\n",
       "       '3', '1', '9', '0', '3', '4', '1', '7', '7', '6', '2', '7', '4',\n",
       "       '3', '5', '7', '7', '2', '0', '8', '4', '0', '5', '5', '6', '0',\n",
       "       '7', '2', '7', '5', '5', '3', '0', '2', '9', '0', '3', '2', '4',\n",
       "       '1', '9', '4', '5', '6', '2', '9', '9', '0', '0', '1', '6', '2',\n",
       "       '8', '1', '0', '8', '0', '5', '3', '4', '2', '5', '5', '8', '8',\n",
       "       '7', '1', '0', '4', '8', '6', '7', '6', '4', '4', '1', '8', '0',\n",
       "       '1', '3', '1', '1', '5', '7', '5', '7', '6', '3', '2', '2', '2',\n",
       "       '1', '0', '4', '4', '1', '8', '1', '6', '0', '0', '7', '7', '9',\n",
       "       '1', '5', '5', '7', '5', '7', '5', '9', '6', '1', '0', '1', '4',\n",
       "       '3', '9', '3', '2', '5', '9', '4', '9', '9', '1', '9', '7', '0',\n",
       "       '5', '1', '1', '4', '4', '2', '5', '1', '4', '1', '3', '2', '0',\n",
       "       '2', '9', '5', '1', '2', '4', '6', '2', '6', '8', '1', '1', '3',\n",
       "       '1', '3', '2', '9', '1', '9', '2', '7', '7', '1', '2', '7', '1',\n",
       "       '9', '7', '0', '4', '2', '1', '5', '7', '9', '6', '1', '9', '2',\n",
       "       '7', '3', '2', '4', '6', '3', '9', '9', '9', '7', '1', '2', '8',\n",
       "       '3', '0', '9', '8', '2', '6', '0', '8', '3', '5', '1', '4', '6',\n",
       "       '6', '1', '2', '9', '6', '0', '1', '1', '2', '7', '2', '9', '3',\n",
       "       '6', '6', '2', '1', '2', '5', '0', '0', '3', '2', '4', '5', '9',\n",
       "       '4', '7', '8', '6', '9', '1', '3', '6', '8', '7', '8', '0', '1',\n",
       "       '9', '9', '4', '0', '5', '6', '5', '1', '3', '5', '0', '5', '6',\n",
       "       '5', '2', '9', '6', '9', '5', '0', '7', '1', '1', '3', '3', '7',\n",
       "       '7', '1', '3', '0', '6', '1', '5', '3', '0', '8', '0', '4', '4',\n",
       "       '9', '7', '0', '9', '5', '1', '7', '7', '6', '7', '0', '2', '4',\n",
       "       '0', '3', '9', '0', '8', '5', '4', '5', '5', '1', '5', '3', '7',\n",
       "       '9', '9', '9', '5', '2', '2', '4', '9', '2', '0', '8', '3', '8',\n",
       "       '4', '2', '1', '6', '8', '5', '7', '0', '6', '7', '0', '2', '8',\n",
       "       '4', '6', '6', '5', '1', '0', '3', '3', '3', '9', '1', '2', '4',\n",
       "       '7', '4', '1', '8', '8', '7', '7', '0', '5', '7', '1', '2', '7',\n",
       "       '3', '8', '6', '1', '7', '0', '0', '9', '1', '0', '1', '3', '6',\n",
       "       '3', '1', '5', '6', '2', '1', '3', '2', '9', '5', '0', '1', '6',\n",
       "       '9', '5', '2', '9', '5', '7', '7', '8', '8', '7', '8', '3', '4',\n",
       "       '8', '8', '8', '4', '2', '8', '6', '1', '4', '1', '7', '3', '6',\n",
       "       '1', '2', '1', '3', '6', '4', '5', '5', '9', '4', '7', '3', '4',\n",
       "       '9', '2', '6', '7', '5', '7', '7', '0', '1', '8', '2', '9', '8',\n",
       "       '4', '5', '7', '4', '1', '5', '2', '8', '9', '6', '2', '0', '9',\n",
       "       '8', '1', '6', '4', '6', '5', '7', '5', '4', '3', '1', '1', '7',\n",
       "       '0', '4', '7', '7', '6', '7', '7', '6', '7', '7', '7', '6', '1',\n",
       "       '5', '7', '5', '4', '5', '8', '4', '4', '9', '3', '3', '7', '6',\n",
       "       '9', '4', '5', '7', '2', '1', '6', '3', '3', '7', '7', '7', '9',\n",
       "       '6', '6', '4', '4', '6', '0', '4', '6', '4', '6', '3', '8', '9',\n",
       "       '0', '8', '9', '2', '3', '5', '1', '1', '6', '5', '2', '0', '5',\n",
       "       '2', '0', '8', '4', '8', '3', '6', '7', '6', '9', '4', '1', '9',\n",
       "       '5', '1', '3', '0', '8', '4', '9', '5', '4', '8', '0', '4', '3',\n",
       "       '5', '3', '5', '2', '8', '1', '7', '5', '8', '6', '0', '9', '9',\n",
       "       '1', '2', '9', '7', '5', '2', '1', '4', '2', '5', '7', '9', '9',\n",
       "       '7', '8', '6', '4', '0', '9', '8', '7', '7', '0', '7', '5', '6',\n",
       "       '7', '9', '7', '2', '2', '1', '2', '2', '2', '5', '0', '1', '0',\n",
       "       '5', '3', '5', '7', '1', '4', '6', '0', '1', '3', '1', '5', '7',\n",
       "       '7', '0', '7', '2', '4', '9', '4', '7', '5', '0', '2', '7', '7',\n",
       "       '5', '5', '9', '3', '1', '7', '8', '4', '6', '3', '2', '9', '6',\n",
       "       '5', '0', '9', '1', '7', '8', '7', '7', '1', '5', '8', '6', '1',\n",
       "       '3', '9', '7', '6', '8', '4', '9', '7', '7', '5', '7', '2', '0',\n",
       "       '7', '8', '3', '1', '6', '6', '5', '0', '0', '5', '2', '0', '3',\n",
       "       '9', '1', '6', '2', '3', '2', '2', '0', '5', '6', '8', '9', '5',\n",
       "       '9', '7', '6', '0', '9', '7', '3', '8', '5', '2', '0', '7', '1',\n",
       "       '5', '7', '9', '2', '8', '1', '1', '5', '6', '7', '4', '6', '0',\n",
       "       '0', '0', '4', '4', '4', '4', '0', '5', '0', '9', '8', '4', '6',\n",
       "       '8', '7', '5', '5', '3', '1', '3', '8', '9', '3', '5', '1', '1',\n",
       "       '7', '4', '5', '9', '4', '9', '5', '4', '1', '6', '4', '6', '1',\n",
       "       '1', '0', '9', '0', '3', '2', '4', '0', '2', '7', '3', '4', '3',\n",
       "       '3', '2', '9', '7', '1', '1', '9', '4', '8', '8', '3', '3', '1',\n",
       "       '9', '0', '4', '0', '4', '4', '1', '3', '7', '5', '3', '8', '5',\n",
       "       '2', '1', '7', '4', '1', '9', '1', '3', '0', '7', '7', '2', '7',\n",
       "       '4', '6', '7', '6', '7', '9', '4', '9', '0', '2', '0', '5', '7',\n",
       "       '6', '9', '7', '7', '2', '0', '9', '1', '0', '4', '9', '8', '8',\n",
       "       '7', '7', '2', '8', '3', '1', '3', '2', '0', '9', '2', '1', '5',\n",
       "       '0', '7', '5', '3', '0', '6', '1', '5', '8', '0', '9', '3', '7',\n",
       "       '2', '9', '2', '6', '8', '8', '0', '9', '7', '9', '4', '1', '5',\n",
       "       '5', '3', '0', '4', '6', '3', '6', '3', '1', '5', '5', '6', '8',\n",
       "       '3', '1', '3', '4', '9', '0', '9', '4', '1', '8', '3', '9', '0',\n",
       "       '0', '4', '7', '1', '1', '2', '1', '0', '6', '1', '5', '7', '5',\n",
       "       '9', '7', '9', '3', '8', '4', '6', '0', '3', '4', '2', '0', '1',\n",
       "       '2', '3', '4', '6', '1', '8', '6', '6', '8', '0', '3', '9', '3',\n",
       "       '2', '9', '0', '4', '3', '4', '6', '1', '2', '7', '1', '4', '3',\n",
       "       '9', '8', '5', '2', '7', '4', '5', '6', '0', '0', '5', '4', '3',\n",
       "       '4', '9', '2', '3', '9', '9', '8', '9', '0', '7', '4', '7', '3',\n",
       "       '4', '8', '5', '4', '4', '6', '8', '1', '0', '1', '5', '6', '1',\n",
       "       '4', '6', '3', '2', '2', '5', '4', '6', '8', '7', '2', '6', '6',\n",
       "       '3', '2', '6', '3', '0', '0', '0', '7', '4', '6', '8', '9', '7',\n",
       "       '2', '2', '5', '4', '5', '1', '9', '5', '6', '0', '3', '9', '2',\n",
       "       '2', '1', '7', '7', '2', '2', '6', '1', '4', '4', '1', '8', '0',\n",
       "       '7', '2', '7', '8', '4', '6', '9', '4', '3', '7', '7', '1', '5',\n",
       "       '1', '0', '9', '8', '4', '8', '4', '7', '2', '3', '5', '5', '4',\n",
       "       '3', '3', '3', '5', '0', '7', '2', '1', '8', '9', '9', '9', '3',\n",
       "       '9', '3', '4', '1', '7', '0', '8', '4', '9', '0', '8', '8', '7',\n",
       "       '8', '4', '6', '8', '1', '1', '2', '1', '4', '1', '2', '3', '7',\n",
       "       '4', '3', '4', '0', '8', '5', '1', '5', '8', '0', '6', '5', '9',\n",
       "       '2', '3', '2', '2', '4', '6', '1', '7', '2', '6', '0', '2', '6',\n",
       "       '5', '4', '9', '8', '1', '1', '1', '6', '9', '5', '3', '6', '6',\n",
       "       '3', '9', '1', '4', '0', '1', '9', '2', '3', '9', '1', '0', '7',\n",
       "       '7', '7', '7', '1', '7', '9', '8', '6', '4', '8', '4', '3', '6',\n",
       "       '1', '6', '5', '6', '4', '3', '5', '2', '2', '5', '1', '8', '1',\n",
       "       '2', '1', '5', '1', '6', '0', '0', '3', '5', '2', '7', '2', '9',\n",
       "       '4', '3', '6', '9', '0', '8', '1', '8', '2', '8', '4', '5', '1',\n",
       "       '3', '2', '6', '3', '9', '8', '2', '7', '7', '8', '7', '2', '6',\n",
       "       '0', '2', '3', '2', '1', '7', '7', '2', '4', '4', '5', '2', '0',\n",
       "       '5', '1', '6', '4', '1', '6', '3', '4', '7', '3', '0', '6', '4',\n",
       "       '8', '0', '3', '8', '6', '9', '1', '9', '1', '3', '1', '4', '9',\n",
       "       '1', '2', '9', '1', '5', '6', '3', '2', '8', '6', '2', '0', '8',\n",
       "       '1', '6', '0', '3', '0', '7', '3', '9', '9', '3', '8', '0', '4',\n",
       "       '4', '6', '2', '4', '0', '0', '2', '5', '2', '2', '3', '0', '1',\n",
       "       '3', '1', '3', '5', '0', '9', '9', '9', '1', '5', '5', '5', '4',\n",
       "       '3', '4', '9', '2', '7', '0', '8', '1', '6', '7', '7', '9', '0',\n",
       "       '2', '2', '7', '4', '9', '4', '2', '6', '0', '7', '0', '8', '6',\n",
       "       '9', '7', '5', '6', '6', '6', '2', '7', '7', '9', '8', '6', '5',\n",
       "       '8', '8', '1', '3', '4', '0', '1', '7', '6', '9', '8', '8', '8',\n",
       "       '3', '8', '3', '4', '9', '1', '6', '8', '1', '6', '4', '4', '2',\n",
       "       '2', '4', '2', '9', '2', '2', '1', '9', '2', '3', '2', '6', '5',\n",
       "       '1', '6', '2', '8', '7', '9', '1', '4', '2', '0', '1', '4', '6',\n",
       "       '9', '7', '6', '6', '8', '2', '2', '0', '2', '3', '4', '7', '7',\n",
       "       '5', '9', '7', '7', '1', '9', '5', '8', '7', '3', '7', '4', '4',\n",
       "       '2', '9', '5', '2', '3', '7', '6', '3', '9', '5', '1', '0', '4',\n",
       "       '5', '2', '9', '0', '9', '9', '4', '7', '3', '9', '6', '7', '1',\n",
       "       '3', '5', '5', '8', '1', '2', '7', '1', '7', '8', '7', '3', '7',\n",
       "       '0', '6', '3', '2', '7', '0', '3', '4', '2', '9', '1', '0', '6',\n",
       "       '2', '9', '2', '7', '1', '1', '8', '4', '9', '0', '2', '7', '5',\n",
       "       '3', '1', '1', '3', '0', '7', '6', '3', '9', '3', '7', '2', '8',\n",
       "       '7', '7', '7', '8', '8', '5', '0', '4', '3', '6', '1', '8', '9',\n",
       "       '5', '6', '5', '7', '8', '5', '6', '6', '1', '9', '1', '3', '6',\n",
       "       '7', '9', '7', '2', '8', '9', '5', '6', '4', '0', '0', '2', '7',\n",
       "       '6', '4', '0', '9', '7', '0', '5', '6', '6', '7', '7', '4', '4',\n",
       "       '6', '8', '5', '2', '0', '9', '1', '2', '4', '9', '7', '4', '9',\n",
       "       '5', '1', '2', '4', '1', '1', '2', '6', '1', '9', '9', '9', '5',\n",
       "       '7', '9', '4', '7', '2', '5', '2', '3', '0', '1', '3', '8', '1',\n",
       "       '5', '5', '1', '1', '9', '2', '0', '5', '9', '8', '1', '3', '3',\n",
       "       '7', '9', '1', '3', '2', '7', '6', '4', '3', '1', '6', '2', '6',\n",
       "       '3', '6', '0', '6', '8', '2', '3', '7', '4', '4', '1', '0', '6',\n",
       "       '1', '9', '6', '4', '6', '3', '2', '9', '1', '1', '2', '3', '9',\n",
       "       '1', '6', '1', '1', '1', '0', '9', '5', '9', '5', '0', '5', '6',\n",
       "       '8', '4', '7', '9', '0', '1', '0', '9', '9', '4', '0', '9', '4',\n",
       "       '2', '0', '9', '7', '0', '8', '5', '7', '7', '4', '8', '7', '8',\n",
       "       '6', '3', '8', '3', '4', '4', '0', '0', '2', '7', '2', '9', '8',\n",
       "       '6', '3', '0', '5', '5', '9', '5', '8', '3', '2', '5', '2', '2',\n",
       "       '1', '3', '6', '8', '7', '3', '0', '9', '3', '8', '4', '3', '2',\n",
       "       '4', '1', '7', '4', '9', '0', '6', '0', '2', '9', '0', '2', '4',\n",
       "       '1', '6', '8', '9', '8', '6', '9', '4', '9', '1', '5', '1', '9',\n",
       "       '8', '7', '8', '7', '9', '0', '8', '9', '6', '8', '9', '9', '2',\n",
       "       '1', '1', '6', '6', '2', '9', '7', '8', '2', '5', '0', '6', '1',\n",
       "       '8', '0', '5', '8', '5', '7', '5', '6', '1', '1', '8', '2', '0',\n",
       "       '9', '1', '5', '1', '3', '1', '4', '9', '6', '5', '4', '9', '6',\n",
       "       '5', '3', '2', '9', '3', '1', '3', '0', '7', '2', '6', '5', '9',\n",
       "       '5', '0', '5', '9', '8', '4', '2', '7', '7', '6', '3', '0', '6',\n",
       "       '1', '5', '6', '8', '1', '3', '2', '0', '9', '7', '9', '8', '4',\n",
       "       '0', '0', '8', '6', '0', '3', '7', '3', '8', '4', '2', '0', '6',\n",
       "       '2', '0', '2', '4', '4', '4', '4', '0', '0', '5', '7', '5', '7',\n",
       "       '2', '3', '1', '0', '9', '4', '3', '5', '6', '3', '5', '7', '2',\n",
       "       '1', '1', '0', '4', '7', '3', '0', '8', '8', '7', '8', '4', '0',\n",
       "       '9', '1', '9', '0', '5', '1', '0', '6', '1', '1', '7', '8', '5',\n",
       "       '1', '7', '3', '1', '8', '6', '7', '3', '1', '6', '6', '9', '1',\n",
       "       '0', '7', '9', '4', '2', '6', '6', '6', '8', '2', '6', '0', '0',\n",
       "       '0', '4', '7', '1', '7', '0', '0', '1', '0', '2', '7', '9', '3',\n",
       "       '0', '1', '0', '5', '8', '1', '9', '9', '5', '7', '1', '5', '1',\n",
       "       '6', '1', '1', '8', '8', '0', '4', '9', '3', '0', '7', '7', '7',\n",
       "       '1', '1', '1', '9', '2', '0', '6', '3', '1', '8', '7', '4', '0',\n",
       "       '4', '2', '7', '5', '5', '0', '2', '1', '1', '2', '9', '9', '3',\n",
       "       '8', '5', '4', '6', '1', '9', '0', '4', '1', '7', '6', '9', '6',\n",
       "       '6', '0', '8', '6', '5', '3', '1', '7', '8', '2', '1', '1', '6',\n",
       "       '4', '8', '4', '9', '7', '9', '2', '4', '8', '0', '9', '0', '7',\n",
       "       '3', '2', '4', '0', '4', '5', '9', '8', '1', '9', '7', '2', '4',\n",
       "       '7', '8', '2', '7', '7', '7', '7', '1', '0', '7', '6', '9', '9',\n",
       "       '9', '3', '4', '7', '8', '8', '0', '0', '3', '4', '0', '7', '3',\n",
       "       '3', '8', '9', '1', '1', '3', '0', '9', '2', '8', '4', '8', '3',\n",
       "       '5', '2', '0', '7', '8', '7', '5', '6', '7', '0', '3', '0', '6',\n",
       "       '5', '1', '3', '1', '1', '7', '5', '7', '6', '3', '1', '4', '3',\n",
       "       '8', '1', '8', '7', '9', '7', '6', '1', '2', '8', '1', '6', '7',\n",
       "       '4', '5', '0', '9', '6', '9', '8', '6', '2', '7', '7', '7', '5',\n",
       "       '5', '0', '0', '8', '1', '5', '5', '0', '1', '9', '0', '1', '3',\n",
       "       '5', '9', '1', '4', '7', '0', '7', '9', '7', '7', '2', '2', '9',\n",
       "       '7', '3', '6', '4', '8', '6', '4', '4', '7', '8', '9', '9', '9',\n",
       "       '7', '4', '6', '7', '6', '6', '2', '2', '3', '1', '1', '8', '5',\n",
       "       '1', '8', '4', '2', '9', '8', '1', '0', '8', '7', '9', '0', '4',\n",
       "       '8', '3', '6', '4', '5', '9', '7', '9', '9', '2', '2', '0', '7',\n",
       "       '5', '1', '7', '1', '1', '9', '9', '4', '7', '4', '9', '7', '3',\n",
       "       '2', '9', '3', '1', '1', '4', '8', '9', '8', '1', '6', '4', '3',\n",
       "       '4', '9', '7', '2', '8', '3', '2', '1', '8', '9', '5', '5', '9',\n",
       "       '8', '6', '6', '1', '7', '0', '5', '2', '0', '5', '4', '2', '7',\n",
       "       '4', '2', '5', '0', '1', '2', '2', '4', '3', '5', '4', '5', '1',\n",
       "       '1', '0', '3', '3', '5', '5', '0', '7', '7', '1', '3', '0', '7',\n",
       "       '6', '6', '0', '9', '6', '6', '8', '1', '9', '2', '1', '5', '4',\n",
       "       '6', '3', '6', '5', '8', '9', '9', '4', '3', '0', '5', '2', '8',\n",
       "       '3', '3', '3', '2', '4', '0', '1', '6', '6', '9', '0', '3', '4',\n",
       "       '4', '3', '1', '4', '7', '1', '6', '9', '3', '0', '7', '7', '9',\n",
       "       '2', '5', '4', '4', '1', '4', '5', '4', '7', '6', '0', '5', '2',\n",
       "       '9', '7', '2', '2', '4', '5', '7', '5', '5', '6', '5', '2', '4',\n",
       "       '1', '3', '8', '8', '1', '7', '2', '9', '6', '8', '3', '1', '4',\n",
       "       '1', '1', '9', '1', '3', '4', '5', '4', '1', '2', '9', '0', '9',\n",
       "       '9', '4', '2', '3', '6', '2', '2', '1', '1', '3', '8', '9', '7',\n",
       "       '9', '1', '7', '0', '4', '3', '6', '4', '1', '0', '7', '1', '1',\n",
       "       '2', '4', '9', '4', '1', '7', '9', '1', '8', '1', '8', '1', '7',\n",
       "       '3', '8', '7', '1', '5', '8', '0', '0', '5', '8', '0', '9', '7',\n",
       "       '6', '4', '6', '4', '2', '6', '4', '6', '3', '6', '4', '7', '2',\n",
       "       '1', '9', '3', '4', '1', '4', '2', '0', '9', '5', '9', '0', '4',\n",
       "       '0', '5', '2', '5', '0', '5', '7', '4', '1', '0', '5', '0', '7',\n",
       "       '7', '6', '6', '2', '3', '8', '3', '0', '7', '2', '6', '0', '5',\n",
       "       '0', '1', '5', '0', '0', '7', '9', '6', '0', '0', '7', '2', '7',\n",
       "       '6', '1', '8', '4', '3', '1', '2', '0', '9', '1', '0', '6', '4',\n",
       "       '4', '0', '6', '0', '2', '4', '9', '3', '9', '0', '3', '4', '3',\n",
       "       '7', '8', '4', '1', '4', '5', '6', '0', '1', '0', '1', '3', '4',\n",
       "       '3', '3', '6', '9', '4', '6', '7', '7', '0', '4', '7', '0', '0',\n",
       "       '3', '9', '1', '3', '4', '7', '1', '4', '1', '5', '8', '8', '4',\n",
       "       '1', '7', '8', '3', '2', '4', '2', '8', '8', '4', '8', '0', '8',\n",
       "       '4', '1', '2', '1', '8', '3', '7', '4', '0', '0', '4', '6', '6',\n",
       "       '6', '4', '3', '4', '1', '5', '7', '7', '7', '0', '1', '3', '3',\n",
       "       '4', '8', '9', '4', '3', '8', '2', '1', '9', '7', '9', '2', '1',\n",
       "       '7', '6', '4', '3', '4', '7', '3', '2', '6', '4', '7', '5', '2',\n",
       "       '2', '7', '3', '1', '3', '4', '5', '6', '1', '8', '1', '8', '6',\n",
       "       '7', '6', '0', '1', '4', '9', '8', '8', '2', '8', '9', '0', '9',\n",
       "       '6', '9', '1', '4', '1', '9', '6', '2', '2', '3', '6', '9', '6',\n",
       "       '7', '2', '1', '7', '0', '7', '1', '4', '5', '3', '7', '4', '2',\n",
       "       '0', '1', '8', '4', '7', '9', '0', '0', '2', '5', '0', '3', '0',\n",
       "       '8', '5', '3', '8', '5', '6', '2', '6', '0', '6', '4', '4', '3',\n",
       "       '7', '3', '2', '8', '6', '2', '6', '7', '5', '1', '6', '9', '2',\n",
       "       '2', '5', '9', '3', '3', '7', '9', '0', '7', '7', '5', '5', '6',\n",
       "       '9', '6', '3', '1', '9', '9', '9', '4', '7', '0', '5', '0', '7',\n",
       "       '7', '6', '6', '0', '2', '8', '2', '8', '0', '1', '6', '9', '9',\n",
       "       '8', '8', '3', '0', '7', '8', '6', '8', '9', '0', '7', '3', '4',\n",
       "       '8', '5', '3', '9', '7', '3', '8', '1', '8', '6', '2', '7', '9',\n",
       "       '9', '0', '4', '6', '5', '9', '3', '7', '8', '9', '9', '4', '7',\n",
       "       '0', '7', '4', '9', '3', '9', '2', '4', '4'], dtype=object)"
      ]
     },
     "execution_count": 20,
     "metadata": {},
     "output_type": "execute_result"
    }
   ],
   "source": [
    "pred"
   ]
  },
  {
   "cell_type": "markdown",
   "metadata": {},
   "source": [
    "#### Task: Calculate and print accuracy score for predictions"
   ]
  },
  {
   "cell_type": "code",
   "execution_count": 21,
   "metadata": {},
   "outputs": [
    {
     "name": "stdout",
     "output_type": "stream",
     "text": [
      "0.9141904761904762\n"
     ]
    }
   ],
   "source": [
    "from sklearn.metrics import accuracy_score\n",
    "\n",
    "accuracy=accuracy_score(ytest,pred)\n",
    "print(accuracy)"
   ]
  },
  {
   "cell_type": "markdown",
   "metadata": {},
   "source": [
    "#### Task: Print classification report  and analyze"
   ]
  },
  {
   "cell_type": "code",
   "execution_count": null,
   "metadata": {},
   "outputs": [],
   "source": []
  },
  {
   "cell_type": "code",
   "execution_count": 22,
   "metadata": {},
   "outputs": [
    {
     "name": "stdout",
     "output_type": "stream",
     "text": [
      "              precision    recall  f1-score   support\n",
      "\n",
      "           0       0.95      0.96      0.96      1035\n",
      "           1       0.92      0.97      0.95      1205\n",
      "           2       0.91      0.89      0.90      1019\n",
      "           3       0.90      0.88      0.89      1081\n",
      "           4       0.90      0.92      0.91       968\n",
      "           5       0.89      0.86      0.88       970\n",
      "           6       0.93      0.95      0.94      1009\n",
      "           7       0.92      0.94      0.93      1110\n",
      "           8       0.91      0.83      0.87      1016\n",
      "           9       0.90      0.91      0.90      1087\n",
      "\n",
      "    accuracy                           0.91     10500\n",
      "   macro avg       0.91      0.91      0.91     10500\n",
      "weighted avg       0.91      0.91      0.91     10500\n",
      "\n"
     ]
    }
   ],
   "source": [
    "from sklearn.metrics import classification_report\n",
    "\n",
    "print(classification_report(ytest,pred))"
   ]
  },
  {
   "cell_type": "markdown",
   "metadata": {},
   "source": [
    "#### Task: Get weighted average of F1 score"
   ]
  },
  {
   "cell_type": "code",
   "execution_count": 23,
   "metadata": {
    "scrolled": true
   },
   "outputs": [
    {
     "name": "stdout",
     "output_type": "stream",
     "text": [
      "0.9137562110318295\n"
     ]
    }
   ],
   "source": [
    "from sklearn.metrics import f1_score\n",
    "\n",
    "f1=f1_score(ytest,pred, average='weighted')\n",
    "print(f1)"
   ]
  },
  {
   "cell_type": "markdown",
   "metadata": {},
   "source": [
    "Hence we can see that both Acuracy and F1 Score are around 91.4% and it is really good score for 154 components instead of all 784 pixels"
   ]
  },
  {
   "cell_type": "markdown",
   "metadata": {},
   "source": [
    "Now let's do comparison of Model performance against difference Maximal Variance and Components"
   ]
  },
  {
   "cell_type": "code",
   "execution_count": 24,
   "metadata": {},
   "outputs": [],
   "source": [
    "#defining list of Variance\n",
    "pca_var=[1.0,.99,.95,.90,.85,.80,.75]\n",
    "\n",
    "#defining empty lists\n",
    "accuracy_list=[]\n",
    "f1_list=[]\n",
    "pca_components=[]\n",
    "training_time=[]\n",
    "prediction_time=[]"
   ]
  },
  {
   "cell_type": "code",
   "execution_count": 25,
   "metadata": {
    "scrolled": false
   },
   "outputs": [
    {
     "name": "stderr",
     "output_type": "stream",
     "text": [
      "D:\\anaconda3\\lib\\site-packages\\sklearn\\linear_model\\_logistic.py:763: ConvergenceWarning: lbfgs failed to converge (status=1):\n",
      "STOP: TOTAL NO. of ITERATIONS REACHED LIMIT.\n",
      "\n",
      "Increase the number of iterations (max_iter) or scale the data as shown in:\n",
      "    https://scikit-learn.org/stable/modules/preprocessing.html\n",
      "Please also refer to the documentation for alternative solver options:\n",
      "    https://scikit-learn.org/stable/modules/linear_model.html#logistic-regression\n",
      "  n_iter_i = _check_optimize_result(\n",
      "D:\\anaconda3\\lib\\site-packages\\sklearn\\linear_model\\_logistic.py:763: ConvergenceWarning: lbfgs failed to converge (status=1):\n",
      "STOP: TOTAL NO. of ITERATIONS REACHED LIMIT.\n",
      "\n",
      "Increase the number of iterations (max_iter) or scale the data as shown in:\n",
      "    https://scikit-learn.org/stable/modules/preprocessing.html\n",
      "Please also refer to the documentation for alternative solver options:\n",
      "    https://scikit-learn.org/stable/modules/linear_model.html#logistic-regression\n",
      "  n_iter_i = _check_optimize_result(\n",
      "D:\\anaconda3\\lib\\site-packages\\sklearn\\linear_model\\_logistic.py:763: ConvergenceWarning: lbfgs failed to converge (status=1):\n",
      "STOP: TOTAL NO. of ITERATIONS REACHED LIMIT.\n",
      "\n",
      "Increase the number of iterations (max_iter) or scale the data as shown in:\n",
      "    https://scikit-learn.org/stable/modules/preprocessing.html\n",
      "Please also refer to the documentation for alternative solver options:\n",
      "    https://scikit-learn.org/stable/modules/linear_model.html#logistic-regression\n",
      "  n_iter_i = _check_optimize_result(\n",
      "D:\\anaconda3\\lib\\site-packages\\sklearn\\linear_model\\_logistic.py:763: ConvergenceWarning: lbfgs failed to converge (status=1):\n",
      "STOP: TOTAL NO. of ITERATIONS REACHED LIMIT.\n",
      "\n",
      "Increase the number of iterations (max_iter) or scale the data as shown in:\n",
      "    https://scikit-learn.org/stable/modules/preprocessing.html\n",
      "Please also refer to the documentation for alternative solver options:\n",
      "    https://scikit-learn.org/stable/modules/linear_model.html#logistic-regression\n",
      "  n_iter_i = _check_optimize_result(\n",
      "D:\\anaconda3\\lib\\site-packages\\sklearn\\linear_model\\_logistic.py:763: ConvergenceWarning: lbfgs failed to converge (status=1):\n",
      "STOP: TOTAL NO. of ITERATIONS REACHED LIMIT.\n",
      "\n",
      "Increase the number of iterations (max_iter) or scale the data as shown in:\n",
      "    https://scikit-learn.org/stable/modules/preprocessing.html\n",
      "Please also refer to the documentation for alternative solver options:\n",
      "    https://scikit-learn.org/stable/modules/linear_model.html#logistic-regression\n",
      "  n_iter_i = _check_optimize_result(\n",
      "D:\\anaconda3\\lib\\site-packages\\sklearn\\linear_model\\_logistic.py:763: ConvergenceWarning: lbfgs failed to converge (status=1):\n",
      "STOP: TOTAL NO. of ITERATIONS REACHED LIMIT.\n",
      "\n",
      "Increase the number of iterations (max_iter) or scale the data as shown in:\n",
      "    https://scikit-learn.org/stable/modules/preprocessing.html\n",
      "Please also refer to the documentation for alternative solver options:\n",
      "    https://scikit-learn.org/stable/modules/linear_model.html#logistic-regression\n",
      "  n_iter_i = _check_optimize_result(\n",
      "D:\\anaconda3\\lib\\site-packages\\sklearn\\linear_model\\_logistic.py:763: ConvergenceWarning: lbfgs failed to converge (status=1):\n",
      "STOP: TOTAL NO. of ITERATIONS REACHED LIMIT.\n",
      "\n",
      "Increase the number of iterations (max_iter) or scale the data as shown in:\n",
      "    https://scikit-learn.org/stable/modules/preprocessing.html\n",
      "Please also refer to the documentation for alternative solver options:\n",
      "    https://scikit-learn.org/stable/modules/linear_model.html#logistic-regression\n",
      "  n_iter_i = _check_optimize_result(\n"
     ]
    }
   ],
   "source": [
    "for v in pca_var:\n",
    "    \n",
    "    #applying PCA\n",
    "    if v==1.0:\n",
    "        train_img=xtrain\n",
    "        test_img=xtest\n",
    "        \n",
    "    else:\n",
    "        pca = PCA(v,random_state=42)\n",
    "        pca.fit(xtrain)\n",
    "        train_img=pca.transform(xtrain)\n",
    "        test_img=pca.transform(xtest)\n",
    "    \n",
    "    #model\n",
    "    model=LogisticRegression(solver='lbfgs',multi_class='multinomial', max_iter=300, random_state=42)\n",
    "    \n",
    "    #training\n",
    "    t_start = timeit.default_timer()\n",
    "    model.fit(train_img,ytrain)\n",
    "    t_stop = timeit.default_timer()\n",
    "    \n",
    "    #prediction\n",
    "    p_start = timeit.default_timer()\n",
    "    pred=model.predict(test_img)\n",
    "    p_stop = timeit.default_timer()\n",
    "    \n",
    "    #Append data in lists\n",
    "    accuracy_list.append(np.round(accuracy_score(ytest,pred),4))\n",
    "    f1_list.append(np.round(f1_score(ytest,pred, average='weighted'),4))\n",
    "    pca_components.append(train_img.shape[1])\n",
    "    training_time.append(np.round(t_stop-t_start,0))\n",
    "    prediction_time.append(np.round(p_stop-p_start,0))"
   ]
  },
  {
   "cell_type": "code",
   "execution_count": 61,
   "metadata": {},
   "outputs": [
    {
     "data": {
      "text/plain": [
       "[]"
      ]
     },
     "execution_count": 61,
     "metadata": {},
     "output_type": "execute_result"
    }
   ],
   "source": [
    "accuracy_list"
   ]
  },
  {
   "cell_type": "code",
   "execution_count": null,
   "metadata": {},
   "outputs": [],
   "source": []
  },
  {
   "cell_type": "markdown",
   "metadata": {},
   "source": [
    "Creating comparison data frame"
   ]
  },
  {
   "cell_type": "code",
   "execution_count": 33,
   "metadata": {},
   "outputs": [
    {
     "ename": "ValueError",
     "evalue": "All arrays must be of the same length",
     "output_type": "error",
     "traceback": [
      "\u001b[1;31m---------------------------------------------------------------------------\u001b[0m",
      "\u001b[1;31mValueError\u001b[0m                                Traceback (most recent call last)",
      "\u001b[1;32mC:\\Users\\HUZAIF~1\\AppData\\Local\\Temp/ipykernel_15984/4150498961.py\u001b[0m in \u001b[0;36m<module>\u001b[1;34m\u001b[0m\n\u001b[0;32m      2\u001b[0m                \u001b[1;34m'Training Time'\u001b[0m\u001b[1;33m:\u001b[0m\u001b[0mtraining_time\u001b[0m\u001b[1;33m,\u001b[0m\u001b[1;34m'Prediction Time'\u001b[0m\u001b[1;33m:\u001b[0m\u001b[0mprediction_time\u001b[0m\u001b[1;33m,\u001b[0m\u001b[1;33m\u001b[0m\u001b[1;33m\u001b[0m\u001b[0m\n\u001b[0;32m      3\u001b[0m                'Accuracy Score':accuracy_list,'F1 Score':f1_list}\n\u001b[1;32m----> 4\u001b[1;33m \u001b[0mcomparison\u001b[0m\u001b[1;33m=\u001b[0m\u001b[0mpd\u001b[0m\u001b[1;33m.\u001b[0m\u001b[0mDataFrame\u001b[0m\u001b[1;33m(\u001b[0m\u001b[0mcomparison_dict\u001b[0m\u001b[1;33m)\u001b[0m\u001b[1;33m\u001b[0m\u001b[1;33m\u001b[0m\u001b[0m\n\u001b[0m\u001b[0;32m      5\u001b[0m \u001b[0mcomparison\u001b[0m\u001b[1;33m\u001b[0m\u001b[1;33m\u001b[0m\u001b[0m\n",
      "\u001b[1;32mD:\\anaconda3\\lib\\site-packages\\pandas\\core\\frame.py\u001b[0m in \u001b[0;36m__init__\u001b[1;34m(self, data, index, columns, dtype, copy)\u001b[0m\n\u001b[0;32m    612\u001b[0m         \u001b[1;32melif\u001b[0m \u001b[0misinstance\u001b[0m\u001b[1;33m(\u001b[0m\u001b[0mdata\u001b[0m\u001b[1;33m,\u001b[0m \u001b[0mdict\u001b[0m\u001b[1;33m)\u001b[0m\u001b[1;33m:\u001b[0m\u001b[1;33m\u001b[0m\u001b[1;33m\u001b[0m\u001b[0m\n\u001b[0;32m    613\u001b[0m             \u001b[1;31m# GH#38939 de facto copy defaults to False only in non-dict cases\u001b[0m\u001b[1;33m\u001b[0m\u001b[1;33m\u001b[0m\u001b[0m\n\u001b[1;32m--> 614\u001b[1;33m             \u001b[0mmgr\u001b[0m \u001b[1;33m=\u001b[0m \u001b[0mdict_to_mgr\u001b[0m\u001b[1;33m(\u001b[0m\u001b[0mdata\u001b[0m\u001b[1;33m,\u001b[0m \u001b[0mindex\u001b[0m\u001b[1;33m,\u001b[0m \u001b[0mcolumns\u001b[0m\u001b[1;33m,\u001b[0m \u001b[0mdtype\u001b[0m\u001b[1;33m=\u001b[0m\u001b[0mdtype\u001b[0m\u001b[1;33m,\u001b[0m \u001b[0mcopy\u001b[0m\u001b[1;33m=\u001b[0m\u001b[0mcopy\u001b[0m\u001b[1;33m,\u001b[0m \u001b[0mtyp\u001b[0m\u001b[1;33m=\u001b[0m\u001b[0mmanager\u001b[0m\u001b[1;33m)\u001b[0m\u001b[1;33m\u001b[0m\u001b[1;33m\u001b[0m\u001b[0m\n\u001b[0m\u001b[0;32m    615\u001b[0m         \u001b[1;32melif\u001b[0m \u001b[0misinstance\u001b[0m\u001b[1;33m(\u001b[0m\u001b[0mdata\u001b[0m\u001b[1;33m,\u001b[0m \u001b[0mma\u001b[0m\u001b[1;33m.\u001b[0m\u001b[0mMaskedArray\u001b[0m\u001b[1;33m)\u001b[0m\u001b[1;33m:\u001b[0m\u001b[1;33m\u001b[0m\u001b[1;33m\u001b[0m\u001b[0m\n\u001b[0;32m    616\u001b[0m             \u001b[1;32mimport\u001b[0m \u001b[0mnumpy\u001b[0m\u001b[1;33m.\u001b[0m\u001b[0mma\u001b[0m\u001b[1;33m.\u001b[0m\u001b[0mmrecords\u001b[0m \u001b[1;32mas\u001b[0m \u001b[0mmrecords\u001b[0m\u001b[1;33m\u001b[0m\u001b[1;33m\u001b[0m\u001b[0m\n",
      "\u001b[1;32mD:\\anaconda3\\lib\\site-packages\\pandas\\core\\internals\\construction.py\u001b[0m in \u001b[0;36mdict_to_mgr\u001b[1;34m(data, index, columns, dtype, typ, copy)\u001b[0m\n\u001b[0;32m    462\u001b[0m         \u001b[1;31m# TODO: can we get rid of the dt64tz special case above?\u001b[0m\u001b[1;33m\u001b[0m\u001b[1;33m\u001b[0m\u001b[0m\n\u001b[0;32m    463\u001b[0m \u001b[1;33m\u001b[0m\u001b[0m\n\u001b[1;32m--> 464\u001b[1;33m     return arrays_to_mgr(\n\u001b[0m\u001b[0;32m    465\u001b[0m         \u001b[0marrays\u001b[0m\u001b[1;33m,\u001b[0m \u001b[0mdata_names\u001b[0m\u001b[1;33m,\u001b[0m \u001b[0mindex\u001b[0m\u001b[1;33m,\u001b[0m \u001b[0mcolumns\u001b[0m\u001b[1;33m,\u001b[0m \u001b[0mdtype\u001b[0m\u001b[1;33m=\u001b[0m\u001b[0mdtype\u001b[0m\u001b[1;33m,\u001b[0m \u001b[0mtyp\u001b[0m\u001b[1;33m=\u001b[0m\u001b[0mtyp\u001b[0m\u001b[1;33m,\u001b[0m \u001b[0mconsolidate\u001b[0m\u001b[1;33m=\u001b[0m\u001b[0mcopy\u001b[0m\u001b[1;33m\u001b[0m\u001b[1;33m\u001b[0m\u001b[0m\n\u001b[0;32m    466\u001b[0m     )\n",
      "\u001b[1;32mD:\\anaconda3\\lib\\site-packages\\pandas\\core\\internals\\construction.py\u001b[0m in \u001b[0;36marrays_to_mgr\u001b[1;34m(arrays, arr_names, index, columns, dtype, verify_integrity, typ, consolidate)\u001b[0m\n\u001b[0;32m    117\u001b[0m         \u001b[1;31m# figure out the index, if necessary\u001b[0m\u001b[1;33m\u001b[0m\u001b[1;33m\u001b[0m\u001b[0m\n\u001b[0;32m    118\u001b[0m         \u001b[1;32mif\u001b[0m \u001b[0mindex\u001b[0m \u001b[1;32mis\u001b[0m \u001b[1;32mNone\u001b[0m\u001b[1;33m:\u001b[0m\u001b[1;33m\u001b[0m\u001b[1;33m\u001b[0m\u001b[0m\n\u001b[1;32m--> 119\u001b[1;33m             \u001b[0mindex\u001b[0m \u001b[1;33m=\u001b[0m \u001b[0m_extract_index\u001b[0m\u001b[1;33m(\u001b[0m\u001b[0marrays\u001b[0m\u001b[1;33m)\u001b[0m\u001b[1;33m\u001b[0m\u001b[1;33m\u001b[0m\u001b[0m\n\u001b[0m\u001b[0;32m    120\u001b[0m         \u001b[1;32melse\u001b[0m\u001b[1;33m:\u001b[0m\u001b[1;33m\u001b[0m\u001b[1;33m\u001b[0m\u001b[0m\n\u001b[0;32m    121\u001b[0m             \u001b[0mindex\u001b[0m \u001b[1;33m=\u001b[0m \u001b[0mensure_index\u001b[0m\u001b[1;33m(\u001b[0m\u001b[0mindex\u001b[0m\u001b[1;33m)\u001b[0m\u001b[1;33m\u001b[0m\u001b[1;33m\u001b[0m\u001b[0m\n",
      "\u001b[1;32mD:\\anaconda3\\lib\\site-packages\\pandas\\core\\internals\\construction.py\u001b[0m in \u001b[0;36m_extract_index\u001b[1;34m(data)\u001b[0m\n\u001b[0;32m    633\u001b[0m             \u001b[0mlengths\u001b[0m \u001b[1;33m=\u001b[0m \u001b[0mlist\u001b[0m\u001b[1;33m(\u001b[0m\u001b[0mset\u001b[0m\u001b[1;33m(\u001b[0m\u001b[0mraw_lengths\u001b[0m\u001b[1;33m)\u001b[0m\u001b[1;33m)\u001b[0m\u001b[1;33m\u001b[0m\u001b[1;33m\u001b[0m\u001b[0m\n\u001b[0;32m    634\u001b[0m             \u001b[1;32mif\u001b[0m \u001b[0mlen\u001b[0m\u001b[1;33m(\u001b[0m\u001b[0mlengths\u001b[0m\u001b[1;33m)\u001b[0m \u001b[1;33m>\u001b[0m \u001b[1;36m1\u001b[0m\u001b[1;33m:\u001b[0m\u001b[1;33m\u001b[0m\u001b[1;33m\u001b[0m\u001b[0m\n\u001b[1;32m--> 635\u001b[1;33m                 \u001b[1;32mraise\u001b[0m \u001b[0mValueError\u001b[0m\u001b[1;33m(\u001b[0m\u001b[1;34m\"All arrays must be of the same length\"\u001b[0m\u001b[1;33m)\u001b[0m\u001b[1;33m\u001b[0m\u001b[1;33m\u001b[0m\u001b[0m\n\u001b[0m\u001b[0;32m    636\u001b[0m \u001b[1;33m\u001b[0m\u001b[0m\n\u001b[0;32m    637\u001b[0m             \u001b[1;32mif\u001b[0m \u001b[0mhave_dicts\u001b[0m\u001b[1;33m:\u001b[0m\u001b[1;33m\u001b[0m\u001b[1;33m\u001b[0m\u001b[0m\n",
      "\u001b[1;31mValueError\u001b[0m: All arrays must be of the same length"
     ]
    }
   ],
   "source": [
    "comparison_dict={'Variance Retained':pca_var,'Number of Components':pca_components,\n",
    "               'Training Time':training_time,'Prediction Time':prediction_time,\n",
    "               'Accuracy Score':accuracy_list,'F1 Score':f1_list}\n",
    "comparison=pd.DataFrame(comparison_dict)\n",
    "comparison"
   ]
  },
  {
   "cell_type": "markdown",
   "metadata": {},
   "source": [
    "So we can see that Model performance is not much degraded untill 87 components compared to all 784 components. Hence we can use 90% Variance using PCA to perform image classification in this dataset."
   ]
  },
  {
   "cell_type": "markdown",
   "metadata": {},
   "source": [
    "## Exporting PCA and Model for deployment"
   ]
  },
  {
   "cell_type": "markdown",
   "metadata": {},
   "source": [
    "Python pickle module is used for serializing and de-serializing a Python object structure. Any object in Python can be pickled so that it can be saved on disk. What pickle does is that it “serializes” the object first before writing it to file. Pickling is a way to convert a python object (list, dict, etc.) into a character stream. The idea is that this character stream contains all the information necessary to reconstruct the object in another python script."
   ]
  },
  {
   "cell_type": "markdown",
   "metadata": {},
   "source": [
    "<img src='https://miro.medium.com/max/466/1*Menz4NWvM6Ca8H6B0d6VrQ.png' width=\"200\" height=\"400\">"
   ]
  },
  {
   "cell_type": "code",
   "execution_count": 34,
   "metadata": {},
   "outputs": [],
   "source": [
    "import pickle as pk"
   ]
  },
  {
   "cell_type": "markdown",
   "metadata": {},
   "source": [
    "Exporting pickle file for PCA at 90% Explained Variance to be used while transforming data in Model Deployment"
   ]
  },
  {
   "cell_type": "code",
   "execution_count": 35,
   "metadata": {
    "scrolled": true
   },
   "outputs": [],
   "source": [
    "pca = PCA(.90,random_state=42)\n",
    "pca.fit(xtrain)\n",
    "train_img=pca.transform(xtrain)\n",
    "pk.dump(pca, open(\"pca.pkl\",\"wb\"))"
   ]
  },
  {
   "cell_type": "markdown",
   "metadata": {},
   "source": [
    "Exporting pickle file for Trained Model to be used for taking prediction of future images after Model Deployment"
   ]
  },
  {
   "cell_type": "code",
   "execution_count": 36,
   "metadata": {},
   "outputs": [
    {
     "name": "stderr",
     "output_type": "stream",
     "text": [
      "D:\\anaconda3\\lib\\site-packages\\sklearn\\linear_model\\_logistic.py:763: ConvergenceWarning: lbfgs failed to converge (status=1):\n",
      "STOP: TOTAL NO. of ITERATIONS REACHED LIMIT.\n",
      "\n",
      "Increase the number of iterations (max_iter) or scale the data as shown in:\n",
      "    https://scikit-learn.org/stable/modules/preprocessing.html\n",
      "Please also refer to the documentation for alternative solver options:\n",
      "    https://scikit-learn.org/stable/modules/linear_model.html#logistic-regression\n",
      "  n_iter_i = _check_optimize_result(\n"
     ]
    }
   ],
   "source": [
    "model=LogisticRegression(solver='lbfgs',multi_class='multinomial', max_iter=300, random_state=42)\n",
    "model.fit(train_img,ytrain)\n",
    "pk.dump(model, open(\"model.pkl\",\"wb\"))"
   ]
  },
  {
   "cell_type": "code",
   "execution_count": 37,
   "metadata": {},
   "outputs": [
    {
     "data": {
      "text/plain": [
       "LogisticRegression(max_iter=300, multi_class='multinomial', random_state=42)"
      ]
     },
     "execution_count": 37,
     "metadata": {},
     "output_type": "execute_result"
    }
   ],
   "source": [
    "my_model = pk.load(open(\"model.pkl\",\"rb\"))\n",
    "my_model"
   ]
  },
  {
   "cell_type": "markdown",
   "metadata": {},
   "source": [
    "## Visalizing PCA Components and Image Compression"
   ]
  },
  {
   "cell_type": "markdown",
   "metadata": {},
   "source": [
    "#### Task: Define empty PCA instance with randome state 42"
   ]
  },
  {
   "cell_type": "code",
   "execution_count": 38,
   "metadata": {},
   "outputs": [],
   "source": [
    "# if n_components is not set all components are kept (784 in this case)\n",
    "pca = PCA(random_state=42)"
   ]
  },
  {
   "cell_type": "markdown",
   "metadata": {},
   "source": [
    "#### Task: Fit PCA on X (without scaled)"
   ]
  },
  {
   "cell_type": "code",
   "execution_count": null,
   "metadata": {},
   "outputs": [],
   "source": []
  },
  {
   "cell_type": "code",
   "execution_count": 39,
   "metadata": {},
   "outputs": [
    {
     "data": {
      "text/plain": [
       "PCA(random_state=42)"
      ]
     },
     "execution_count": 39,
     "metadata": {},
     "output_type": "execute_result"
    }
   ],
   "source": [
    "pca.fit(X)"
   ]
  },
  {
   "cell_type": "markdown",
   "metadata": {},
   "source": [
    "#### Task: Check number of components using .n_components_ attribute"
   ]
  },
  {
   "cell_type": "code",
   "execution_count": 40,
   "metadata": {},
   "outputs": [
    {
     "data": {
      "text/plain": [
       "784"
      ]
     },
     "execution_count": 40,
     "metadata": {},
     "output_type": "execute_result"
    }
   ],
   "source": [
    "pca.n_components_"
   ]
  },
  {
   "cell_type": "markdown",
   "metadata": {},
   "source": [
    "Calculating total varaince"
   ]
  },
  {
   "cell_type": "code",
   "execution_count": 41,
   "metadata": {
    "scrolled": true
   },
   "outputs": [
    {
     "data": {
      "text/plain": [
       "array([3.34294061e+05, 2.45433427e+05, 2.10930355e+05, 1.85337356e+05,\n",
       "       1.67691572e+05, 1.47670297e+05, 1.12445139e+05, 9.91153833e+04,\n",
       "       9.46125388e+04, 8.03359569e+04, 7.22599113e+04, 6.98885540e+04,\n",
       "       5.85527059e+04, 5.81052758e+04, 5.43103821e+04, 5.09819786e+04,\n",
       "       4.52543057e+04, 4.38704888e+04, 4.07237248e+04, 3.95459992e+04,\n",
       "       3.65654146e+04, 3.46361826e+04, 3.28991121e+04, 3.12006965e+04,\n",
       "       3.02969450e+04, 2.87716612e+04, 2.77774204e+04, 2.69503081e+04,\n",
       "       2.53911681e+04, 2.36676475e+04, 2.25058928e+04, 2.21397823e+04,\n",
       "       2.06082429e+04, 2.00866202e+04, 1.94397800e+04, 1.86411711e+04,\n",
       "       1.73119138e+04, 1.67069383e+04, 1.64282735e+04, 1.60385718e+04,\n",
       "       1.55849505e+04, 1.52607921e+04, 1.43449274e+04, 1.35885149e+04,\n",
       "       1.31612657e+04, 1.28895069e+04, 1.23970063e+04, 1.19716256e+04,\n",
       "       1.16185734e+04, 1.09656535e+04, 1.08681675e+04, 1.06380432e+04,\n",
       "       1.01693456e+04, 9.84764699e+03, 9.69028943e+03, 9.24126224e+03,\n",
       "       9.20591900e+03, 8.79833042e+03, 8.68371672e+03, 8.39148477e+03,\n",
       "       8.22184294e+03, 8.18338428e+03, 7.86277133e+03, 7.57860212e+03,\n",
       "       7.30802423e+03, 7.07673742e+03, 6.95544873e+03, 6.68975037e+03,\n",
       "       6.56748752e+03, 6.46729222e+03, 6.41332540e+03, 6.17761812e+03,\n",
       "       6.06383716e+03, 5.94624236e+03, 5.65437176e+03, 5.59906868e+03,\n",
       "       5.53633413e+03, 5.29266519e+03, 5.04283590e+03, 4.87747552e+03,\n",
       "       4.83688820e+03, 4.80704878e+03, 4.78847978e+03, 4.63137204e+03,\n",
       "       4.54037269e+03, 4.52395896e+03, 4.43150252e+03, 4.29342977e+03,\n",
       "       4.20279046e+03, 4.13040869e+03, 3.99127561e+03, 3.92116587e+03,\n",
       "       3.86038561e+03, 3.76828249e+03, 3.71619599e+03, 3.67613977e+03,\n",
       "       3.55666501e+03, 3.54727424e+03, 3.45028333e+03, 3.42770867e+03,\n",
       "       3.35022735e+03, 3.22975319e+03, 3.20991370e+03, 3.12702819e+03,\n",
       "       3.08956044e+03, 3.05100652e+03, 2.95524702e+03, 2.92426090e+03,\n",
       "       2.88465088e+03, 2.80310513e+03, 2.69608022e+03, 2.66685601e+03,\n",
       "       2.66104852e+03, 2.62323811e+03, 2.60877717e+03, 2.56835172e+03,\n",
       "       2.50474368e+03, 2.48801428e+03, 2.45533726e+03, 2.41269586e+03,\n",
       "       2.37270454e+03, 2.35615126e+03, 2.33028514e+03, 2.30409857e+03,\n",
       "       2.26817316e+03, 2.20437384e+03, 2.17042781e+03, 2.15544286e+03,\n",
       "       2.12533009e+03, 2.06282820e+03, 2.05891648e+03, 2.03673043e+03,\n",
       "       2.01095034e+03, 2.00124661e+03, 1.98565299e+03, 1.96453661e+03,\n",
       "       1.93239914e+03, 1.89439020e+03, 1.83703340e+03, 1.80324901e+03,\n",
       "       1.79300790e+03, 1.74898223e+03, 1.72288405e+03, 1.70863537e+03,\n",
       "       1.70077406e+03, 1.68875104e+03, 1.65938403e+03, 1.64949843e+03,\n",
       "       1.61749141e+03, 1.60083932e+03, 1.59231962e+03, 1.58464344e+03,\n",
       "       1.57192640e+03, 1.54180623e+03, 1.53381212e+03, 1.51231338e+03,\n",
       "       1.50234491e+03, 1.46247575e+03, 1.44355039e+03, 1.43434878e+03,\n",
       "       1.41660557e+03, 1.40087322e+03, 1.36602940e+03, 1.35140041e+03,\n",
       "       1.34373116e+03, 1.33469482e+03, 1.31506391e+03, 1.29821767e+03,\n",
       "       1.29120637e+03, 1.27618631e+03, 1.25649279e+03, 1.25127759e+03,\n",
       "       1.24178587e+03, 1.22394000e+03, 1.21336302e+03, 1.20837570e+03,\n",
       "       1.18890936e+03, 1.18263461e+03, 1.17256430e+03, 1.16234481e+03,\n",
       "       1.14888624e+03, 1.12885899e+03, 1.12460929e+03, 1.11191670e+03,\n",
       "       1.10717765e+03, 1.09814197e+03, 1.08599901e+03, 1.08166611e+03,\n",
       "       1.06285068e+03, 1.06117362e+03, 1.04910878e+03, 1.03774098e+03,\n",
       "       1.03320013e+03, 1.03009571e+03, 1.01362927e+03, 1.01226633e+03,\n",
       "       1.00444790e+03, 1.00071599e+03, 9.83122182e+02, 9.70453896e+02,\n",
       "       9.65766478e+02, 9.51371870e+02, 9.41016707e+02, 9.33139279e+02,\n",
       "       9.20980645e+02, 9.15644435e+02, 9.07533778e+02, 9.04266944e+02,\n",
       "       8.97183405e+02, 8.87268894e+02, 8.83039949e+02, 8.79986206e+02,\n",
       "       8.72783921e+02, 8.66942898e+02, 8.63449268e+02, 8.52335454e+02,\n",
       "       8.46801698e+02, 8.40840296e+02, 8.31977471e+02, 8.26843655e+02,\n",
       "       8.25706460e+02, 8.20316797e+02, 8.17611114e+02, 8.11082328e+02,\n",
       "       7.94869904e+02, 7.92853645e+02, 7.87115776e+02, 7.80329308e+02,\n",
       "       7.78815617e+02, 7.65525631e+02, 7.57643828e+02, 7.53784151e+02,\n",
       "       7.45588885e+02, 7.41297279e+02, 7.35729016e+02, 7.30506300e+02,\n",
       "       7.29086785e+02, 7.19897856e+02, 7.18113870e+02, 7.07672630e+02,\n",
       "       7.01877428e+02, 6.95436996e+02, 6.90511991e+02, 6.88779524e+02,\n",
       "       6.80603119e+02, 6.77369113e+02, 6.70595436e+02, 6.61580965e+02,\n",
       "       6.60737920e+02, 6.57721826e+02, 6.54544015e+02, 6.47150921e+02,\n",
       "       6.42414157e+02, 6.42154991e+02, 6.36525742e+02, 6.34570829e+02,\n",
       "       6.30726525e+02, 6.25191901e+02, 6.24237639e+02, 6.17318892e+02,\n",
       "       6.06989740e+02, 6.05311652e+02, 6.02232805e+02, 5.96068175e+02,\n",
       "       5.93660954e+02, 5.90721819e+02, 5.87313548e+02, 5.83580481e+02,\n",
       "       5.78769422e+02, 5.72956833e+02, 5.71389145e+02, 5.70443789e+02,\n",
       "       5.62485110e+02, 5.60750217e+02, 5.58826664e+02, 5.54712957e+02,\n",
       "       5.48743065e+02, 5.47443477e+02, 5.44818956e+02, 5.39829718e+02,\n",
       "       5.35094801e+02, 5.29985300e+02, 5.26828700e+02, 5.24932168e+02,\n",
       "       5.20370654e+02, 5.14228929e+02, 5.12693268e+02, 5.07544872e+02,\n",
       "       5.06868719e+02, 5.01124552e+02, 4.95725670e+02, 4.91247845e+02,\n",
       "       4.89707212e+02, 4.87355024e+02, 4.85235286e+02, 4.81088679e+02,\n",
       "       4.72512701e+02, 4.70981989e+02, 4.67361293e+02, 4.65506528e+02,\n",
       "       4.63284064e+02, 4.60868469e+02, 4.58059666e+02, 4.54250307e+02,\n",
       "       4.48811074e+02, 4.44093320e+02, 4.41488224e+02, 4.37997516e+02,\n",
       "       4.36776467e+02, 4.34795086e+02, 4.32673957e+02, 4.32049508e+02,\n",
       "       4.27475806e+02, 4.22593794e+02, 4.18240225e+02, 4.16613115e+02,\n",
       "       4.13605119e+02, 4.10750603e+02, 4.08435423e+02, 4.07583232e+02,\n",
       "       4.02276555e+02, 4.00879947e+02, 3.98012778e+02, 3.97472199e+02,\n",
       "       3.93885259e+02, 3.91973224e+02, 3.84745270e+02, 3.81080396e+02,\n",
       "       3.77887590e+02, 3.77390793e+02, 3.76417808e+02, 3.74324340e+02,\n",
       "       3.71268081e+02, 3.68562158e+02, 3.65422262e+02, 3.64487635e+02,\n",
       "       3.64252665e+02, 3.59601664e+02, 3.53875174e+02, 3.52054626e+02,\n",
       "       3.48792150e+02, 3.44467175e+02, 3.43484652e+02, 3.40825227e+02,\n",
       "       3.40391451e+02, 3.37263965e+02, 3.34450074e+02, 3.32322672e+02,\n",
       "       3.25609948e+02, 3.22787374e+02, 3.21978486e+02, 3.20045229e+02,\n",
       "       3.16699269e+02, 3.14203866e+02, 3.12710024e+02, 3.10008492e+02,\n",
       "       3.07955004e+02, 3.05863333e+02, 3.04802938e+02, 3.01717926e+02,\n",
       "       2.98299718e+02, 2.96001767e+02, 2.93708835e+02, 2.90942037e+02,\n",
       "       2.90408366e+02, 2.86783524e+02, 2.83510647e+02, 2.82587613e+02,\n",
       "       2.81330109e+02, 2.77494707e+02, 2.77277615e+02, 2.72246053e+02,\n",
       "       2.71613621e+02, 2.68315477e+02, 2.67123093e+02, 2.64663568e+02,\n",
       "       2.61500740e+02, 2.60332462e+02, 2.55427147e+02, 2.53401489e+02,\n",
       "       2.51502171e+02, 2.50415106e+02, 2.48340605e+02, 2.46816878e+02,\n",
       "       2.44433723e+02, 2.41021967e+02, 2.38708725e+02, 2.37701657e+02,\n",
       "       2.33183313e+02, 2.31217982e+02, 2.29398010e+02, 2.26042618e+02,\n",
       "       2.22133413e+02, 2.19511435e+02, 2.17260631e+02, 2.16558628e+02,\n",
       "       2.11872850e+02, 2.09339794e+02, 2.05982122e+02, 2.04931888e+02,\n",
       "       2.02095929e+02, 2.00813541e+02, 1.99055686e+02, 1.96627382e+02,\n",
       "       1.93535567e+02, 1.91976683e+02, 1.90006690e+02, 1.86867991e+02,\n",
       "       1.86474841e+02, 1.86070560e+02, 1.81545430e+02, 1.81043042e+02,\n",
       "       1.79289011e+02, 1.77107459e+02, 1.75441496e+02, 1.73735413e+02,\n",
       "       1.70615936e+02, 1.69376494e+02, 1.68030523e+02, 1.65553399e+02,\n",
       "       1.62905355e+02, 1.60953437e+02, 1.58957044e+02, 1.58681845e+02,\n",
       "       1.55148349e+02, 1.52989768e+02, 1.48942962e+02, 1.45454492e+02,\n",
       "       1.44278673e+02, 1.43862321e+02, 1.41392329e+02, 1.41344294e+02,\n",
       "       1.40088000e+02, 1.38884111e+02, 1.37856198e+02, 1.32053660e+02,\n",
       "       1.31056184e+02, 1.30323667e+02, 1.29317323e+02, 1.27618024e+02,\n",
       "       1.26521217e+02, 1.24957027e+02, 1.21029352e+02, 1.20353693e+02,\n",
       "       1.19895587e+02, 1.18285078e+02, 1.17809949e+02, 1.17484201e+02,\n",
       "       1.13105307e+02, 1.11944887e+02, 1.09901402e+02, 1.09014179e+02,\n",
       "       1.07672069e+02, 1.05671339e+02, 1.02403894e+02, 1.01860497e+02,\n",
       "       1.00226716e+02, 9.94276730e+01, 9.91975631e+01, 9.71223148e+01,\n",
       "       9.50073776e+01, 9.43027925e+01, 9.32044289e+01, 9.17585135e+01,\n",
       "       8.79770585e+01, 8.64857713e+01, 8.56228358e+01, 8.46033554e+01,\n",
       "       8.39068725e+01, 8.34881882e+01, 8.27950464e+01, 8.22567771e+01,\n",
       "       8.04449141e+01, 8.01310010e+01, 7.92257050e+01, 7.69575599e+01,\n",
       "       7.60195431e+01, 7.39180599e+01, 7.33611012e+01, 7.27710193e+01,\n",
       "       7.15478318e+01, 7.09164743e+01, 6.95617129e+01, 6.82547414e+01,\n",
       "       6.77381472e+01, 6.68445594e+01, 6.61846987e+01, 6.52596042e+01,\n",
       "       6.44580589e+01, 6.30487821e+01, 6.18745587e+01, 6.16083638e+01,\n",
       "       5.92281642e+01, 5.87259389e+01, 5.55681587e+01, 5.52421517e+01,\n",
       "       5.42613388e+01, 5.40587503e+01, 5.28388283e+01, 5.27246151e+01,\n",
       "       5.22800703e+01, 5.09584494e+01, 5.03200569e+01, 4.94719277e+01,\n",
       "       4.85160355e+01, 4.77649797e+01, 4.67659388e+01, 4.63784857e+01,\n",
       "       4.60690806e+01, 4.55850195e+01, 4.41545961e+01, 4.30681090e+01,\n",
       "       4.20654257e+01, 4.19654968e+01, 4.16678290e+01, 4.09604476e+01,\n",
       "       3.97677246e+01, 3.93914003e+01, 3.92100795e+01, 3.88220943e+01,\n",
       "       3.84544428e+01, 3.76811225e+01, 3.70830479e+01, 3.61700842e+01,\n",
       "       3.57315990e+01, 3.52209760e+01, 3.43780086e+01, 3.20880943e+01,\n",
       "       3.15524202e+01, 3.13620721e+01, 3.12128053e+01, 3.06867562e+01,\n",
       "       2.97070896e+01, 2.89713130e+01, 2.76450254e+01, 2.69704127e+01,\n",
       "       2.68320264e+01, 2.66986562e+01, 2.66464302e+01, 2.60994382e+01,\n",
       "       2.58130727e+01, 2.54389498e+01, 2.50172253e+01, 2.46571605e+01,\n",
       "       2.44733424e+01, 2.40600465e+01, 2.31487026e+01, 2.30859838e+01,\n",
       "       2.17020139e+01, 2.14546218e+01, 2.11504274e+01, 1.99964892e+01,\n",
       "       1.94320202e+01, 1.88959081e+01, 1.88061746e+01, 1.84273568e+01,\n",
       "       1.82422702e+01, 1.78584435e+01, 1.67979624e+01, 1.66227147e+01,\n",
       "       1.65794284e+01, 1.64371902e+01, 1.55950124e+01, 1.54337468e+01,\n",
       "       1.53154370e+01, 1.52458231e+01, 1.49835120e+01, 1.42212031e+01,\n",
       "       1.40792951e+01, 1.35580372e+01, 1.33203009e+01, 1.31661775e+01,\n",
       "       1.30536249e+01, 1.16221281e+01, 1.13899141e+01, 1.09860157e+01,\n",
       "       1.08799321e+01, 1.07964771e+01, 1.06809731e+01, 1.05417166e+01,\n",
       "       1.04775510e+01, 1.01340765e+01, 9.96158057e+00, 9.90497461e+00,\n",
       "       9.44371497e+00, 8.64393595e+00, 8.58145717e+00, 8.16598642e+00,\n",
       "       7.91066400e+00, 7.39226962e+00, 7.37736037e+00, 7.24677760e+00,\n",
       "       7.20591539e+00, 6.97811367e+00, 6.90271061e+00, 6.76901131e+00,\n",
       "       6.57523444e+00, 6.24210953e+00, 6.14615647e+00, 5.98781728e+00,\n",
       "       5.97010937e+00, 5.74558001e+00, 5.61019149e+00, 5.54851056e+00,\n",
       "       5.46241879e+00, 5.33855052e+00, 5.12031950e+00, 4.48443746e+00,\n",
       "       4.46329225e+00, 4.41310860e+00, 4.37018850e+00, 4.13008714e+00,\n",
       "       3.93612770e+00, 3.74608584e+00, 3.71500737e+00, 3.69715143e+00,\n",
       "       3.63464393e+00, 3.56646289e+00, 3.50350745e+00, 3.39321589e+00,\n",
       "       3.21592465e+00, 3.17141043e+00, 2.87654192e+00, 2.87462898e+00,\n",
       "       2.82833673e+00, 2.78327284e+00, 2.71600749e+00, 2.52762709e+00,\n",
       "       2.38764652e+00, 2.28270889e+00, 2.20768030e+00, 2.14535229e+00,\n",
       "       2.08692876e+00, 2.08360043e+00, 2.06200959e+00, 1.95841680e+00,\n",
       "       1.89671206e+00, 1.88192330e+00, 1.78007836e+00, 1.74651147e+00,\n",
       "       1.63905791e+00, 1.53715917e+00, 1.53558607e+00, 1.43996694e+00,\n",
       "       1.31417725e+00, 1.29960738e+00, 1.28380386e+00, 1.25650328e+00,\n",
       "       1.17520823e+00, 9.99086646e-01, 9.67715856e-01, 9.36507924e-01,\n",
       "       9.31565681e-01, 9.25573245e-01, 9.09481565e-01, 8.88833871e-01,\n",
       "       8.22284878e-01, 7.20876368e-01, 6.97560018e-01, 6.49827765e-01,\n",
       "       6.33148979e-01, 6.31385753e-01, 6.03598745e-01, 5.37361261e-01,\n",
       "       5.35011503e-01, 5.00124831e-01, 4.65125143e-01, 4.18022947e-01,\n",
       "       4.03373460e-01, 4.02041449e-01, 4.00662174e-01, 3.87867431e-01,\n",
       "       3.78106867e-01, 3.14970094e-01, 2.85741406e-01, 2.76058252e-01,\n",
       "       2.67894320e-01, 2.47911815e-01, 2.19580555e-01, 2.01378553e-01,\n",
       "       1.65324964e-01, 1.63951787e-01, 1.42953691e-01, 1.31157125e-01,\n",
       "       1.30989526e-01, 1.12592108e-01, 9.53051375e-02, 9.22791952e-02,\n",
       "       8.81727474e-02, 7.13983680e-02, 6.06084469e-02, 5.22779915e-02,\n",
       "       4.90832742e-02, 4.89875740e-02, 3.72057021e-02, 3.52902666e-02,\n",
       "       3.03281957e-02, 2.56356276e-02, 2.33999011e-02, 2.05654306e-02,\n",
       "       2.03673415e-02, 1.60992638e-02, 1.45986295e-02, 1.44693564e-02,\n",
       "       1.42508498e-02, 1.10613770e-02, 5.90299976e-03, 2.76611670e-03,\n",
       "       2.14459295e-03, 2.04925016e-03, 7.46198096e-04, 7.12285479e-04,\n",
       "       3.63788820e-04, 6.59696003e-26, 1.02651419e-26, 7.52244014e-27,\n",
       "       5.88405780e-27, 4.47211394e-27, 3.99730438e-27, 3.81561641e-27,\n",
       "       3.75794613e-27, 1.84587851e-27, 1.46111177e-27, 1.20516520e-27,\n",
       "       1.20516520e-27, 1.20516520e-27, 1.20516520e-27, 1.20516520e-27,\n",
       "       1.20516520e-27, 1.20516520e-27, 1.20516520e-27, 1.20516520e-27,\n",
       "       1.20516520e-27, 1.20516520e-27, 1.20516520e-27, 1.20516520e-27,\n",
       "       1.20516520e-27, 1.20516520e-27, 1.20516520e-27, 1.20516520e-27,\n",
       "       1.20516520e-27, 1.20516520e-27, 1.20516520e-27, 1.20516520e-27,\n",
       "       1.20516520e-27, 1.20516520e-27, 1.20516520e-27, 1.20516520e-27,\n",
       "       1.20516520e-27, 1.20516520e-27, 1.20516520e-27, 1.20516520e-27,\n",
       "       1.20516520e-27, 1.20516520e-27, 1.20516520e-27, 1.20516520e-27,\n",
       "       1.20516520e-27, 1.20516520e-27, 1.20516520e-27, 1.20516520e-27,\n",
       "       1.20516520e-27, 1.20516520e-27, 1.20516520e-27, 1.20516520e-27,\n",
       "       1.20516520e-27, 1.20516520e-27, 1.20516520e-27, 1.20516520e-27,\n",
       "       1.20516520e-27, 1.20516520e-27, 1.20516520e-27, 1.20516520e-27,\n",
       "       1.20516520e-27, 1.20516520e-27, 1.20516520e-27, 1.20516520e-27,\n",
       "       1.20516520e-27, 1.20516520e-27, 1.18662509e-27, 8.13080448e-28,\n",
       "       5.58080710e-28, 4.65397705e-28, 4.32379853e-28, 9.73717524e-29])"
      ]
     },
     "execution_count": 41,
     "metadata": {},
     "output_type": "execute_result"
    }
   ],
   "source": [
    "pca.explained_variance_"
   ]
  },
  {
   "cell_type": "code",
   "execution_count": 42,
   "metadata": {},
   "outputs": [
    {
     "data": {
      "text/plain": [
       "3430023.448079479"
      ]
     },
     "execution_count": 42,
     "metadata": {},
     "output_type": "execute_result"
    }
   ],
   "source": [
    "tot = sum(pca.explained_variance_)\n",
    "tot"
   ]
  },
  {
   "cell_type": "markdown",
   "metadata": {},
   "source": [
    "Calculating Percentage of Explained Variance against each component"
   ]
  },
  {
   "cell_type": "code",
   "execution_count": 43,
   "metadata": {},
   "outputs": [
    {
     "name": "stdout",
     "output_type": "stream",
     "text": [
      "[9.746115922494743, 7.155444586878727, 6.149530980723045, 5.403384528548187, 4.88893370387789]\n"
     ]
    }
   ],
   "source": [
    "var_exp = [(i/tot)*100 for i in sorted(pca.explained_variance_, reverse=True)] \n",
    "print(var_exp[0:5])"
   ]
  },
  {
   "cell_type": "code",
   "execution_count": 44,
   "metadata": {
    "scrolled": true
   },
   "outputs": [],
   "source": [
    "#pca.explained_variance_ratio_"
   ]
  },
  {
   "cell_type": "markdown",
   "metadata": {},
   "source": [
    "Calculating Cumilative Explained Variance"
   ]
  },
  {
   "cell_type": "code",
   "execution_count": 45,
   "metadata": {},
   "outputs": [],
   "source": [
    "cum_var_exp = np.cumsum(var_exp)"
   ]
  },
  {
   "cell_type": "code",
   "execution_count": 46,
   "metadata": {},
   "outputs": [
    {
     "data": {
      "text/plain": [
       "array([  9.74611592,  16.90156051,  23.05109149,  28.45447602,\n",
       "        33.34340972,  37.64863675,  40.92689828,  43.81653984,\n",
       "        46.57490404,  48.91704421,  51.02373276,  53.061286  ,\n",
       "        54.76835031,  56.46237009,  58.04575233,  59.53209723,\n",
       "        60.85145572,  62.13046998,  63.31774246,  64.47067917,\n",
       "        65.53671895,  66.54651329,  67.50566452,  68.4152996 ,\n",
       "        69.29858642,  70.13740462,  70.94723642,  71.73295432,\n",
       "        72.47321655,  73.16323071,  73.8193747 ,  74.46484499,\n",
       "        75.06566429,  75.65127604,  76.2180296 ,  76.76150026,\n",
       "        77.26621733,  77.75329675,  78.23225188,  78.69984553,\n",
       "        79.15421416,  79.59913217,  80.01734877,  80.41351268,\n",
       "        80.79722042,  81.17300523,  81.53443151,  81.88345611,\n",
       "        82.22218771,  82.54188388,  82.85873791,  83.16888282,\n",
       "        83.46536318,  83.75246462,  84.03497842,  84.30440113,\n",
       "        84.57279344,  84.82930277,  85.08247063,  85.32711866,\n",
       "        85.56682089,  85.8054019 ,  86.03463564,  86.25558463,\n",
       "        86.46864511,  86.67496257,  86.87774395,  87.07277907,\n",
       "        87.2642497 ,  87.4527992 ,  87.63977534,  87.8198796 ,\n",
       "        87.99666664,  88.17002529,  88.33487465,  88.49811169,\n",
       "        88.65951975,  88.8138238 ,  88.96084425,  89.10304373,\n",
       "        89.24405991,  89.38420615,  89.52381102,  89.65883552,\n",
       "        89.791207  ,  89.92309994,  90.05229739,  90.17746941,\n",
       "        90.29999891,  90.42041816,  90.53678109,  90.65110001,\n",
       "        90.76364693,  90.87350864,  90.9818518 ,  91.08902716,\n",
       "        91.19271931,  91.29613767,  91.39672834,  91.49666085,\n",
       "        91.59433445,  91.68849571,  91.78207856,  91.87324494,\n",
       "        91.96331897,  92.05226899,  92.1384272 ,  92.22368204,\n",
       "        92.30778207,  92.3895047 ,  92.46810708,  92.54585745,\n",
       "        92.62343851,  92.69991724,  92.77597436,  92.85085291,\n",
       "        92.923877  ,  92.99641337,  93.06799705,  93.13833756,\n",
       "        93.20751215,  93.27620413,  93.34414201,  93.41131644,\n",
       "        93.47744348,  93.5417105 ,  93.60498785,  93.66782832,\n",
       "        93.72979087,  93.78993122,  93.84995753,  93.90933702,\n",
       "        93.96796491,  94.0263099 ,  94.08420026,  94.14147499,\n",
       "        94.19781277,  94.25304243,  94.30659989,  94.35917238,\n",
       "        94.41144631,  94.4624367 ,  94.51266621,  94.56248031,\n",
       "        94.61206522,  94.66129961,  94.70967782,  94.75776783,\n",
       "        94.80492469,  94.85159607,  94.89801906,  94.94421826,\n",
       "        94.99004671,  95.03499702,  95.07971427,  95.12380474,\n",
       "        95.16760458,  95.21024207,  95.2523278 ,  95.29414526,\n",
       "        95.33544543,  95.37628694,  95.41611259,  95.45551175,\n",
       "        95.49468732,  95.53359944,  95.57193923,  95.60978789,\n",
       "        95.64743213,  95.68463847,  95.72127067,  95.75775081,\n",
       "        95.79395424,  95.82963737,  95.86501215,  95.90024152,\n",
       "        95.93490336,  95.96938227,  96.00356758,  96.03745496,\n",
       "        96.07094995,  96.10386107,  96.13664829,  96.16906546,\n",
       "        96.20134447,  96.23336006,  96.26502162,  96.29655686,\n",
       "        96.32754355,  96.35848134,  96.38906739,  96.41932203,\n",
       "        96.44944427,  96.47947601,  96.50902768,  96.53853962,\n",
       "        96.56782362,  96.59699881,  96.62566107,  96.65395399,\n",
       "        96.68211026,  96.70984685,  96.73728156,  96.7644866 ,\n",
       "        96.79133716,  96.81803215,  96.84449068,  96.87085397,\n",
       "        96.89701074,  96.92287846,  96.94862289,  96.97427829,\n",
       "        96.99972371,  97.02499884,  97.05017212,  97.07502138,\n",
       "        97.09970931,  97.12422343,  97.14847917,  97.17258523,\n",
       "        97.19665814,  97.22057392,  97.24441082,  97.26805737,\n",
       "        97.29123126,  97.31434637,  97.3372942 ,  97.36004417,\n",
       "        97.38275001,  97.40506838,  97.42715697,  97.44913304,\n",
       "        97.47087018,  97.49248219,  97.51393187,  97.53522929,\n",
       "        97.55648532,  97.57747345,  97.59840957,  97.61904128,\n",
       "        97.63950404,  97.65977903,  97.67991044,  97.69999134,\n",
       "        97.71983386,  97.7395821 ,  97.75913285,  97.77842079,\n",
       "        97.79768416,  97.81685959,  97.83594238,  97.85480962,\n",
       "        97.87353877,  97.89226036,  97.91081783,  97.92931832,\n",
       "        97.94770672,  97.96593376,  97.98413299,  98.0021305 ,\n",
       "        98.01982687,  98.03747432,  98.05503201,  98.07240997,\n",
       "        98.08971775,  98.10693985,  98.12406257,  98.14107646,\n",
       "        98.15795009,  98.17465426,  98.19131272,  98.20794362,\n",
       "        98.22434249,  98.24069078,  98.25698299,  98.27315527,\n",
       "        98.2891535 ,  98.30511385,  98.32099767,  98.33673604,\n",
       "        98.35233637,  98.36778773,  98.38314706,  98.3984511 ,\n",
       "        98.41362215,  98.42861415,  98.44356137,  98.45835849,\n",
       "        98.47313591,  98.48774585,  98.5021984 ,  98.51652039,\n",
       "        98.53079747,  98.54500598,  98.55915268,  98.5731785 ,\n",
       "        98.58695428,  98.60068544,  98.61431104,  98.62788257,\n",
       "        98.6413893 ,  98.65482561,  98.66818002,  98.68142338,\n",
       "        98.69450817,  98.7074554 ,  98.72032669,  98.73309621,\n",
       "        98.74583013,  98.75850629,  98.7711206 ,  98.78371671,\n",
       "        98.79617948,  98.80849991,  98.82069342,  98.83283949,\n",
       "        98.84489787,  98.85687302,  98.86878068,  98.88066349,\n",
       "        98.89239159,  98.90407897,  98.91568277,  98.9272708 ,\n",
       "        98.93875425,  98.95018197,  98.96139895,  98.97250909,\n",
       "        98.98352615,  98.99452872,  99.00550293,  99.0164161 ,\n",
       "        99.02724017,  99.03798534,  99.04863898,  99.05926537,\n",
       "        99.06988491,  99.08036885,  99.09068584,  99.10094975,\n",
       "        99.11111855,  99.12116126,  99.13117532,  99.14111185,\n",
       "        99.15103573,  99.16086843,  99.17061909,  99.18030774,\n",
       "        99.18980067,  99.19921132,  99.20859838,  99.21792908,\n",
       "        99.22716223,  99.23632263,  99.24543948,  99.25447757,\n",
       "        99.26345579,  99.27237303,  99.28125935,  99.29005573,\n",
       "        99.29875245,  99.30738218,  99.31594507,  99.32442728,\n",
       "        99.33289394,  99.34125492,  99.34952048,  99.35775913,\n",
       "        99.36596112,  99.37405129,  99.38213513,  99.39007227,\n",
       "        99.39799099,  99.40581354,  99.41360133,  99.42131742,\n",
       "        99.42894129,  99.43653111,  99.44397792,  99.45136566,\n",
       "        99.45869804,  99.46599872,  99.47323892,  99.4804347 ,\n",
       "        99.487561  ,  99.49458783,  99.50154722,  99.50847725,\n",
       "        99.51527555,  99.52201655,  99.5287045 ,  99.53529462,\n",
       "        99.54177076,  99.54817047,  99.55450456,  99.56081818,\n",
       "        99.56699519,  99.57309834,  99.57910361,  99.58507826,\n",
       "        99.59097023,  99.59682481,  99.60262815,  99.60836068,\n",
       "        99.61400308,  99.61960003,  99.62513955,  99.63058756,\n",
       "        99.6360241 ,  99.64144886,  99.6467417 ,  99.65201989,\n",
       "        99.65724693,  99.66241038,  99.66752526,  99.6725904 ,\n",
       "        99.67756459,  99.68250264,  99.68740146,  99.69222806,\n",
       "        99.69697745,  99.70166994,  99.70630422,  99.71093049,\n",
       "        99.71545373,  99.71991404,  99.72425637,  99.728497  ,\n",
       "        99.73270335,  99.73689755,  99.74101975,  99.74514055,\n",
       "        99.74922472,  99.75327379,  99.75729289,  99.76114283,\n",
       "        99.76496368,  99.76876318,  99.77253334,  99.77625396,\n",
       "        99.7799426 ,  99.78358563,  99.78711416,  99.79062299,\n",
       "        99.79411847,  99.79756699,  99.80100166,  99.80442683,\n",
       "        99.80772434,  99.81098801,  99.81419211,  99.81737035,\n",
       "        99.82050945,  99.82359023,  99.82657575,  99.82954542,\n",
       "        99.83246746,  99.83536621,  99.83825824,  99.84108978,\n",
       "        99.84385966,  99.84660899,  99.8493263 ,  99.85200146,\n",
       "        99.85456637,  99.8570878 ,  99.85958408,  99.86205063,\n",
       "        99.86449688,  99.86693092,  99.86934475,  99.87174289,\n",
       "        99.87408821,  99.87642438,  99.87873415,  99.88097779,\n",
       "        99.88319409,  99.88534912,  99.88748791,  99.8896095 ,\n",
       "        99.89169543,  99.89376295,  99.89579098,  99.8977809 ,\n",
       "        99.89975576,  99.90170457,  99.90363414,  99.90553674,\n",
       "        99.90741597,  99.90925411,  99.91105802,  99.91285417,\n",
       "        99.91458093,  99.91629304,  99.91791309,  99.91952364,\n",
       "        99.92110559,  99.92268164,  99.92422212,  99.92575927,\n",
       "        99.92728346,  99.92876912,  99.93023617,  99.93167849,\n",
       "        99.93309294,  99.93448549,  99.93584892,  99.93720106,\n",
       "        99.93854417,  99.93987317,  99.94116047,  99.94241609,\n",
       "        99.94364248,  99.94486595,  99.94608075,  99.94727492,\n",
       "        99.94843432,  99.94958275,  99.9507259 ,  99.95185773,\n",
       "        99.95297884,  99.95407741,  99.95515854,  99.95621306,\n",
       "        99.95725479,  99.95828163,  99.9592839 ,  99.9602194 ,\n",
       "        99.96113929,  99.96205363,  99.96296362,  99.96385827,\n",
       "        99.96472436,  99.965569  ,  99.96637497,  99.96716128,\n",
       "        99.96794355,  99.96872193,  99.96949879,  99.9702597 ,\n",
       "        99.97101226,  99.97175392,  99.97248328,  99.97320214,\n",
       "        99.97391564,  99.9746171 ,  99.97529198,  99.97596504,\n",
       "        99.97659774,  99.97722324,  99.97783987,  99.97842285,\n",
       "        99.97898938,  99.97954027,  99.98008856,  99.98062579,\n",
       "        99.98115763,  99.98167828,  99.98216802,  99.98265264,\n",
       "        99.983136  ,  99.98361522,  99.98406988,  99.98451984,\n",
       "        99.98496635,  99.98541083,  99.98584767,  99.98626228,\n",
       "        99.98667275,  99.98706802,  99.98745637,  99.98784022,\n",
       "        99.98822079,  99.98855962,  99.98889169,  99.98921198,\n",
       "        99.98952918,  99.98984394,  99.99015534,  99.99046267,\n",
       "        99.99076814,  99.99106359,  99.99135401,  99.99164279,\n",
       "        99.99191811,  99.99217012,  99.99242031,  99.99265838,\n",
       "        99.99288901,  99.99310453,  99.99331961,  99.99353088,\n",
       "        99.99374097,  99.99394441,  99.99414565,  99.994343  ,\n",
       "        99.9945347 ,  99.99471668,  99.99489587,  99.99507044,\n",
       "        99.99524449,  99.995412  ,  99.99557556,  99.99573733,\n",
       "        99.99589658,  99.99605222,  99.9962015 ,  99.99633224,\n",
       "        99.99646237,  99.99659103,  99.99671844,  99.99683885,\n",
       "        99.9969536 ,  99.99706282,  99.99717112,  99.99727891,\n",
       "        99.99738488,  99.99748886,  99.997591  ,  99.99768993,\n",
       "        99.99778368,  99.99787614,  99.99796001,  99.99804382,\n",
       "        99.99812627,  99.99820742,  99.9982866 ,  99.99836029,\n",
       "        99.9984299 ,  99.99849645,  99.99856082,  99.99862336,\n",
       "        99.99868421,  99.99874495,  99.99880507,  99.99886216,\n",
       "        99.99891746,  99.99897233,  99.99902423,  99.99907514,\n",
       "        99.99912293,  99.99916774,  99.99921251,  99.99925449,\n",
       "        99.99929281,  99.9993307 ,  99.99936813,  99.99940476,\n",
       "        99.99943902,  99.99946815,  99.99949636,  99.99952366,\n",
       "        99.99955082,  99.99957781,  99.99960432,  99.99963024,\n",
       "        99.99965421,  99.99967523,  99.99969556,  99.99971451,\n",
       "        99.99973297,  99.99975138,  99.99976897,  99.99978464,\n",
       "        99.99980024,  99.99981482,  99.99982838,  99.99984057,\n",
       "        99.99985233,  99.99986405,  99.99987573,  99.99988704,\n",
       "        99.99989806,  99.99990724,  99.99991557,  99.99992362,\n",
       "        99.99993143,  99.99993866,  99.99994506,  99.99995093,\n",
       "        99.99995575,  99.99996053,  99.9999647 ,  99.99996852,\n",
       "        99.99997234,  99.99997562,  99.9999784 ,  99.99998109,\n",
       "        99.99998366,  99.99998575,  99.99998751,  99.99998904,\n",
       "        99.99999047,  99.9999919 ,  99.99999298,  99.99999401,\n",
       "        99.99999489,  99.99999564,  99.99999632,  99.99999692,\n",
       "        99.99999752,  99.99999799,  99.99999841,  99.99999883,\n",
       "        99.99999925,  99.99999957,  99.99999974,  99.99999982,\n",
       "        99.99999989,  99.99999995,  99.99999997,  99.99999999,\n",
       "       100.        , 100.        , 100.        , 100.        ,\n",
       "       100.        , 100.        , 100.        , 100.        ,\n",
       "       100.        , 100.        , 100.        , 100.        ,\n",
       "       100.        , 100.        , 100.        , 100.        ,\n",
       "       100.        , 100.        , 100.        , 100.        ,\n",
       "       100.        , 100.        , 100.        , 100.        ,\n",
       "       100.        , 100.        , 100.        , 100.        ,\n",
       "       100.        , 100.        , 100.        , 100.        ,\n",
       "       100.        , 100.        , 100.        , 100.        ,\n",
       "       100.        , 100.        , 100.        , 100.        ,\n",
       "       100.        , 100.        , 100.        , 100.        ,\n",
       "       100.        , 100.        , 100.        , 100.        ,\n",
       "       100.        , 100.        , 100.        , 100.        ,\n",
       "       100.        , 100.        , 100.        , 100.        ,\n",
       "       100.        , 100.        , 100.        , 100.        ,\n",
       "       100.        , 100.        , 100.        , 100.        ,\n",
       "       100.        , 100.        , 100.        , 100.        ,\n",
       "       100.        , 100.        , 100.        , 100.        ])"
      ]
     },
     "execution_count": 46,
     "metadata": {},
     "output_type": "execute_result"
    }
   ],
   "source": [
    "cum_var_exp"
   ]
  },
  {
   "cell_type": "code",
   "execution_count": 47,
   "metadata": {},
   "outputs": [],
   "source": [
    "import numpy as np"
   ]
  },
  {
   "cell_type": "code",
   "execution_count": 48,
   "metadata": {},
   "outputs": [],
   "source": [
    "arr= np.array([1,2,3,4,5,6,])"
   ]
  },
  {
   "cell_type": "code",
   "execution_count": 49,
   "metadata": {},
   "outputs": [
    {
     "data": {
      "text/plain": [
       "array([1, 2, 3, 4, 5, 6])"
      ]
     },
     "execution_count": 49,
     "metadata": {},
     "output_type": "execute_result"
    }
   ],
   "source": [
    "arr"
   ]
  },
  {
   "cell_type": "code",
   "execution_count": 50,
   "metadata": {},
   "outputs": [
    {
     "data": {
      "text/plain": [
       "array([ 1,  3,  6, 10, 15, 21], dtype=int32)"
      ]
     },
     "execution_count": 50,
     "metadata": {},
     "output_type": "execute_result"
    }
   ],
   "source": [
    "np.cumsum(arr)"
   ]
  },
  {
   "cell_type": "code",
   "execution_count": 51,
   "metadata": {},
   "outputs": [],
   "source": [
    "cum_var_exp = np.cumsum(var_exp)"
   ]
  },
  {
   "cell_type": "code",
   "execution_count": 52,
   "metadata": {
    "scrolled": true
   },
   "outputs": [
    {
     "data": {
      "text/plain": [
       "array([  9.74611592,  16.90156051,  23.05109149,  28.45447602,\n",
       "        33.34340972,  37.64863675,  40.92689828,  43.81653984,\n",
       "        46.57490404,  48.91704421,  51.02373276,  53.061286  ,\n",
       "        54.76835031,  56.46237009,  58.04575233,  59.53209723,\n",
       "        60.85145572,  62.13046998,  63.31774246,  64.47067917,\n",
       "        65.53671895,  66.54651329,  67.50566452,  68.4152996 ,\n",
       "        69.29858642,  70.13740462,  70.94723642,  71.73295432,\n",
       "        72.47321655,  73.16323071,  73.8193747 ,  74.46484499,\n",
       "        75.06566429,  75.65127604,  76.2180296 ,  76.76150026,\n",
       "        77.26621733,  77.75329675,  78.23225188,  78.69984553,\n",
       "        79.15421416,  79.59913217,  80.01734877,  80.41351268,\n",
       "        80.79722042,  81.17300523,  81.53443151,  81.88345611,\n",
       "        82.22218771,  82.54188388,  82.85873791,  83.16888282,\n",
       "        83.46536318,  83.75246462,  84.03497842,  84.30440113,\n",
       "        84.57279344,  84.82930277,  85.08247063,  85.32711866,\n",
       "        85.56682089,  85.8054019 ,  86.03463564,  86.25558463,\n",
       "        86.46864511,  86.67496257,  86.87774395,  87.07277907,\n",
       "        87.2642497 ,  87.4527992 ,  87.63977534,  87.8198796 ,\n",
       "        87.99666664,  88.17002529,  88.33487465,  88.49811169,\n",
       "        88.65951975,  88.8138238 ,  88.96084425,  89.10304373,\n",
       "        89.24405991,  89.38420615,  89.52381102,  89.65883552,\n",
       "        89.791207  ,  89.92309994,  90.05229739,  90.17746941,\n",
       "        90.29999891,  90.42041816,  90.53678109,  90.65110001,\n",
       "        90.76364693,  90.87350864,  90.9818518 ,  91.08902716,\n",
       "        91.19271931,  91.29613767,  91.39672834,  91.49666085,\n",
       "        91.59433445,  91.68849571,  91.78207856,  91.87324494,\n",
       "        91.96331897,  92.05226899,  92.1384272 ,  92.22368204,\n",
       "        92.30778207,  92.3895047 ,  92.46810708,  92.54585745,\n",
       "        92.62343851,  92.69991724,  92.77597436,  92.85085291,\n",
       "        92.923877  ,  92.99641337,  93.06799705,  93.13833756,\n",
       "        93.20751215,  93.27620413,  93.34414201,  93.41131644,\n",
       "        93.47744348,  93.5417105 ,  93.60498785,  93.66782832,\n",
       "        93.72979087,  93.78993122,  93.84995753,  93.90933702,\n",
       "        93.96796491,  94.0263099 ,  94.08420026,  94.14147499,\n",
       "        94.19781277,  94.25304243,  94.30659989,  94.35917238,\n",
       "        94.41144631,  94.4624367 ,  94.51266621,  94.56248031,\n",
       "        94.61206522,  94.66129961,  94.70967782,  94.75776783,\n",
       "        94.80492469,  94.85159607,  94.89801906,  94.94421826,\n",
       "        94.99004671,  95.03499702,  95.07971427,  95.12380474,\n",
       "        95.16760458,  95.21024207,  95.2523278 ,  95.29414526,\n",
       "        95.33544543,  95.37628694,  95.41611259,  95.45551175,\n",
       "        95.49468732,  95.53359944,  95.57193923,  95.60978789,\n",
       "        95.64743213,  95.68463847,  95.72127067,  95.75775081,\n",
       "        95.79395424,  95.82963737,  95.86501215,  95.90024152,\n",
       "        95.93490336,  95.96938227,  96.00356758,  96.03745496,\n",
       "        96.07094995,  96.10386107,  96.13664829,  96.16906546,\n",
       "        96.20134447,  96.23336006,  96.26502162,  96.29655686,\n",
       "        96.32754355,  96.35848134,  96.38906739,  96.41932203,\n",
       "        96.44944427,  96.47947601,  96.50902768,  96.53853962,\n",
       "        96.56782362,  96.59699881,  96.62566107,  96.65395399,\n",
       "        96.68211026,  96.70984685,  96.73728156,  96.7644866 ,\n",
       "        96.79133716,  96.81803215,  96.84449068,  96.87085397,\n",
       "        96.89701074,  96.92287846,  96.94862289,  96.97427829,\n",
       "        96.99972371,  97.02499884,  97.05017212,  97.07502138,\n",
       "        97.09970931,  97.12422343,  97.14847917,  97.17258523,\n",
       "        97.19665814,  97.22057392,  97.24441082,  97.26805737,\n",
       "        97.29123126,  97.31434637,  97.3372942 ,  97.36004417,\n",
       "        97.38275001,  97.40506838,  97.42715697,  97.44913304,\n",
       "        97.47087018,  97.49248219,  97.51393187,  97.53522929,\n",
       "        97.55648532,  97.57747345,  97.59840957,  97.61904128,\n",
       "        97.63950404,  97.65977903,  97.67991044,  97.69999134,\n",
       "        97.71983386,  97.7395821 ,  97.75913285,  97.77842079,\n",
       "        97.79768416,  97.81685959,  97.83594238,  97.85480962,\n",
       "        97.87353877,  97.89226036,  97.91081783,  97.92931832,\n",
       "        97.94770672,  97.96593376,  97.98413299,  98.0021305 ,\n",
       "        98.01982687,  98.03747432,  98.05503201,  98.07240997,\n",
       "        98.08971775,  98.10693985,  98.12406257,  98.14107646,\n",
       "        98.15795009,  98.17465426,  98.19131272,  98.20794362,\n",
       "        98.22434249,  98.24069078,  98.25698299,  98.27315527,\n",
       "        98.2891535 ,  98.30511385,  98.32099767,  98.33673604,\n",
       "        98.35233637,  98.36778773,  98.38314706,  98.3984511 ,\n",
       "        98.41362215,  98.42861415,  98.44356137,  98.45835849,\n",
       "        98.47313591,  98.48774585,  98.5021984 ,  98.51652039,\n",
       "        98.53079747,  98.54500598,  98.55915268,  98.5731785 ,\n",
       "        98.58695428,  98.60068544,  98.61431104,  98.62788257,\n",
       "        98.6413893 ,  98.65482561,  98.66818002,  98.68142338,\n",
       "        98.69450817,  98.7074554 ,  98.72032669,  98.73309621,\n",
       "        98.74583013,  98.75850629,  98.7711206 ,  98.78371671,\n",
       "        98.79617948,  98.80849991,  98.82069342,  98.83283949,\n",
       "        98.84489787,  98.85687302,  98.86878068,  98.88066349,\n",
       "        98.89239159,  98.90407897,  98.91568277,  98.9272708 ,\n",
       "        98.93875425,  98.95018197,  98.96139895,  98.97250909,\n",
       "        98.98352615,  98.99452872,  99.00550293,  99.0164161 ,\n",
       "        99.02724017,  99.03798534,  99.04863898,  99.05926537,\n",
       "        99.06988491,  99.08036885,  99.09068584,  99.10094975,\n",
       "        99.11111855,  99.12116126,  99.13117532,  99.14111185,\n",
       "        99.15103573,  99.16086843,  99.17061909,  99.18030774,\n",
       "        99.18980067,  99.19921132,  99.20859838,  99.21792908,\n",
       "        99.22716223,  99.23632263,  99.24543948,  99.25447757,\n",
       "        99.26345579,  99.27237303,  99.28125935,  99.29005573,\n",
       "        99.29875245,  99.30738218,  99.31594507,  99.32442728,\n",
       "        99.33289394,  99.34125492,  99.34952048,  99.35775913,\n",
       "        99.36596112,  99.37405129,  99.38213513,  99.39007227,\n",
       "        99.39799099,  99.40581354,  99.41360133,  99.42131742,\n",
       "        99.42894129,  99.43653111,  99.44397792,  99.45136566,\n",
       "        99.45869804,  99.46599872,  99.47323892,  99.4804347 ,\n",
       "        99.487561  ,  99.49458783,  99.50154722,  99.50847725,\n",
       "        99.51527555,  99.52201655,  99.5287045 ,  99.53529462,\n",
       "        99.54177076,  99.54817047,  99.55450456,  99.56081818,\n",
       "        99.56699519,  99.57309834,  99.57910361,  99.58507826,\n",
       "        99.59097023,  99.59682481,  99.60262815,  99.60836068,\n",
       "        99.61400308,  99.61960003,  99.62513955,  99.63058756,\n",
       "        99.6360241 ,  99.64144886,  99.6467417 ,  99.65201989,\n",
       "        99.65724693,  99.66241038,  99.66752526,  99.6725904 ,\n",
       "        99.67756459,  99.68250264,  99.68740146,  99.69222806,\n",
       "        99.69697745,  99.70166994,  99.70630422,  99.71093049,\n",
       "        99.71545373,  99.71991404,  99.72425637,  99.728497  ,\n",
       "        99.73270335,  99.73689755,  99.74101975,  99.74514055,\n",
       "        99.74922472,  99.75327379,  99.75729289,  99.76114283,\n",
       "        99.76496368,  99.76876318,  99.77253334,  99.77625396,\n",
       "        99.7799426 ,  99.78358563,  99.78711416,  99.79062299,\n",
       "        99.79411847,  99.79756699,  99.80100166,  99.80442683,\n",
       "        99.80772434,  99.81098801,  99.81419211,  99.81737035,\n",
       "        99.82050945,  99.82359023,  99.82657575,  99.82954542,\n",
       "        99.83246746,  99.83536621,  99.83825824,  99.84108978,\n",
       "        99.84385966,  99.84660899,  99.8493263 ,  99.85200146,\n",
       "        99.85456637,  99.8570878 ,  99.85958408,  99.86205063,\n",
       "        99.86449688,  99.86693092,  99.86934475,  99.87174289,\n",
       "        99.87408821,  99.87642438,  99.87873415,  99.88097779,\n",
       "        99.88319409,  99.88534912,  99.88748791,  99.8896095 ,\n",
       "        99.89169543,  99.89376295,  99.89579098,  99.8977809 ,\n",
       "        99.89975576,  99.90170457,  99.90363414,  99.90553674,\n",
       "        99.90741597,  99.90925411,  99.91105802,  99.91285417,\n",
       "        99.91458093,  99.91629304,  99.91791309,  99.91952364,\n",
       "        99.92110559,  99.92268164,  99.92422212,  99.92575927,\n",
       "        99.92728346,  99.92876912,  99.93023617,  99.93167849,\n",
       "        99.93309294,  99.93448549,  99.93584892,  99.93720106,\n",
       "        99.93854417,  99.93987317,  99.94116047,  99.94241609,\n",
       "        99.94364248,  99.94486595,  99.94608075,  99.94727492,\n",
       "        99.94843432,  99.94958275,  99.9507259 ,  99.95185773,\n",
       "        99.95297884,  99.95407741,  99.95515854,  99.95621306,\n",
       "        99.95725479,  99.95828163,  99.9592839 ,  99.9602194 ,\n",
       "        99.96113929,  99.96205363,  99.96296362,  99.96385827,\n",
       "        99.96472436,  99.965569  ,  99.96637497,  99.96716128,\n",
       "        99.96794355,  99.96872193,  99.96949879,  99.9702597 ,\n",
       "        99.97101226,  99.97175392,  99.97248328,  99.97320214,\n",
       "        99.97391564,  99.9746171 ,  99.97529198,  99.97596504,\n",
       "        99.97659774,  99.97722324,  99.97783987,  99.97842285,\n",
       "        99.97898938,  99.97954027,  99.98008856,  99.98062579,\n",
       "        99.98115763,  99.98167828,  99.98216802,  99.98265264,\n",
       "        99.983136  ,  99.98361522,  99.98406988,  99.98451984,\n",
       "        99.98496635,  99.98541083,  99.98584767,  99.98626228,\n",
       "        99.98667275,  99.98706802,  99.98745637,  99.98784022,\n",
       "        99.98822079,  99.98855962,  99.98889169,  99.98921198,\n",
       "        99.98952918,  99.98984394,  99.99015534,  99.99046267,\n",
       "        99.99076814,  99.99106359,  99.99135401,  99.99164279,\n",
       "        99.99191811,  99.99217012,  99.99242031,  99.99265838,\n",
       "        99.99288901,  99.99310453,  99.99331961,  99.99353088,\n",
       "        99.99374097,  99.99394441,  99.99414565,  99.994343  ,\n",
       "        99.9945347 ,  99.99471668,  99.99489587,  99.99507044,\n",
       "        99.99524449,  99.995412  ,  99.99557556,  99.99573733,\n",
       "        99.99589658,  99.99605222,  99.9962015 ,  99.99633224,\n",
       "        99.99646237,  99.99659103,  99.99671844,  99.99683885,\n",
       "        99.9969536 ,  99.99706282,  99.99717112,  99.99727891,\n",
       "        99.99738488,  99.99748886,  99.997591  ,  99.99768993,\n",
       "        99.99778368,  99.99787614,  99.99796001,  99.99804382,\n",
       "        99.99812627,  99.99820742,  99.9982866 ,  99.99836029,\n",
       "        99.9984299 ,  99.99849645,  99.99856082,  99.99862336,\n",
       "        99.99868421,  99.99874495,  99.99880507,  99.99886216,\n",
       "        99.99891746,  99.99897233,  99.99902423,  99.99907514,\n",
       "        99.99912293,  99.99916774,  99.99921251,  99.99925449,\n",
       "        99.99929281,  99.9993307 ,  99.99936813,  99.99940476,\n",
       "        99.99943902,  99.99946815,  99.99949636,  99.99952366,\n",
       "        99.99955082,  99.99957781,  99.99960432,  99.99963024,\n",
       "        99.99965421,  99.99967523,  99.99969556,  99.99971451,\n",
       "        99.99973297,  99.99975138,  99.99976897,  99.99978464,\n",
       "        99.99980024,  99.99981482,  99.99982838,  99.99984057,\n",
       "        99.99985233,  99.99986405,  99.99987573,  99.99988704,\n",
       "        99.99989806,  99.99990724,  99.99991557,  99.99992362,\n",
       "        99.99993143,  99.99993866,  99.99994506,  99.99995093,\n",
       "        99.99995575,  99.99996053,  99.9999647 ,  99.99996852,\n",
       "        99.99997234,  99.99997562,  99.9999784 ,  99.99998109,\n",
       "        99.99998366,  99.99998575,  99.99998751,  99.99998904,\n",
       "        99.99999047,  99.9999919 ,  99.99999298,  99.99999401,\n",
       "        99.99999489,  99.99999564,  99.99999632,  99.99999692,\n",
       "        99.99999752,  99.99999799,  99.99999841,  99.99999883,\n",
       "        99.99999925,  99.99999957,  99.99999974,  99.99999982,\n",
       "        99.99999989,  99.99999995,  99.99999997,  99.99999999,\n",
       "       100.        , 100.        , 100.        , 100.        ,\n",
       "       100.        , 100.        , 100.        , 100.        ,\n",
       "       100.        , 100.        , 100.        , 100.        ,\n",
       "       100.        , 100.        , 100.        , 100.        ,\n",
       "       100.        , 100.        , 100.        , 100.        ,\n",
       "       100.        , 100.        , 100.        , 100.        ,\n",
       "       100.        , 100.        , 100.        , 100.        ,\n",
       "       100.        , 100.        , 100.        , 100.        ,\n",
       "       100.        , 100.        , 100.        , 100.        ,\n",
       "       100.        , 100.        , 100.        , 100.        ,\n",
       "       100.        , 100.        , 100.        , 100.        ,\n",
       "       100.        , 100.        , 100.        , 100.        ,\n",
       "       100.        , 100.        , 100.        , 100.        ,\n",
       "       100.        , 100.        , 100.        , 100.        ,\n",
       "       100.        , 100.        , 100.        , 100.        ,\n",
       "       100.        , 100.        , 100.        , 100.        ,\n",
       "       100.        , 100.        , 100.        , 100.        ,\n",
       "       100.        , 100.        , 100.        , 100.        ])"
      ]
     },
     "execution_count": 52,
     "metadata": {},
     "output_type": "execute_result"
    }
   ],
   "source": [
    "cum_var_exp"
   ]
  },
  {
   "cell_type": "markdown",
   "metadata": {},
   "source": [
    "Plot can help you understand the level of redundancy/information present in multiple dimensions."
   ]
  },
  {
   "cell_type": "code",
   "execution_count": 53,
   "metadata": {
    "scrolled": true
   },
   "outputs": [
    {
     "data": {
      "image/png": "[encoded data removed]",
      "text/plain": [
       "<Figure size 720x360 with 1 Axes>"
      ]
     },
     "metadata": {},
     "output_type": "display_data"
    }
   ],
   "source": [
    "# PLOT OUT THE EXPLAINED VARIANCES SUPERIMPOSED \n",
    "plt.figure(figsize=(10, 5))\n",
    "plt.step(range(1, 785), cum_var_exp,label='cumulative explained variance')\n",
    "plt.title('Cumulative Explained Variance as a Function of the Number of Components')\n",
    "plt.ylabel('Cumulative Explained variance')\n",
    "plt.xlabel('Principal components')\n",
    "plt.axhline(y = 95, color='k', linestyle='--', label = '95% Explained Variance')\n",
    "plt.axhline(y = 90, color='c', linestyle='--', label = '90% Explained Variance')\n",
    "plt.axhline(y = 85, color='r', linestyle='--', label = '85% Explained Variance')\n",
    "plt.legend(loc='best')\n",
    "plt.show()"
   ]
  },
  {
   "cell_type": "markdown",
   "metadata": {},
   "source": [
    "Now plotting Image Compression against 100%, 99%, 95%, 90%, and 85% of Explained Variance"
   ]
  },
  {
   "cell_type": "code",
   "execution_count": 54,
   "metadata": {},
   "outputs": [],
   "source": [
    "def explainedVariance(percentage, images): \n",
    "    pca = PCA(percentage)\n",
    "    pca.fit(images)\n",
    "    components = pca.transform(images)\n",
    "    approxOriginal = pca.inverse_transform(components)\n",
    "    return approxOriginal"
   ]
  },
  {
   "cell_type": "code",
   "execution_count": 55,
   "metadata": {},
   "outputs": [],
   "source": [
    "pca_var=[1.0,.99,.95,.90,.85]"
   ]
  },
  {
   "cell_type": "code",
   "execution_count": 56,
   "metadata": {},
   "outputs": [
    {
     "data": {
      "text/plain": [
       "331"
      ]
     },
     "execution_count": 56,
     "metadata": {},
     "output_type": "execute_result"
    }
   ],
   "source": [
    "np.argmax(cum_var_exp > 99)+1"
   ]
  },
  {
   "cell_type": "code",
   "execution_count": 57,
   "metadata": {},
   "outputs": [
    {
     "data": {
      "text/plain": [
       "[784, 331, 154, 87, 59]"
      ]
     },
     "execution_count": 57,
     "metadata": {},
     "output_type": "execute_result"
    }
   ],
   "source": [
    "components = [784, np.argmax(cum_var_exp > 99) + 1, np.argmax(cum_var_exp > 95) + 1, np.argmax(cum_var_exp > 90) + 1, \n",
    "              np.argmax(cum_var_exp >= 85) + 1]\n",
    "components"
   ]
  },
  {
   "cell_type": "code",
   "execution_count": 58,
   "metadata": {},
   "outputs": [
    {
     "data": {
      "text/plain": [
       "'6'"
      ]
     },
     "execution_count": 58,
     "metadata": {},
     "output_type": "execute_result"
    }
   ],
   "source": [
    "Y[18]"
   ]
  },
  {
   "cell_type": "code",
   "execution_count": 59,
   "metadata": {},
   "outputs": [
    {
     "data": {
      "image/png": "[encoded data removed]",
      "text/plain": [
       "<Figure size 1296x576 with 5 Axes>"
      ]
     },
     "metadata": {},
     "output_type": "display_data"
    }
   ],
   "source": [
    "fig, axs = plt.subplots(1,5, figsize=(18, 8))\n",
    "axs = axs.ravel()\n",
    "\n",
    "for i,perc in enumerate(pca_var):\n",
    "    if perc==1.0:\n",
    "        axs[i].imshow(X[17].reshape(28,28),cmap='gray');\n",
    "        axs[i].set_xlabel(str(components[i])+' Components', fontsize = 12)\n",
    "        axs[i].set_title('Original Image', fontsize = 14)\n",
    "    else:\n",
    "        axs[i].imshow(explainedVariance(perc,X)[17].reshape(28,28),cmap='gray');\n",
    "        axs[i].set_xlabel(str(components[i])+' Components', fontsize = 12)\n",
    "        axs[i].set_title(str(int(perc*100))+'% of Explained Variance', fontsize = 14)\n",
    "  "
   ]
  },
  {
   "cell_type": "code",
   "execution_count": 60,
   "metadata": {},
   "outputs": [
    {
     "data": {
      "text/plain": [
       "'6'"
      ]
     },
     "execution_count": 60,
     "metadata": {},
     "output_type": "execute_result"
    }
   ],
   "source": [
    "Y[18]"
   ]
  },
  {
   "cell_type": "code",
   "execution_count": null,
   "metadata": {},
   "outputs": [],
   "source": []
  },
  {
   "cell_type": "code",
   "execution_count": null,
   "metadata": {},
   "outputs": [],
   "source": []
  },
  {
   "cell_type": "code",
   "execution_count": null,
   "metadata": {},
   "outputs": [],
   "source": []
  }
 ],
 "metadata": {
  "kernelspec": {
   "display_name": "Python 3 (ipykernel)",
   "language": "python",
   "name": "python3"
  },
  "language_info": {
   "codemirror_mode": {
    "name": "ipython",
    "version": 3
   },
   "file_extension": ".py",
   "mimetype": "text/x-python",
   "name": "python",
   "nbconvert_exporter": "python",
   "pygments_lexer": "ipython3",
   "version": "3.9.7"
  }
 },
 "nbformat": 4,
 "nbformat_minor": 2
}
